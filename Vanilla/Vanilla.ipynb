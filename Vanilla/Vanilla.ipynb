{
 "cells": [
  {
   "cell_type": "markdown",
   "metadata": {},
   "source": [
    "## Question 2"
   ]
  },
  {
   "cell_type": "code",
   "execution_count": 1,
   "metadata": {
    "execution": {
     "iopub.execute_input": "2025-05-19T07:41:29.360326Z",
     "iopub.status.busy": "2025-05-19T07:41:29.359710Z",
     "iopub.status.idle": "2025-05-19T07:41:38.267052Z",
     "shell.execute_reply": "2025-05-19T07:41:38.266518Z",
     "shell.execute_reply.started": "2025-05-19T07:41:29.360304Z"
    },
    "trusted": true
   },
   "outputs": [
    {
     "name": "stderr",
     "output_type": "stream",
     "text": [
      "\u001b[34m\u001b[1mwandb\u001b[0m: Using wandb-core as the SDK backend.  Please refer to https://wandb.me/wandb-core for more information.\n",
      "\u001b[34m\u001b[1mwandb\u001b[0m: \u001b[33mWARNING\u001b[0m If you're specifying your api key in code, ensure this code is not shared publicly.\n",
      "\u001b[34m\u001b[1mwandb\u001b[0m: \u001b[33mWARNING\u001b[0m Consider setting the WANDB_API_KEY environment variable, or running `wandb login` from the command line.\n",
      "\u001b[34m\u001b[1mwandb\u001b[0m: No netrc file found, creating one.\n",
      "\u001b[34m\u001b[1mwandb\u001b[0m: Appending key for api.wandb.ai to your netrc file: /root/.netrc\n",
      "\u001b[34m\u001b[1mwandb\u001b[0m: Currently logged in as: \u001b[33mda24m015\u001b[0m (\u001b[33mda24m015-iitm\u001b[0m) to \u001b[32mhttps://api.wandb.ai\u001b[0m. Use \u001b[1m`wandb login --relogin`\u001b[0m to force relogin\n"
     ]
    },
    {
     "data": {
      "text/plain": [
       "True"
      ]
     },
     "execution_count": 1,
     "metadata": {},
     "output_type": "execute_result"
    }
   ],
   "source": [
    "import wandb\n",
    "\n",
    "wandb.login(key=\"55f4fea427568f21b05f76ecad678f380953242f\")\n"
   ]
  },
  {
   "cell_type": "code",
   "execution_count": 2,
   "metadata": {
    "execution": {
     "iopub.execute_input": "2025-05-19T07:41:38.268352Z",
     "iopub.status.busy": "2025-05-19T07:41:38.268039Z",
     "iopub.status.idle": "2025-05-19T09:44:16.844424Z",
     "shell.execute_reply": "2025-05-19T09:44:16.843405Z",
     "shell.execute_reply.started": "2025-05-19T07:41:38.268335Z"
    },
    "trusted": true
   },
   "outputs": [
    {
     "name": "stdout",
     "output_type": "stream",
     "text": [
      "Create sweep with ID: czrohxns\n",
      "Sweep URL: https://wandb.ai/da24m015-iitm/dakshina-transliteration/sweeps/czrohxns\n"
     ]
    },
    {
     "name": "stderr",
     "output_type": "stream",
     "text": [
      "\u001b[34m\u001b[1mwandb\u001b[0m: Agent Starting Run: 9c2qwjrh with config:\n",
      "\u001b[34m\u001b[1mwandb\u001b[0m: \tbatch_size: 32\n",
      "\u001b[34m\u001b[1mwandb\u001b[0m: \tbeam_size: 5\n",
      "\u001b[34m\u001b[1mwandb\u001b[0m: \tcell_type: LSTM\n",
      "\u001b[34m\u001b[1mwandb\u001b[0m: \tdropout: 0.2\n",
      "\u001b[34m\u001b[1mwandb\u001b[0m: \tembed_size: 32\n",
      "\u001b[34m\u001b[1mwandb\u001b[0m: \thidden_size: 128\n",
      "\u001b[34m\u001b[1mwandb\u001b[0m: \tlr: 0.000992087704797618\n",
      "\u001b[34m\u001b[1mwandb\u001b[0m: \tnum_layers: 2\n"
     ]
    },
    {
     "data": {
      "text/html": [
       "Ignoring project 'dakshina-transliteration' when running a sweep."
      ],
      "text/plain": [
       "<IPython.core.display.HTML object>"
      ]
     },
     "metadata": {},
     "output_type": "display_data"
    },
    {
     "data": {
      "text/html": [
       "Tracking run with wandb version 0.19.9"
      ],
      "text/plain": [
       "<IPython.core.display.HTML object>"
      ]
     },
     "metadata": {},
     "output_type": "display_data"
    },
    {
     "data": {
      "text/html": [
       "Run data is saved locally in <code>/kaggle/working/wandb/run-20250519_074149-9c2qwjrh</code>"
      ],
      "text/plain": [
       "<IPython.core.display.HTML object>"
      ]
     },
     "metadata": {},
     "output_type": "display_data"
    },
    {
     "data": {
      "text/html": [
       "Syncing run <strong><a href='https://wandb.ai/da24m015-iitm/dakshina-transliteration/runs/9c2qwjrh' target=\"_blank\">devoted-sweep-1</a></strong> to <a href='https://wandb.ai/da24m015-iitm/dakshina-transliteration' target=\"_blank\">Weights & Biases</a> (<a href='https://wandb.me/developer-guide' target=\"_blank\">docs</a>)<br>Sweep page: <a href='https://wandb.ai/da24m015-iitm/dakshina-transliteration/sweeps/czrohxns' target=\"_blank\">https://wandb.ai/da24m015-iitm/dakshina-transliteration/sweeps/czrohxns</a>"
      ],
      "text/plain": [
       "<IPython.core.display.HTML object>"
      ]
     },
     "metadata": {},
     "output_type": "display_data"
    },
    {
     "data": {
      "text/html": [
       " View project at <a href='https://wandb.ai/da24m015-iitm/dakshina-transliteration' target=\"_blank\">https://wandb.ai/da24m015-iitm/dakshina-transliteration</a>"
      ],
      "text/plain": [
       "<IPython.core.display.HTML object>"
      ]
     },
     "metadata": {},
     "output_type": "display_data"
    },
    {
     "data": {
      "text/html": [
       " View sweep at <a href='https://wandb.ai/da24m015-iitm/dakshina-transliteration/sweeps/czrohxns' target=\"_blank\">https://wandb.ai/da24m015-iitm/dakshina-transliteration/sweeps/czrohxns</a>"
      ],
      "text/plain": [
       "<IPython.core.display.HTML object>"
      ]
     },
     "metadata": {},
     "output_type": "display_data"
    },
    {
     "data": {
      "text/html": [
       " View run at <a href='https://wandb.ai/da24m015-iitm/dakshina-transliteration/runs/9c2qwjrh' target=\"_blank\">https://wandb.ai/da24m015-iitm/dakshina-transliteration/runs/9c2qwjrh</a>"
      ],
      "text/plain": [
       "<IPython.core.display.HTML object>"
      ]
     },
     "metadata": {},
     "output_type": "display_data"
    },
    {
     "name": "stderr",
     "output_type": "stream",
     "text": [
      "\u001b[34m\u001b[1mwandb\u001b[0m: \u001b[33mWARNING\u001b[0m Calling wandb.run.save without any arguments is deprecated.Changes to attributes are automatically persisted.\n",
      "                                                              \r"
     ]
    },
    {
     "data": {
      "text/html": [],
      "text/plain": [
       "<IPython.core.display.HTML object>"
      ]
     },
     "metadata": {},
     "output_type": "display_data"
    },
    {
     "data": {
      "text/html": [
       "<br>    <style><br>        .wandb-row {<br>            display: flex;<br>            flex-direction: row;<br>            flex-wrap: wrap;<br>            justify-content: flex-start;<br>            width: 100%;<br>        }<br>        .wandb-col {<br>            display: flex;<br>            flex-direction: column;<br>            flex-basis: 100%;<br>            flex: 1;<br>            padding: 10px;<br>        }<br>    </style><br><div class=\"wandb-row\"><div class=\"wandb-col\"><h3>Run history:</h3><br/><table class=\"wandb\"><tr><td>epoch</td><td>▁▂▃▃▄▅▆▆▇█</td></tr><tr><td>train_accuracy</td><td>▁▅▆▆▇▇▇███</td></tr><tr><td>train_loss</td><td>█▄▃▂▂▂▁▁▁▁</td></tr><tr><td>val_accuracy</td><td>▁▄▆▆▇▇████</td></tr><tr><td>val_loss</td><td>█▄▂▁▁▁▁▁▁▁</td></tr></table><br/></div><div class=\"wandb-col\"><h3>Run summary:</h3><br/><table class=\"wandb\"><tr><td>epoch</td><td>9</td></tr><tr><td>train_accuracy</td><td>0.86349</td></tr><tr><td>train_loss</td><td>0.45686</td></tr><tr><td>val_accuracy</td><td>0.71047</td></tr><tr><td>val_loss</td><td>1.0606</td></tr></table><br/></div></div>"
      ],
      "text/plain": [
       "<IPython.core.display.HTML object>"
      ]
     },
     "metadata": {},
     "output_type": "display_data"
    },
    {
     "data": {
      "text/html": [
       " View run <strong style=\"color:#cdcd00\">cell:LSTM_embed:32_hid:128_layers:2_beam:5</strong> at: <a href='https://wandb.ai/da24m015-iitm/dakshina-transliteration/runs/9c2qwjrh' target=\"_blank\">https://wandb.ai/da24m015-iitm/dakshina-transliteration/runs/9c2qwjrh</a><br> View project at: <a href='https://wandb.ai/da24m015-iitm/dakshina-transliteration' target=\"_blank\">https://wandb.ai/da24m015-iitm/dakshina-transliteration</a><br>Synced 5 W&B file(s), 0 media file(s), 0 artifact file(s) and 0 other file(s)"
      ],
      "text/plain": [
       "<IPython.core.display.HTML object>"
      ]
     },
     "metadata": {},
     "output_type": "display_data"
    },
    {
     "data": {
      "text/html": [
       "Find logs at: <code>./wandb/run-20250519_074149-9c2qwjrh/logs</code>"
      ],
      "text/plain": [
       "<IPython.core.display.HTML object>"
      ]
     },
     "metadata": {},
     "output_type": "display_data"
    },
    {
     "name": "stderr",
     "output_type": "stream",
     "text": [
      "\u001b[34m\u001b[1mwandb\u001b[0m: Agent Starting Run: l5gkwh18 with config:\n",
      "\u001b[34m\u001b[1mwandb\u001b[0m: \tbatch_size: 32\n",
      "\u001b[34m\u001b[1mwandb\u001b[0m: \tbeam_size: 1\n",
      "\u001b[34m\u001b[1mwandb\u001b[0m: \tcell_type: GRU\n",
      "\u001b[34m\u001b[1mwandb\u001b[0m: \tdropout: 0.2\n",
      "\u001b[34m\u001b[1mwandb\u001b[0m: \tembed_size: 32\n",
      "\u001b[34m\u001b[1mwandb\u001b[0m: \thidden_size: 128\n",
      "\u001b[34m\u001b[1mwandb\u001b[0m: \tlr: 0.008606213072667047\n",
      "\u001b[34m\u001b[1mwandb\u001b[0m: \tnum_layers: 1\n"
     ]
    },
    {
     "data": {
      "text/html": [
       "Ignoring project 'dakshina-transliteration' when running a sweep."
      ],
      "text/plain": [
       "<IPython.core.display.HTML object>"
      ]
     },
     "metadata": {},
     "output_type": "display_data"
    },
    {
     "data": {
      "text/html": [
       "Tracking run with wandb version 0.19.9"
      ],
      "text/plain": [
       "<IPython.core.display.HTML object>"
      ]
     },
     "metadata": {},
     "output_type": "display_data"
    },
    {
     "data": {
      "text/html": [
       "Run data is saved locally in <code>/kaggle/working/wandb/run-20250519_074747-l5gkwh18</code>"
      ],
      "text/plain": [
       "<IPython.core.display.HTML object>"
      ]
     },
     "metadata": {},
     "output_type": "display_data"
    },
    {
     "data": {
      "text/html": [
       "Syncing run <strong><a href='https://wandb.ai/da24m015-iitm/dakshina-transliteration/runs/l5gkwh18' target=\"_blank\">sleek-sweep-2</a></strong> to <a href='https://wandb.ai/da24m015-iitm/dakshina-transliteration' target=\"_blank\">Weights & Biases</a> (<a href='https://wandb.me/developer-guide' target=\"_blank\">docs</a>)<br>Sweep page: <a href='https://wandb.ai/da24m015-iitm/dakshina-transliteration/sweeps/czrohxns' target=\"_blank\">https://wandb.ai/da24m015-iitm/dakshina-transliteration/sweeps/czrohxns</a>"
      ],
      "text/plain": [
       "<IPython.core.display.HTML object>"
      ]
     },
     "metadata": {},
     "output_type": "display_data"
    },
    {
     "data": {
      "text/html": [
       " View project at <a href='https://wandb.ai/da24m015-iitm/dakshina-transliteration' target=\"_blank\">https://wandb.ai/da24m015-iitm/dakshina-transliteration</a>"
      ],
      "text/plain": [
       "<IPython.core.display.HTML object>"
      ]
     },
     "metadata": {},
     "output_type": "display_data"
    },
    {
     "data": {
      "text/html": [
       " View sweep at <a href='https://wandb.ai/da24m015-iitm/dakshina-transliteration/sweeps/czrohxns' target=\"_blank\">https://wandb.ai/da24m015-iitm/dakshina-transliteration/sweeps/czrohxns</a>"
      ],
      "text/plain": [
       "<IPython.core.display.HTML object>"
      ]
     },
     "metadata": {},
     "output_type": "display_data"
    },
    {
     "data": {
      "text/html": [
       " View run at <a href='https://wandb.ai/da24m015-iitm/dakshina-transliteration/runs/l5gkwh18' target=\"_blank\">https://wandb.ai/da24m015-iitm/dakshina-transliteration/runs/l5gkwh18</a>"
      ],
      "text/plain": [
       "<IPython.core.display.HTML object>"
      ]
     },
     "metadata": {},
     "output_type": "display_data"
    },
    {
     "name": "stderr",
     "output_type": "stream",
     "text": [
      "                                                              \r"
     ]
    },
    {
     "data": {
      "text/html": [],
      "text/plain": [
       "<IPython.core.display.HTML object>"
      ]
     },
     "metadata": {},
     "output_type": "display_data"
    },
    {
     "data": {
      "text/html": [
       "<br>    <style><br>        .wandb-row {<br>            display: flex;<br>            flex-direction: row;<br>            flex-wrap: wrap;<br>            justify-content: flex-start;<br>            width: 100%;<br>        }<br>        .wandb-col {<br>            display: flex;<br>            flex-direction: column;<br>            flex-basis: 100%;<br>            flex: 1;<br>            padding: 10px;<br>        }<br>    </style><br><div class=\"wandb-row\"><div class=\"wandb-col\"><h3>Run history:</h3><br/><table class=\"wandb\"><tr><td>epoch</td><td>▁▂▃▃▄▅▆▆▇█</td></tr><tr><td>train_accuracy</td><td>▁▅▆▇▇▇████</td></tr><tr><td>train_loss</td><td>█▄▃▂▂▂▁▁▁▁</td></tr><tr><td>val_accuracy</td><td>▁▃▄▅▅▆▇▇▇█</td></tr><tr><td>val_loss</td><td>█▅▃▄▃▁▁▂▂▁</td></tr></table><br/></div><div class=\"wandb-col\"><h3>Run summary:</h3><br/><table class=\"wandb\"><tr><td>epoch</td><td>9</td></tr><tr><td>train_accuracy</td><td>0.72815</td></tr><tr><td>train_loss</td><td>0.88694</td></tr><tr><td>val_accuracy</td><td>0.61824</td></tr><tr><td>val_loss</td><td>1.33099</td></tr></table><br/></div></div>"
      ],
      "text/plain": [
       "<IPython.core.display.HTML object>"
      ]
     },
     "metadata": {},
     "output_type": "display_data"
    },
    {
     "data": {
      "text/html": [
       " View run <strong style=\"color:#cdcd00\">cell:GRU_embed:32_hid:128_layers:1_beam:1</strong> at: <a href='https://wandb.ai/da24m015-iitm/dakshina-transliteration/runs/l5gkwh18' target=\"_blank\">https://wandb.ai/da24m015-iitm/dakshina-transliteration/runs/l5gkwh18</a><br> View project at: <a href='https://wandb.ai/da24m015-iitm/dakshina-transliteration' target=\"_blank\">https://wandb.ai/da24m015-iitm/dakshina-transliteration</a><br>Synced 5 W&B file(s), 0 media file(s), 0 artifact file(s) and 0 other file(s)"
      ],
      "text/plain": [
       "<IPython.core.display.HTML object>"
      ]
     },
     "metadata": {},
     "output_type": "display_data"
    },
    {
     "data": {
      "text/html": [
       "Find logs at: <code>./wandb/run-20250519_074747-l5gkwh18/logs</code>"
      ],
      "text/plain": [
       "<IPython.core.display.HTML object>"
      ]
     },
     "metadata": {},
     "output_type": "display_data"
    },
    {
     "name": "stderr",
     "output_type": "stream",
     "text": [
      "\u001b[34m\u001b[1mwandb\u001b[0m: Agent Starting Run: z7et1p1k with config:\n",
      "\u001b[34m\u001b[1mwandb\u001b[0m: \tbatch_size: 64\n",
      "\u001b[34m\u001b[1mwandb\u001b[0m: \tbeam_size: 3\n",
      "\u001b[34m\u001b[1mwandb\u001b[0m: \tcell_type: LSTM\n",
      "\u001b[34m\u001b[1mwandb\u001b[0m: \tdropout: 0.2\n",
      "\u001b[34m\u001b[1mwandb\u001b[0m: \tembed_size: 128\n",
      "\u001b[34m\u001b[1mwandb\u001b[0m: \thidden_size: 128\n",
      "\u001b[34m\u001b[1mwandb\u001b[0m: \tlr: 0.003937189576086446\n",
      "\u001b[34m\u001b[1mwandb\u001b[0m: \tnum_layers: 2\n"
     ]
    },
    {
     "data": {
      "text/html": [
       "Ignoring project 'dakshina-transliteration' when running a sweep."
      ],
      "text/plain": [
       "<IPython.core.display.HTML object>"
      ]
     },
     "metadata": {},
     "output_type": "display_data"
    },
    {
     "data": {
      "text/html": [
       "Tracking run with wandb version 0.19.9"
      ],
      "text/plain": [
       "<IPython.core.display.HTML object>"
      ]
     },
     "metadata": {},
     "output_type": "display_data"
    },
    {
     "data": {
      "text/html": [
       "Run data is saved locally in <code>/kaggle/working/wandb/run-20250519_075214-z7et1p1k</code>"
      ],
      "text/plain": [
       "<IPython.core.display.HTML object>"
      ]
     },
     "metadata": {},
     "output_type": "display_data"
    },
    {
     "data": {
      "text/html": [
       "Syncing run <strong><a href='https://wandb.ai/da24m015-iitm/dakshina-transliteration/runs/z7et1p1k' target=\"_blank\">elated-sweep-3</a></strong> to <a href='https://wandb.ai/da24m015-iitm/dakshina-transliteration' target=\"_blank\">Weights & Biases</a> (<a href='https://wandb.me/developer-guide' target=\"_blank\">docs</a>)<br>Sweep page: <a href='https://wandb.ai/da24m015-iitm/dakshina-transliteration/sweeps/czrohxns' target=\"_blank\">https://wandb.ai/da24m015-iitm/dakshina-transliteration/sweeps/czrohxns</a>"
      ],
      "text/plain": [
       "<IPython.core.display.HTML object>"
      ]
     },
     "metadata": {},
     "output_type": "display_data"
    },
    {
     "data": {
      "text/html": [
       " View project at <a href='https://wandb.ai/da24m015-iitm/dakshina-transliteration' target=\"_blank\">https://wandb.ai/da24m015-iitm/dakshina-transliteration</a>"
      ],
      "text/plain": [
       "<IPython.core.display.HTML object>"
      ]
     },
     "metadata": {},
     "output_type": "display_data"
    },
    {
     "data": {
      "text/html": [
       " View sweep at <a href='https://wandb.ai/da24m015-iitm/dakshina-transliteration/sweeps/czrohxns' target=\"_blank\">https://wandb.ai/da24m015-iitm/dakshina-transliteration/sweeps/czrohxns</a>"
      ],
      "text/plain": [
       "<IPython.core.display.HTML object>"
      ]
     },
     "metadata": {},
     "output_type": "display_data"
    },
    {
     "data": {
      "text/html": [
       " View run at <a href='https://wandb.ai/da24m015-iitm/dakshina-transliteration/runs/z7et1p1k' target=\"_blank\">https://wandb.ai/da24m015-iitm/dakshina-transliteration/runs/z7et1p1k</a>"
      ],
      "text/plain": [
       "<IPython.core.display.HTML object>"
      ]
     },
     "metadata": {},
     "output_type": "display_data"
    },
    {
     "name": "stderr",
     "output_type": "stream",
     "text": [
      "                                                            \r"
     ]
    },
    {
     "data": {
      "text/html": [],
      "text/plain": [
       "<IPython.core.display.HTML object>"
      ]
     },
     "metadata": {},
     "output_type": "display_data"
    },
    {
     "data": {
      "text/html": [
       "<br>    <style><br>        .wandb-row {<br>            display: flex;<br>            flex-direction: row;<br>            flex-wrap: wrap;<br>            justify-content: flex-start;<br>            width: 100%;<br>        }<br>        .wandb-col {<br>            display: flex;<br>            flex-direction: column;<br>            flex-basis: 100%;<br>            flex: 1;<br>            padding: 10px;<br>        }<br>    </style><br><div class=\"wandb-row\"><div class=\"wandb-col\"><h3>Run history:</h3><br/><table class=\"wandb\"><tr><td>epoch</td><td>▁▂▃▃▄▅▆▆▇█</td></tr><tr><td>train_accuracy</td><td>▁▅▆▇▇▇▇███</td></tr><tr><td>train_loss</td><td>█▃▃▂▂▂▁▁▁▁</td></tr><tr><td>val_accuracy</td><td>▁▄▇▇▇▇▇███</td></tr><tr><td>val_loss</td><td>█▄▁▂▂▂▂▁▂▁</td></tr></table><br/></div><div class=\"wandb-col\"><h3>Run summary:</h3><br/><table class=\"wandb\"><tr><td>epoch</td><td>9</td></tr><tr><td>train_accuracy</td><td>0.83616</td></tr><tr><td>train_loss</td><td>0.53914</td></tr><tr><td>val_accuracy</td><td>0.70086</td></tr><tr><td>val_loss</td><td>1.09107</td></tr></table><br/></div></div>"
      ],
      "text/plain": [
       "<IPython.core.display.HTML object>"
      ]
     },
     "metadata": {},
     "output_type": "display_data"
    },
    {
     "data": {
      "text/html": [
       " View run <strong style=\"color:#cdcd00\">cell:LSTM_embed:128_hid:128_layers:2_beam:3</strong> at: <a href='https://wandb.ai/da24m015-iitm/dakshina-transliteration/runs/z7et1p1k' target=\"_blank\">https://wandb.ai/da24m015-iitm/dakshina-transliteration/runs/z7et1p1k</a><br> View project at: <a href='https://wandb.ai/da24m015-iitm/dakshina-transliteration' target=\"_blank\">https://wandb.ai/da24m015-iitm/dakshina-transliteration</a><br>Synced 5 W&B file(s), 0 media file(s), 0 artifact file(s) and 0 other file(s)"
      ],
      "text/plain": [
       "<IPython.core.display.HTML object>"
      ]
     },
     "metadata": {},
     "output_type": "display_data"
    },
    {
     "data": {
      "text/html": [
       "Find logs at: <code>./wandb/run-20250519_075214-z7et1p1k/logs</code>"
      ],
      "text/plain": [
       "<IPython.core.display.HTML object>"
      ]
     },
     "metadata": {},
     "output_type": "display_data"
    },
    {
     "name": "stderr",
     "output_type": "stream",
     "text": [
      "\u001b[34m\u001b[1mwandb\u001b[0m: Agent Starting Run: 6g7yhvpf with config:\n",
      "\u001b[34m\u001b[1mwandb\u001b[0m: \tbatch_size: 32\n",
      "\u001b[34m\u001b[1mwandb\u001b[0m: \tbeam_size: 5\n",
      "\u001b[34m\u001b[1mwandb\u001b[0m: \tcell_type: LSTM\n",
      "\u001b[34m\u001b[1mwandb\u001b[0m: \tdropout: 0.3\n",
      "\u001b[34m\u001b[1mwandb\u001b[0m: \tembed_size: 32\n",
      "\u001b[34m\u001b[1mwandb\u001b[0m: \thidden_size: 128\n",
      "\u001b[34m\u001b[1mwandb\u001b[0m: \tlr: 0.0006891149057710191\n",
      "\u001b[34m\u001b[1mwandb\u001b[0m: \tnum_layers: 2\n"
     ]
    },
    {
     "data": {
      "text/html": [
       "Ignoring project 'dakshina-transliteration' when running a sweep."
      ],
      "text/plain": [
       "<IPython.core.display.HTML object>"
      ]
     },
     "metadata": {},
     "output_type": "display_data"
    },
    {
     "data": {
      "text/html": [
       "Tracking run with wandb version 0.19.9"
      ],
      "text/plain": [
       "<IPython.core.display.HTML object>"
      ]
     },
     "metadata": {},
     "output_type": "display_data"
    },
    {
     "data": {
      "text/html": [
       "Run data is saved locally in <code>/kaggle/working/wandb/run-20250519_075541-6g7yhvpf</code>"
      ],
      "text/plain": [
       "<IPython.core.display.HTML object>"
      ]
     },
     "metadata": {},
     "output_type": "display_data"
    },
    {
     "data": {
      "text/html": [
       "Syncing run <strong><a href='https://wandb.ai/da24m015-iitm/dakshina-transliteration/runs/6g7yhvpf' target=\"_blank\">wild-sweep-4</a></strong> to <a href='https://wandb.ai/da24m015-iitm/dakshina-transliteration' target=\"_blank\">Weights & Biases</a> (<a href='https://wandb.me/developer-guide' target=\"_blank\">docs</a>)<br>Sweep page: <a href='https://wandb.ai/da24m015-iitm/dakshina-transliteration/sweeps/czrohxns' target=\"_blank\">https://wandb.ai/da24m015-iitm/dakshina-transliteration/sweeps/czrohxns</a>"
      ],
      "text/plain": [
       "<IPython.core.display.HTML object>"
      ]
     },
     "metadata": {},
     "output_type": "display_data"
    },
    {
     "data": {
      "text/html": [
       " View project at <a href='https://wandb.ai/da24m015-iitm/dakshina-transliteration' target=\"_blank\">https://wandb.ai/da24m015-iitm/dakshina-transliteration</a>"
      ],
      "text/plain": [
       "<IPython.core.display.HTML object>"
      ]
     },
     "metadata": {},
     "output_type": "display_data"
    },
    {
     "data": {
      "text/html": [
       " View sweep at <a href='https://wandb.ai/da24m015-iitm/dakshina-transliteration/sweeps/czrohxns' target=\"_blank\">https://wandb.ai/da24m015-iitm/dakshina-transliteration/sweeps/czrohxns</a>"
      ],
      "text/plain": [
       "<IPython.core.display.HTML object>"
      ]
     },
     "metadata": {},
     "output_type": "display_data"
    },
    {
     "data": {
      "text/html": [
       " View run at <a href='https://wandb.ai/da24m015-iitm/dakshina-transliteration/runs/6g7yhvpf' target=\"_blank\">https://wandb.ai/da24m015-iitm/dakshina-transliteration/runs/6g7yhvpf</a>"
      ],
      "text/plain": [
       "<IPython.core.display.HTML object>"
      ]
     },
     "metadata": {},
     "output_type": "display_data"
    },
    {
     "name": "stderr",
     "output_type": "stream",
     "text": [
      "                                                              \r"
     ]
    },
    {
     "data": {
      "text/html": [],
      "text/plain": [
       "<IPython.core.display.HTML object>"
      ]
     },
     "metadata": {},
     "output_type": "display_data"
    },
    {
     "data": {
      "text/html": [
       "<br>    <style><br>        .wandb-row {<br>            display: flex;<br>            flex-direction: row;<br>            flex-wrap: wrap;<br>            justify-content: flex-start;<br>            width: 100%;<br>        }<br>        .wandb-col {<br>            display: flex;<br>            flex-direction: column;<br>            flex-basis: 100%;<br>            flex: 1;<br>            padding: 10px;<br>        }<br>    </style><br><div class=\"wandb-row\"><div class=\"wandb-col\"><h3>Run history:</h3><br/><table class=\"wandb\"><tr><td>epoch</td><td>▁▂▃▃▄▅▆▆▇█</td></tr><tr><td>train_accuracy</td><td>▁▅▆▆▇▇▇███</td></tr><tr><td>train_loss</td><td>█▄▃▂▂▂▁▁▁▁</td></tr><tr><td>val_accuracy</td><td>▁▄▆▆▇▇▇███</td></tr><tr><td>val_loss</td><td>█▄▃▂▂▂▁▁▁▁</td></tr></table><br/></div><div class=\"wandb-col\"><h3>Run summary:</h3><br/><table class=\"wandb\"><tr><td>epoch</td><td>9</td></tr><tr><td>train_accuracy</td><td>0.83147</td></tr><tr><td>train_loss</td><td>0.5547</td></tr><tr><td>val_accuracy</td><td>0.70938</td></tr><tr><td>val_loss</td><td>1.05136</td></tr></table><br/></div></div>"
      ],
      "text/plain": [
       "<IPython.core.display.HTML object>"
      ]
     },
     "metadata": {},
     "output_type": "display_data"
    },
    {
     "data": {
      "text/html": [
       " View run <strong style=\"color:#cdcd00\">cell:LSTM_embed:32_hid:128_layers:2_beam:5</strong> at: <a href='https://wandb.ai/da24m015-iitm/dakshina-transliteration/runs/6g7yhvpf' target=\"_blank\">https://wandb.ai/da24m015-iitm/dakshina-transliteration/runs/6g7yhvpf</a><br> View project at: <a href='https://wandb.ai/da24m015-iitm/dakshina-transliteration' target=\"_blank\">https://wandb.ai/da24m015-iitm/dakshina-transliteration</a><br>Synced 5 W&B file(s), 0 media file(s), 0 artifact file(s) and 0 other file(s)"
      ],
      "text/plain": [
       "<IPython.core.display.HTML object>"
      ]
     },
     "metadata": {},
     "output_type": "display_data"
    },
    {
     "data": {
      "text/html": [
       "Find logs at: <code>./wandb/run-20250519_075541-6g7yhvpf/logs</code>"
      ],
      "text/plain": [
       "<IPython.core.display.HTML object>"
      ]
     },
     "metadata": {},
     "output_type": "display_data"
    },
    {
     "name": "stderr",
     "output_type": "stream",
     "text": [
      "\u001b[34m\u001b[1mwandb\u001b[0m: Agent Starting Run: l9o9i0kc with config:\n",
      "\u001b[34m\u001b[1mwandb\u001b[0m: \tbatch_size: 64\n",
      "\u001b[34m\u001b[1mwandb\u001b[0m: \tbeam_size: 5\n",
      "\u001b[34m\u001b[1mwandb\u001b[0m: \tcell_type: LSTM\n",
      "\u001b[34m\u001b[1mwandb\u001b[0m: \tdropout: 0.3\n",
      "\u001b[34m\u001b[1mwandb\u001b[0m: \tembed_size: 128\n",
      "\u001b[34m\u001b[1mwandb\u001b[0m: \thidden_size: 128\n",
      "\u001b[34m\u001b[1mwandb\u001b[0m: \tlr: 0.0019436347761833332\n",
      "\u001b[34m\u001b[1mwandb\u001b[0m: \tnum_layers: 2\n"
     ]
    },
    {
     "data": {
      "text/html": [
       "Ignoring project 'dakshina-transliteration' when running a sweep."
      ],
      "text/plain": [
       "<IPython.core.display.HTML object>"
      ]
     },
     "metadata": {},
     "output_type": "display_data"
    },
    {
     "data": {
      "text/html": [
       "Tracking run with wandb version 0.19.9"
      ],
      "text/plain": [
       "<IPython.core.display.HTML object>"
      ]
     },
     "metadata": {},
     "output_type": "display_data"
    },
    {
     "data": {
      "text/html": [
       "Run data is saved locally in <code>/kaggle/working/wandb/run-20250519_080138-l9o9i0kc</code>"
      ],
      "text/plain": [
       "<IPython.core.display.HTML object>"
      ]
     },
     "metadata": {},
     "output_type": "display_data"
    },
    {
     "data": {
      "text/html": [
       "Syncing run <strong><a href='https://wandb.ai/da24m015-iitm/dakshina-transliteration/runs/l9o9i0kc' target=\"_blank\">hearty-sweep-5</a></strong> to <a href='https://wandb.ai/da24m015-iitm/dakshina-transliteration' target=\"_blank\">Weights & Biases</a> (<a href='https://wandb.me/developer-guide' target=\"_blank\">docs</a>)<br>Sweep page: <a href='https://wandb.ai/da24m015-iitm/dakshina-transliteration/sweeps/czrohxns' target=\"_blank\">https://wandb.ai/da24m015-iitm/dakshina-transliteration/sweeps/czrohxns</a>"
      ],
      "text/plain": [
       "<IPython.core.display.HTML object>"
      ]
     },
     "metadata": {},
     "output_type": "display_data"
    },
    {
     "data": {
      "text/html": [
       " View project at <a href='https://wandb.ai/da24m015-iitm/dakshina-transliteration' target=\"_blank\">https://wandb.ai/da24m015-iitm/dakshina-transliteration</a>"
      ],
      "text/plain": [
       "<IPython.core.display.HTML object>"
      ]
     },
     "metadata": {},
     "output_type": "display_data"
    },
    {
     "data": {
      "text/html": [
       " View sweep at <a href='https://wandb.ai/da24m015-iitm/dakshina-transliteration/sweeps/czrohxns' target=\"_blank\">https://wandb.ai/da24m015-iitm/dakshina-transliteration/sweeps/czrohxns</a>"
      ],
      "text/plain": [
       "<IPython.core.display.HTML object>"
      ]
     },
     "metadata": {},
     "output_type": "display_data"
    },
    {
     "data": {
      "text/html": [
       " View run at <a href='https://wandb.ai/da24m015-iitm/dakshina-transliteration/runs/l9o9i0kc' target=\"_blank\">https://wandb.ai/da24m015-iitm/dakshina-transliteration/runs/l9o9i0kc</a>"
      ],
      "text/plain": [
       "<IPython.core.display.HTML object>"
      ]
     },
     "metadata": {},
     "output_type": "display_data"
    },
    {
     "name": "stderr",
     "output_type": "stream",
     "text": [
      "                                                            \r"
     ]
    },
    {
     "data": {
      "text/html": [],
      "text/plain": [
       "<IPython.core.display.HTML object>"
      ]
     },
     "metadata": {},
     "output_type": "display_data"
    },
    {
     "data": {
      "text/html": [
       "<br>    <style><br>        .wandb-row {<br>            display: flex;<br>            flex-direction: row;<br>            flex-wrap: wrap;<br>            justify-content: flex-start;<br>            width: 100%;<br>        }<br>        .wandb-col {<br>            display: flex;<br>            flex-direction: column;<br>            flex-basis: 100%;<br>            flex: 1;<br>            padding: 10px;<br>        }<br>    </style><br><div class=\"wandb-row\"><div class=\"wandb-col\"><h3>Run history:</h3><br/><table class=\"wandb\"><tr><td>epoch</td><td>▁▂▃▃▄▅▆▆▇█</td></tr><tr><td>train_accuracy</td><td>▁▅▆▇▇▇████</td></tr><tr><td>train_loss</td><td>█▄▃▂▂▂▁▁▁▁</td></tr><tr><td>val_accuracy</td><td>▁▄▆▆▇▇▇█▇█</td></tr><tr><td>val_loss</td><td>█▄▃▂▂▁▂▂▂▁</td></tr></table><br/></div><div class=\"wandb-col\"><h3>Run summary:</h3><br/><table class=\"wandb\"><tr><td>epoch</td><td>9</td></tr><tr><td>train_accuracy</td><td>0.84628</td></tr><tr><td>train_loss</td><td>0.50764</td></tr><tr><td>val_accuracy</td><td>0.71605</td></tr><tr><td>val_loss</td><td>1.05845</td></tr></table><br/></div></div>"
      ],
      "text/plain": [
       "<IPython.core.display.HTML object>"
      ]
     },
     "metadata": {},
     "output_type": "display_data"
    },
    {
     "data": {
      "text/html": [
       " View run <strong style=\"color:#cdcd00\">cell:LSTM_embed:128_hid:128_layers:2_beam:5</strong> at: <a href='https://wandb.ai/da24m015-iitm/dakshina-transliteration/runs/l9o9i0kc' target=\"_blank\">https://wandb.ai/da24m015-iitm/dakshina-transliteration/runs/l9o9i0kc</a><br> View project at: <a href='https://wandb.ai/da24m015-iitm/dakshina-transliteration' target=\"_blank\">https://wandb.ai/da24m015-iitm/dakshina-transliteration</a><br>Synced 5 W&B file(s), 0 media file(s), 0 artifact file(s) and 0 other file(s)"
      ],
      "text/plain": [
       "<IPython.core.display.HTML object>"
      ]
     },
     "metadata": {},
     "output_type": "display_data"
    },
    {
     "data": {
      "text/html": [
       "Find logs at: <code>./wandb/run-20250519_080138-l9o9i0kc/logs</code>"
      ],
      "text/plain": [
       "<IPython.core.display.HTML object>"
      ]
     },
     "metadata": {},
     "output_type": "display_data"
    },
    {
     "name": "stderr",
     "output_type": "stream",
     "text": [
      "\u001b[34m\u001b[1mwandb\u001b[0m: Agent Starting Run: ao33tm9z with config:\n",
      "\u001b[34m\u001b[1mwandb\u001b[0m: \tbatch_size: 64\n",
      "\u001b[34m\u001b[1mwandb\u001b[0m: \tbeam_size: 5\n",
      "\u001b[34m\u001b[1mwandb\u001b[0m: \tcell_type: LSTM\n",
      "\u001b[34m\u001b[1mwandb\u001b[0m: \tdropout: 0.3\n",
      "\u001b[34m\u001b[1mwandb\u001b[0m: \tembed_size: 64\n",
      "\u001b[34m\u001b[1mwandb\u001b[0m: \thidden_size: 32\n",
      "\u001b[34m\u001b[1mwandb\u001b[0m: \tlr: 0.00019906993050119336\n",
      "\u001b[34m\u001b[1mwandb\u001b[0m: \tnum_layers: 2\n"
     ]
    },
    {
     "data": {
      "text/html": [
       "Ignoring project 'dakshina-transliteration' when running a sweep."
      ],
      "text/plain": [
       "<IPython.core.display.HTML object>"
      ]
     },
     "metadata": {},
     "output_type": "display_data"
    },
    {
     "data": {
      "text/html": [
       "Tracking run with wandb version 0.19.9"
      ],
      "text/plain": [
       "<IPython.core.display.HTML object>"
      ]
     },
     "metadata": {},
     "output_type": "display_data"
    },
    {
     "data": {
      "text/html": [
       "Run data is saved locally in <code>/kaggle/working/wandb/run-20250519_080504-ao33tm9z</code>"
      ],
      "text/plain": [
       "<IPython.core.display.HTML object>"
      ]
     },
     "metadata": {},
     "output_type": "display_data"
    },
    {
     "data": {
      "text/html": [
       "Syncing run <strong><a href='https://wandb.ai/da24m015-iitm/dakshina-transliteration/runs/ao33tm9z' target=\"_blank\">crisp-sweep-6</a></strong> to <a href='https://wandb.ai/da24m015-iitm/dakshina-transliteration' target=\"_blank\">Weights & Biases</a> (<a href='https://wandb.me/developer-guide' target=\"_blank\">docs</a>)<br>Sweep page: <a href='https://wandb.ai/da24m015-iitm/dakshina-transliteration/sweeps/czrohxns' target=\"_blank\">https://wandb.ai/da24m015-iitm/dakshina-transliteration/sweeps/czrohxns</a>"
      ],
      "text/plain": [
       "<IPython.core.display.HTML object>"
      ]
     },
     "metadata": {},
     "output_type": "display_data"
    },
    {
     "data": {
      "text/html": [
       " View project at <a href='https://wandb.ai/da24m015-iitm/dakshina-transliteration' target=\"_blank\">https://wandb.ai/da24m015-iitm/dakshina-transliteration</a>"
      ],
      "text/plain": [
       "<IPython.core.display.HTML object>"
      ]
     },
     "metadata": {},
     "output_type": "display_data"
    },
    {
     "data": {
      "text/html": [
       " View sweep at <a href='https://wandb.ai/da24m015-iitm/dakshina-transliteration/sweeps/czrohxns' target=\"_blank\">https://wandb.ai/da24m015-iitm/dakshina-transliteration/sweeps/czrohxns</a>"
      ],
      "text/plain": [
       "<IPython.core.display.HTML object>"
      ]
     },
     "metadata": {},
     "output_type": "display_data"
    },
    {
     "data": {
      "text/html": [
       " View run at <a href='https://wandb.ai/da24m015-iitm/dakshina-transliteration/runs/ao33tm9z' target=\"_blank\">https://wandb.ai/da24m015-iitm/dakshina-transliteration/runs/ao33tm9z</a>"
      ],
      "text/plain": [
       "<IPython.core.display.HTML object>"
      ]
     },
     "metadata": {},
     "output_type": "display_data"
    },
    {
     "name": "stderr",
     "output_type": "stream",
     "text": [
      "                                                            \r"
     ]
    },
    {
     "data": {
      "text/html": [],
      "text/plain": [
       "<IPython.core.display.HTML object>"
      ]
     },
     "metadata": {},
     "output_type": "display_data"
    },
    {
     "data": {
      "text/html": [
       "<br>    <style><br>        .wandb-row {<br>            display: flex;<br>            flex-direction: row;<br>            flex-wrap: wrap;<br>            justify-content: flex-start;<br>            width: 100%;<br>        }<br>        .wandb-col {<br>            display: flex;<br>            flex-direction: column;<br>            flex-basis: 100%;<br>            flex: 1;<br>            padding: 10px;<br>        }<br>    </style><br><div class=\"wandb-row\"><div class=\"wandb-col\"><h3>Run history:</h3><br/><table class=\"wandb\"><tr><td>epoch</td><td>▁▂▃▃▄▅▆▆▇█</td></tr><tr><td>train_accuracy</td><td>▁▃▄▅▅▆▇▇██</td></tr><tr><td>train_loss</td><td>█▆▅▄▃▃▂▂▁▁</td></tr><tr><td>val_accuracy</td><td>▁▂▄▄▅▆▇▇██</td></tr><tr><td>val_loss</td><td>█▇▅▄▃▃▂▂▁▁</td></tr></table><br/></div><div class=\"wandb-col\"><h3>Run summary:</h3><br/><table class=\"wandb\"><tr><td>epoch</td><td>9</td></tr><tr><td>train_accuracy</td><td>0.44904</td></tr><tr><td>train_loss</td><td>1.90271</td></tr><tr><td>val_accuracy</td><td>0.42777</td></tr><tr><td>val_loss</td><td>1.97631</td></tr></table><br/></div></div>"
      ],
      "text/plain": [
       "<IPython.core.display.HTML object>"
      ]
     },
     "metadata": {},
     "output_type": "display_data"
    },
    {
     "data": {
      "text/html": [
       " View run <strong style=\"color:#cdcd00\">cell:LSTM_embed:64_hid:32_layers:2_beam:5</strong> at: <a href='https://wandb.ai/da24m015-iitm/dakshina-transliteration/runs/ao33tm9z' target=\"_blank\">https://wandb.ai/da24m015-iitm/dakshina-transliteration/runs/ao33tm9z</a><br> View project at: <a href='https://wandb.ai/da24m015-iitm/dakshina-transliteration' target=\"_blank\">https://wandb.ai/da24m015-iitm/dakshina-transliteration</a><br>Synced 5 W&B file(s), 0 media file(s), 0 artifact file(s) and 0 other file(s)"
      ],
      "text/plain": [
       "<IPython.core.display.HTML object>"
      ]
     },
     "metadata": {},
     "output_type": "display_data"
    },
    {
     "data": {
      "text/html": [
       "Find logs at: <code>./wandb/run-20250519_080504-ao33tm9z/logs</code>"
      ],
      "text/plain": [
       "<IPython.core.display.HTML object>"
      ]
     },
     "metadata": {},
     "output_type": "display_data"
    },
    {
     "name": "stderr",
     "output_type": "stream",
     "text": [
      "\u001b[34m\u001b[1mwandb\u001b[0m: Agent Starting Run: s94p1hpl with config:\n",
      "\u001b[34m\u001b[1mwandb\u001b[0m: \tbatch_size: 64\n",
      "\u001b[34m\u001b[1mwandb\u001b[0m: \tbeam_size: 5\n",
      "\u001b[34m\u001b[1mwandb\u001b[0m: \tcell_type: LSTM\n",
      "\u001b[34m\u001b[1mwandb\u001b[0m: \tdropout: 0.3\n",
      "\u001b[34m\u001b[1mwandb\u001b[0m: \tembed_size: 64\n",
      "\u001b[34m\u001b[1mwandb\u001b[0m: \thidden_size: 128\n",
      "\u001b[34m\u001b[1mwandb\u001b[0m: \tlr: 0.0014239513617746492\n",
      "\u001b[34m\u001b[1mwandb\u001b[0m: \tnum_layers: 2\n"
     ]
    },
    {
     "data": {
      "text/html": [
       "Ignoring project 'dakshina-transliteration' when running a sweep."
      ],
      "text/plain": [
       "<IPython.core.display.HTML object>"
      ]
     },
     "metadata": {},
     "output_type": "display_data"
    },
    {
     "data": {
      "text/html": [
       "Tracking run with wandb version 0.19.9"
      ],
      "text/plain": [
       "<IPython.core.display.HTML object>"
      ]
     },
     "metadata": {},
     "output_type": "display_data"
    },
    {
     "data": {
      "text/html": [
       "Run data is saved locally in <code>/kaggle/working/wandb/run-20250519_080826-s94p1hpl</code>"
      ],
      "text/plain": [
       "<IPython.core.display.HTML object>"
      ]
     },
     "metadata": {},
     "output_type": "display_data"
    },
    {
     "data": {
      "text/html": [
       "Syncing run <strong><a href='https://wandb.ai/da24m015-iitm/dakshina-transliteration/runs/s94p1hpl' target=\"_blank\">classic-sweep-7</a></strong> to <a href='https://wandb.ai/da24m015-iitm/dakshina-transliteration' target=\"_blank\">Weights & Biases</a> (<a href='https://wandb.me/developer-guide' target=\"_blank\">docs</a>)<br>Sweep page: <a href='https://wandb.ai/da24m015-iitm/dakshina-transliteration/sweeps/czrohxns' target=\"_blank\">https://wandb.ai/da24m015-iitm/dakshina-transliteration/sweeps/czrohxns</a>"
      ],
      "text/plain": [
       "<IPython.core.display.HTML object>"
      ]
     },
     "metadata": {},
     "output_type": "display_data"
    },
    {
     "data": {
      "text/html": [
       " View project at <a href='https://wandb.ai/da24m015-iitm/dakshina-transliteration' target=\"_blank\">https://wandb.ai/da24m015-iitm/dakshina-transliteration</a>"
      ],
      "text/plain": [
       "<IPython.core.display.HTML object>"
      ]
     },
     "metadata": {},
     "output_type": "display_data"
    },
    {
     "data": {
      "text/html": [
       " View sweep at <a href='https://wandb.ai/da24m015-iitm/dakshina-transliteration/sweeps/czrohxns' target=\"_blank\">https://wandb.ai/da24m015-iitm/dakshina-transliteration/sweeps/czrohxns</a>"
      ],
      "text/plain": [
       "<IPython.core.display.HTML object>"
      ]
     },
     "metadata": {},
     "output_type": "display_data"
    },
    {
     "data": {
      "text/html": [
       " View run at <a href='https://wandb.ai/da24m015-iitm/dakshina-transliteration/runs/s94p1hpl' target=\"_blank\">https://wandb.ai/da24m015-iitm/dakshina-transliteration/runs/s94p1hpl</a>"
      ],
      "text/plain": [
       "<IPython.core.display.HTML object>"
      ]
     },
     "metadata": {},
     "output_type": "display_data"
    },
    {
     "name": "stderr",
     "output_type": "stream",
     "text": [
      "                                                            \r"
     ]
    },
    {
     "data": {
      "text/html": [],
      "text/plain": [
       "<IPython.core.display.HTML object>"
      ]
     },
     "metadata": {},
     "output_type": "display_data"
    },
    {
     "data": {
      "text/html": [
       "<br>    <style><br>        .wandb-row {<br>            display: flex;<br>            flex-direction: row;<br>            flex-wrap: wrap;<br>            justify-content: flex-start;<br>            width: 100%;<br>        }<br>        .wandb-col {<br>            display: flex;<br>            flex-direction: column;<br>            flex-basis: 100%;<br>            flex: 1;<br>            padding: 10px;<br>        }<br>    </style><br><div class=\"wandb-row\"><div class=\"wandb-col\"><h3>Run history:</h3><br/><table class=\"wandb\"><tr><td>epoch</td><td>▁▂▃▃▄▅▆▆▇█</td></tr><tr><td>train_accuracy</td><td>▁▅▆▇▇▇▇███</td></tr><tr><td>train_loss</td><td>█▄▃▂▂▂▁▁▁▁</td></tr><tr><td>val_accuracy</td><td>▁▄▆▇▇▇▇███</td></tr><tr><td>val_loss</td><td>█▄▃▂▁▁▁▁▁▁</td></tr></table><br/></div><div class=\"wandb-col\"><h3>Run summary:</h3><br/><table class=\"wandb\"><tr><td>epoch</td><td>9</td></tr><tr><td>train_accuracy</td><td>0.84881</td></tr><tr><td>train_loss</td><td>0.49865</td></tr><tr><td>val_accuracy</td><td>0.71048</td></tr><tr><td>val_loss</td><td>1.05895</td></tr></table><br/></div></div>"
      ],
      "text/plain": [
       "<IPython.core.display.HTML object>"
      ]
     },
     "metadata": {},
     "output_type": "display_data"
    },
    {
     "data": {
      "text/html": [
       " View run <strong style=\"color:#cdcd00\">cell:LSTM_embed:64_hid:128_layers:2_beam:5</strong> at: <a href='https://wandb.ai/da24m015-iitm/dakshina-transliteration/runs/s94p1hpl' target=\"_blank\">https://wandb.ai/da24m015-iitm/dakshina-transliteration/runs/s94p1hpl</a><br> View project at: <a href='https://wandb.ai/da24m015-iitm/dakshina-transliteration' target=\"_blank\">https://wandb.ai/da24m015-iitm/dakshina-transliteration</a><br>Synced 5 W&B file(s), 0 media file(s), 0 artifact file(s) and 0 other file(s)"
      ],
      "text/plain": [
       "<IPython.core.display.HTML object>"
      ]
     },
     "metadata": {},
     "output_type": "display_data"
    },
    {
     "data": {
      "text/html": [
       "Find logs at: <code>./wandb/run-20250519_080826-s94p1hpl/logs</code>"
      ],
      "text/plain": [
       "<IPython.core.display.HTML object>"
      ]
     },
     "metadata": {},
     "output_type": "display_data"
    },
    {
     "name": "stderr",
     "output_type": "stream",
     "text": [
      "\u001b[34m\u001b[1mwandb\u001b[0m: Agent Starting Run: 0pvynyiz with config:\n",
      "\u001b[34m\u001b[1mwandb\u001b[0m: \tbatch_size: 64\n",
      "\u001b[34m\u001b[1mwandb\u001b[0m: \tbeam_size: 5\n",
      "\u001b[34m\u001b[1mwandb\u001b[0m: \tcell_type: LSTM\n",
      "\u001b[34m\u001b[1mwandb\u001b[0m: \tdropout: 0.2\n",
      "\u001b[34m\u001b[1mwandb\u001b[0m: \tembed_size: 64\n",
      "\u001b[34m\u001b[1mwandb\u001b[0m: \thidden_size: 128\n",
      "\u001b[34m\u001b[1mwandb\u001b[0m: \tlr: 0.0012057267148654614\n",
      "\u001b[34m\u001b[1mwandb\u001b[0m: \tnum_layers: 2\n"
     ]
    },
    {
     "data": {
      "text/html": [
       "Ignoring project 'dakshina-transliteration' when running a sweep."
      ],
      "text/plain": [
       "<IPython.core.display.HTML object>"
      ]
     },
     "metadata": {},
     "output_type": "display_data"
    },
    {
     "data": {
      "text/html": [
       "Tracking run with wandb version 0.19.9"
      ],
      "text/plain": [
       "<IPython.core.display.HTML object>"
      ]
     },
     "metadata": {},
     "output_type": "display_data"
    },
    {
     "data": {
      "text/html": [
       "Run data is saved locally in <code>/kaggle/working/wandb/run-20250519_081152-0pvynyiz</code>"
      ],
      "text/plain": [
       "<IPython.core.display.HTML object>"
      ]
     },
     "metadata": {},
     "output_type": "display_data"
    },
    {
     "data": {
      "text/html": [
       "Syncing run <strong><a href='https://wandb.ai/da24m015-iitm/dakshina-transliteration/runs/0pvynyiz' target=\"_blank\">lucky-sweep-8</a></strong> to <a href='https://wandb.ai/da24m015-iitm/dakshina-transliteration' target=\"_blank\">Weights & Biases</a> (<a href='https://wandb.me/developer-guide' target=\"_blank\">docs</a>)<br>Sweep page: <a href='https://wandb.ai/da24m015-iitm/dakshina-transliteration/sweeps/czrohxns' target=\"_blank\">https://wandb.ai/da24m015-iitm/dakshina-transliteration/sweeps/czrohxns</a>"
      ],
      "text/plain": [
       "<IPython.core.display.HTML object>"
      ]
     },
     "metadata": {},
     "output_type": "display_data"
    },
    {
     "data": {
      "text/html": [
       " View project at <a href='https://wandb.ai/da24m015-iitm/dakshina-transliteration' target=\"_blank\">https://wandb.ai/da24m015-iitm/dakshina-transliteration</a>"
      ],
      "text/plain": [
       "<IPython.core.display.HTML object>"
      ]
     },
     "metadata": {},
     "output_type": "display_data"
    },
    {
     "data": {
      "text/html": [
       " View sweep at <a href='https://wandb.ai/da24m015-iitm/dakshina-transliteration/sweeps/czrohxns' target=\"_blank\">https://wandb.ai/da24m015-iitm/dakshina-transliteration/sweeps/czrohxns</a>"
      ],
      "text/plain": [
       "<IPython.core.display.HTML object>"
      ]
     },
     "metadata": {},
     "output_type": "display_data"
    },
    {
     "data": {
      "text/html": [
       " View run at <a href='https://wandb.ai/da24m015-iitm/dakshina-transliteration/runs/0pvynyiz' target=\"_blank\">https://wandb.ai/da24m015-iitm/dakshina-transliteration/runs/0pvynyiz</a>"
      ],
      "text/plain": [
       "<IPython.core.display.HTML object>"
      ]
     },
     "metadata": {},
     "output_type": "display_data"
    },
    {
     "name": "stderr",
     "output_type": "stream",
     "text": [
      "                                                            \r"
     ]
    },
    {
     "data": {
      "text/html": [],
      "text/plain": [
       "<IPython.core.display.HTML object>"
      ]
     },
     "metadata": {},
     "output_type": "display_data"
    },
    {
     "data": {
      "text/html": [
       "<br>    <style><br>        .wandb-row {<br>            display: flex;<br>            flex-direction: row;<br>            flex-wrap: wrap;<br>            justify-content: flex-start;<br>            width: 100%;<br>        }<br>        .wandb-col {<br>            display: flex;<br>            flex-direction: column;<br>            flex-basis: 100%;<br>            flex: 1;<br>            padding: 10px;<br>        }<br>    </style><br><div class=\"wandb-row\"><div class=\"wandb-col\"><h3>Run history:</h3><br/><table class=\"wandb\"><tr><td>epoch</td><td>▁▂▃▃▄▅▆▆▇█</td></tr><tr><td>train_accuracy</td><td>▁▅▆▇▇▇▇███</td></tr><tr><td>train_loss</td><td>█▄▃▂▂▂▁▁▁▁</td></tr><tr><td>val_accuracy</td><td>▁▅▆▆▇▇████</td></tr><tr><td>val_loss</td><td>█▄▂▂▁▁▁▁▁▁</td></tr></table><br/></div><div class=\"wandb-col\"><h3>Run summary:</h3><br/><table class=\"wandb\"><tr><td>epoch</td><td>9</td></tr><tr><td>train_accuracy</td><td>0.85857</td></tr><tr><td>train_loss</td><td>0.46946</td></tr><tr><td>val_accuracy</td><td>0.70649</td></tr><tr><td>val_loss</td><td>1.0729</td></tr></table><br/></div></div>"
      ],
      "text/plain": [
       "<IPython.core.display.HTML object>"
      ]
     },
     "metadata": {},
     "output_type": "display_data"
    },
    {
     "data": {
      "text/html": [
       " View run <strong style=\"color:#cdcd00\">cell:LSTM_embed:64_hid:128_layers:2_beam:5</strong> at: <a href='https://wandb.ai/da24m015-iitm/dakshina-transliteration/runs/0pvynyiz' target=\"_blank\">https://wandb.ai/da24m015-iitm/dakshina-transliteration/runs/0pvynyiz</a><br> View project at: <a href='https://wandb.ai/da24m015-iitm/dakshina-transliteration' target=\"_blank\">https://wandb.ai/da24m015-iitm/dakshina-transliteration</a><br>Synced 5 W&B file(s), 0 media file(s), 0 artifact file(s) and 0 other file(s)"
      ],
      "text/plain": [
       "<IPython.core.display.HTML object>"
      ]
     },
     "metadata": {},
     "output_type": "display_data"
    },
    {
     "data": {
      "text/html": [
       "Find logs at: <code>./wandb/run-20250519_081152-0pvynyiz/logs</code>"
      ],
      "text/plain": [
       "<IPython.core.display.HTML object>"
      ]
     },
     "metadata": {},
     "output_type": "display_data"
    },
    {
     "name": "stderr",
     "output_type": "stream",
     "text": [
      "\u001b[34m\u001b[1mwandb\u001b[0m: Agent Starting Run: kyn1es3z with config:\n",
      "\u001b[34m\u001b[1mwandb\u001b[0m: \tbatch_size: 64\n",
      "\u001b[34m\u001b[1mwandb\u001b[0m: \tbeam_size: 5\n",
      "\u001b[34m\u001b[1mwandb\u001b[0m: \tcell_type: GRU\n",
      "\u001b[34m\u001b[1mwandb\u001b[0m: \tdropout: 0.2\n",
      "\u001b[34m\u001b[1mwandb\u001b[0m: \tembed_size: 64\n",
      "\u001b[34m\u001b[1mwandb\u001b[0m: \thidden_size: 128\n",
      "\u001b[34m\u001b[1mwandb\u001b[0m: \tlr: 0.0019275977791573088\n",
      "\u001b[34m\u001b[1mwandb\u001b[0m: \tnum_layers: 2\n"
     ]
    },
    {
     "data": {
      "text/html": [
       "Ignoring project 'dakshina-transliteration' when running a sweep."
      ],
      "text/plain": [
       "<IPython.core.display.HTML object>"
      ]
     },
     "metadata": {},
     "output_type": "display_data"
    },
    {
     "data": {
      "text/html": [
       "Tracking run with wandb version 0.19.9"
      ],
      "text/plain": [
       "<IPython.core.display.HTML object>"
      ]
     },
     "metadata": {},
     "output_type": "display_data"
    },
    {
     "data": {
      "text/html": [
       "Run data is saved locally in <code>/kaggle/working/wandb/run-20250519_081519-kyn1es3z</code>"
      ],
      "text/plain": [
       "<IPython.core.display.HTML object>"
      ]
     },
     "metadata": {},
     "output_type": "display_data"
    },
    {
     "data": {
      "text/html": [
       "Syncing run <strong><a href='https://wandb.ai/da24m015-iitm/dakshina-transliteration/runs/kyn1es3z' target=\"_blank\">fast-sweep-9</a></strong> to <a href='https://wandb.ai/da24m015-iitm/dakshina-transliteration' target=\"_blank\">Weights & Biases</a> (<a href='https://wandb.me/developer-guide' target=\"_blank\">docs</a>)<br>Sweep page: <a href='https://wandb.ai/da24m015-iitm/dakshina-transliteration/sweeps/czrohxns' target=\"_blank\">https://wandb.ai/da24m015-iitm/dakshina-transliteration/sweeps/czrohxns</a>"
      ],
      "text/plain": [
       "<IPython.core.display.HTML object>"
      ]
     },
     "metadata": {},
     "output_type": "display_data"
    },
    {
     "data": {
      "text/html": [
       " View project at <a href='https://wandb.ai/da24m015-iitm/dakshina-transliteration' target=\"_blank\">https://wandb.ai/da24m015-iitm/dakshina-transliteration</a>"
      ],
      "text/plain": [
       "<IPython.core.display.HTML object>"
      ]
     },
     "metadata": {},
     "output_type": "display_data"
    },
    {
     "data": {
      "text/html": [
       " View sweep at <a href='https://wandb.ai/da24m015-iitm/dakshina-transliteration/sweeps/czrohxns' target=\"_blank\">https://wandb.ai/da24m015-iitm/dakshina-transliteration/sweeps/czrohxns</a>"
      ],
      "text/plain": [
       "<IPython.core.display.HTML object>"
      ]
     },
     "metadata": {},
     "output_type": "display_data"
    },
    {
     "data": {
      "text/html": [
       " View run at <a href='https://wandb.ai/da24m015-iitm/dakshina-transliteration/runs/kyn1es3z' target=\"_blank\">https://wandb.ai/da24m015-iitm/dakshina-transliteration/runs/kyn1es3z</a>"
      ],
      "text/plain": [
       "<IPython.core.display.HTML object>"
      ]
     },
     "metadata": {},
     "output_type": "display_data"
    },
    {
     "name": "stderr",
     "output_type": "stream",
     "text": [
      "                                                            \r"
     ]
    },
    {
     "data": {
      "text/html": [],
      "text/plain": [
       "<IPython.core.display.HTML object>"
      ]
     },
     "metadata": {},
     "output_type": "display_data"
    },
    {
     "data": {
      "text/html": [
       "<br>    <style><br>        .wandb-row {<br>            display: flex;<br>            flex-direction: row;<br>            flex-wrap: wrap;<br>            justify-content: flex-start;<br>            width: 100%;<br>        }<br>        .wandb-col {<br>            display: flex;<br>            flex-direction: column;<br>            flex-basis: 100%;<br>            flex: 1;<br>            padding: 10px;<br>        }<br>    </style><br><div class=\"wandb-row\"><div class=\"wandb-col\"><h3>Run history:</h3><br/><table class=\"wandb\"><tr><td>epoch</td><td>▁▂▃▃▄▅▆▆▇█</td></tr><tr><td>train_accuracy</td><td>▁▅▆▇▇▇████</td></tr><tr><td>train_loss</td><td>█▄▃▂▂▂▁▁▁▁</td></tr><tr><td>val_accuracy</td><td>▁▅▆▆▇▇▇▇█▇</td></tr><tr><td>val_loss</td><td>█▃▂▂▂▁▁▂▁▂</td></tr></table><br/></div><div class=\"wandb-col\"><h3>Run summary:</h3><br/><table class=\"wandb\"><tr><td>epoch</td><td>9</td></tr><tr><td>train_accuracy</td><td>0.84205</td></tr><tr><td>train_loss</td><td>0.52335</td></tr><tr><td>val_accuracy</td><td>0.69528</td></tr><tr><td>val_loss</td><td>1.13093</td></tr></table><br/></div></div>"
      ],
      "text/plain": [
       "<IPython.core.display.HTML object>"
      ]
     },
     "metadata": {},
     "output_type": "display_data"
    },
    {
     "data": {
      "text/html": [
       " View run <strong style=\"color:#cdcd00\">cell:GRU_embed:64_hid:128_layers:2_beam:5</strong> at: <a href='https://wandb.ai/da24m015-iitm/dakshina-transliteration/runs/kyn1es3z' target=\"_blank\">https://wandb.ai/da24m015-iitm/dakshina-transliteration/runs/kyn1es3z</a><br> View project at: <a href='https://wandb.ai/da24m015-iitm/dakshina-transliteration' target=\"_blank\">https://wandb.ai/da24m015-iitm/dakshina-transliteration</a><br>Synced 5 W&B file(s), 0 media file(s), 0 artifact file(s) and 0 other file(s)"
      ],
      "text/plain": [
       "<IPython.core.display.HTML object>"
      ]
     },
     "metadata": {},
     "output_type": "display_data"
    },
    {
     "data": {
      "text/html": [
       "Find logs at: <code>./wandb/run-20250519_081519-kyn1es3z/logs</code>"
      ],
      "text/plain": [
       "<IPython.core.display.HTML object>"
      ]
     },
     "metadata": {},
     "output_type": "display_data"
    },
    {
     "name": "stderr",
     "output_type": "stream",
     "text": [
      "\u001b[34m\u001b[1mwandb\u001b[0m: Agent Starting Run: 6uf7sk8z with config:\n",
      "\u001b[34m\u001b[1mwandb\u001b[0m: \tbatch_size: 32\n",
      "\u001b[34m\u001b[1mwandb\u001b[0m: \tbeam_size: 5\n",
      "\u001b[34m\u001b[1mwandb\u001b[0m: \tcell_type: LSTM\n",
      "\u001b[34m\u001b[1mwandb\u001b[0m: \tdropout: 0.3\n",
      "\u001b[34m\u001b[1mwandb\u001b[0m: \tembed_size: 128\n",
      "\u001b[34m\u001b[1mwandb\u001b[0m: \thidden_size: 128\n",
      "\u001b[34m\u001b[1mwandb\u001b[0m: \tlr: 0.001111031867886602\n",
      "\u001b[34m\u001b[1mwandb\u001b[0m: \tnum_layers: 2\n"
     ]
    },
    {
     "data": {
      "text/html": [
       "Ignoring project 'dakshina-transliteration' when running a sweep."
      ],
      "text/plain": [
       "<IPython.core.display.HTML object>"
      ]
     },
     "metadata": {},
     "output_type": "display_data"
    },
    {
     "data": {
      "text/html": [
       "Tracking run with wandb version 0.19.9"
      ],
      "text/plain": [
       "<IPython.core.display.HTML object>"
      ]
     },
     "metadata": {},
     "output_type": "display_data"
    },
    {
     "data": {
      "text/html": [
       "Run data is saved locally in <code>/kaggle/working/wandb/run-20250519_081831-6uf7sk8z</code>"
      ],
      "text/plain": [
       "<IPython.core.display.HTML object>"
      ]
     },
     "metadata": {},
     "output_type": "display_data"
    },
    {
     "data": {
      "text/html": [
       "Syncing run <strong><a href='https://wandb.ai/da24m015-iitm/dakshina-transliteration/runs/6uf7sk8z' target=\"_blank\">pleasant-sweep-10</a></strong> to <a href='https://wandb.ai/da24m015-iitm/dakshina-transliteration' target=\"_blank\">Weights & Biases</a> (<a href='https://wandb.me/developer-guide' target=\"_blank\">docs</a>)<br>Sweep page: <a href='https://wandb.ai/da24m015-iitm/dakshina-transliteration/sweeps/czrohxns' target=\"_blank\">https://wandb.ai/da24m015-iitm/dakshina-transliteration/sweeps/czrohxns</a>"
      ],
      "text/plain": [
       "<IPython.core.display.HTML object>"
      ]
     },
     "metadata": {},
     "output_type": "display_data"
    },
    {
     "data": {
      "text/html": [
       " View project at <a href='https://wandb.ai/da24m015-iitm/dakshina-transliteration' target=\"_blank\">https://wandb.ai/da24m015-iitm/dakshina-transliteration</a>"
      ],
      "text/plain": [
       "<IPython.core.display.HTML object>"
      ]
     },
     "metadata": {},
     "output_type": "display_data"
    },
    {
     "data": {
      "text/html": [
       " View sweep at <a href='https://wandb.ai/da24m015-iitm/dakshina-transliteration/sweeps/czrohxns' target=\"_blank\">https://wandb.ai/da24m015-iitm/dakshina-transliteration/sweeps/czrohxns</a>"
      ],
      "text/plain": [
       "<IPython.core.display.HTML object>"
      ]
     },
     "metadata": {},
     "output_type": "display_data"
    },
    {
     "data": {
      "text/html": [
       " View run at <a href='https://wandb.ai/da24m015-iitm/dakshina-transliteration/runs/6uf7sk8z' target=\"_blank\">https://wandb.ai/da24m015-iitm/dakshina-transliteration/runs/6uf7sk8z</a>"
      ],
      "text/plain": [
       "<IPython.core.display.HTML object>"
      ]
     },
     "metadata": {},
     "output_type": "display_data"
    },
    {
     "name": "stderr",
     "output_type": "stream",
     "text": [
      "                                                              \r"
     ]
    },
    {
     "data": {
      "text/html": [],
      "text/plain": [
       "<IPython.core.display.HTML object>"
      ]
     },
     "metadata": {},
     "output_type": "display_data"
    },
    {
     "data": {
      "text/html": [
       "<br>    <style><br>        .wandb-row {<br>            display: flex;<br>            flex-direction: row;<br>            flex-wrap: wrap;<br>            justify-content: flex-start;<br>            width: 100%;<br>        }<br>        .wandb-col {<br>            display: flex;<br>            flex-direction: column;<br>            flex-basis: 100%;<br>            flex: 1;<br>            padding: 10px;<br>        }<br>    </style><br><div class=\"wandb-row\"><div class=\"wandb-col\"><h3>Run history:</h3><br/><table class=\"wandb\"><tr><td>epoch</td><td>▁▂▃▃▄▅▆▆▇█</td></tr><tr><td>train_accuracy</td><td>▁▅▆▇▇▇▇███</td></tr><tr><td>train_loss</td><td>█▄▃▂▂▂▁▁▁▁</td></tr><tr><td>val_accuracy</td><td>▁▅▆▆▇▇▇▇██</td></tr><tr><td>val_loss</td><td>█▄▂▂▂▂▁▁▁▂</td></tr></table><br/></div><div class=\"wandb-col\"><h3>Run summary:</h3><br/><table class=\"wandb\"><tr><td>epoch</td><td>9</td></tr><tr><td>train_accuracy</td><td>0.84749</td></tr><tr><td>train_loss</td><td>0.50186</td></tr><tr><td>val_accuracy</td><td>0.71422</td></tr><tr><td>val_loss</td><td>1.06189</td></tr></table><br/></div></div>"
      ],
      "text/plain": [
       "<IPython.core.display.HTML object>"
      ]
     },
     "metadata": {},
     "output_type": "display_data"
    },
    {
     "data": {
      "text/html": [
       " View run <strong style=\"color:#cdcd00\">cell:LSTM_embed:128_hid:128_layers:2_beam:5</strong> at: <a href='https://wandb.ai/da24m015-iitm/dakshina-transliteration/runs/6uf7sk8z' target=\"_blank\">https://wandb.ai/da24m015-iitm/dakshina-transliteration/runs/6uf7sk8z</a><br> View project at: <a href='https://wandb.ai/da24m015-iitm/dakshina-transliteration' target=\"_blank\">https://wandb.ai/da24m015-iitm/dakshina-transliteration</a><br>Synced 5 W&B file(s), 0 media file(s), 0 artifact file(s) and 0 other file(s)"
      ],
      "text/plain": [
       "<IPython.core.display.HTML object>"
      ]
     },
     "metadata": {},
     "output_type": "display_data"
    },
    {
     "data": {
      "text/html": [
       "Find logs at: <code>./wandb/run-20250519_081831-6uf7sk8z/logs</code>"
      ],
      "text/plain": [
       "<IPython.core.display.HTML object>"
      ]
     },
     "metadata": {},
     "output_type": "display_data"
    },
    {
     "name": "stderr",
     "output_type": "stream",
     "text": [
      "\u001b[34m\u001b[1mwandb\u001b[0m: Agent Starting Run: uakb0ibt with config:\n",
      "\u001b[34m\u001b[1mwandb\u001b[0m: \tbatch_size: 32\n",
      "\u001b[34m\u001b[1mwandb\u001b[0m: \tbeam_size: 5\n",
      "\u001b[34m\u001b[1mwandb\u001b[0m: \tcell_type: GRU\n",
      "\u001b[34m\u001b[1mwandb\u001b[0m: \tdropout: 0.3\n",
      "\u001b[34m\u001b[1mwandb\u001b[0m: \tembed_size: 32\n",
      "\u001b[34m\u001b[1mwandb\u001b[0m: \thidden_size: 128\n",
      "\u001b[34m\u001b[1mwandb\u001b[0m: \tlr: 0.0005281277134027839\n",
      "\u001b[34m\u001b[1mwandb\u001b[0m: \tnum_layers: 2\n"
     ]
    },
    {
     "data": {
      "text/html": [
       "Ignoring project 'dakshina-transliteration' when running a sweep."
      ],
      "text/plain": [
       "<IPython.core.display.HTML object>"
      ]
     },
     "metadata": {},
     "output_type": "display_data"
    },
    {
     "data": {
      "text/html": [
       "Tracking run with wandb version 0.19.9"
      ],
      "text/plain": [
       "<IPython.core.display.HTML object>"
      ]
     },
     "metadata": {},
     "output_type": "display_data"
    },
    {
     "data": {
      "text/html": [
       "Run data is saved locally in <code>/kaggle/working/wandb/run-20250519_082429-uakb0ibt</code>"
      ],
      "text/plain": [
       "<IPython.core.display.HTML object>"
      ]
     },
     "metadata": {},
     "output_type": "display_data"
    },
    {
     "data": {
      "text/html": [
       "Syncing run <strong><a href='https://wandb.ai/da24m015-iitm/dakshina-transliteration/runs/uakb0ibt' target=\"_blank\">earnest-sweep-11</a></strong> to <a href='https://wandb.ai/da24m015-iitm/dakshina-transliteration' target=\"_blank\">Weights & Biases</a> (<a href='https://wandb.me/developer-guide' target=\"_blank\">docs</a>)<br>Sweep page: <a href='https://wandb.ai/da24m015-iitm/dakshina-transliteration/sweeps/czrohxns' target=\"_blank\">https://wandb.ai/da24m015-iitm/dakshina-transliteration/sweeps/czrohxns</a>"
      ],
      "text/plain": [
       "<IPython.core.display.HTML object>"
      ]
     },
     "metadata": {},
     "output_type": "display_data"
    },
    {
     "data": {
      "text/html": [
       " View project at <a href='https://wandb.ai/da24m015-iitm/dakshina-transliteration' target=\"_blank\">https://wandb.ai/da24m015-iitm/dakshina-transliteration</a>"
      ],
      "text/plain": [
       "<IPython.core.display.HTML object>"
      ]
     },
     "metadata": {},
     "output_type": "display_data"
    },
    {
     "data": {
      "text/html": [
       " View sweep at <a href='https://wandb.ai/da24m015-iitm/dakshina-transliteration/sweeps/czrohxns' target=\"_blank\">https://wandb.ai/da24m015-iitm/dakshina-transliteration/sweeps/czrohxns</a>"
      ],
      "text/plain": [
       "<IPython.core.display.HTML object>"
      ]
     },
     "metadata": {},
     "output_type": "display_data"
    },
    {
     "data": {
      "text/html": [
       " View run at <a href='https://wandb.ai/da24m015-iitm/dakshina-transliteration/runs/uakb0ibt' target=\"_blank\">https://wandb.ai/da24m015-iitm/dakshina-transliteration/runs/uakb0ibt</a>"
      ],
      "text/plain": [
       "<IPython.core.display.HTML object>"
      ]
     },
     "metadata": {},
     "output_type": "display_data"
    },
    {
     "name": "stderr",
     "output_type": "stream",
     "text": [
      "                                                              \r"
     ]
    },
    {
     "data": {
      "text/html": [],
      "text/plain": [
       "<IPython.core.display.HTML object>"
      ]
     },
     "metadata": {},
     "output_type": "display_data"
    },
    {
     "data": {
      "text/html": [
       "<br>    <style><br>        .wandb-row {<br>            display: flex;<br>            flex-direction: row;<br>            flex-wrap: wrap;<br>            justify-content: flex-start;<br>            width: 100%;<br>        }<br>        .wandb-col {<br>            display: flex;<br>            flex-direction: column;<br>            flex-basis: 100%;<br>            flex: 1;<br>            padding: 10px;<br>        }<br>    </style><br><div class=\"wandb-row\"><div class=\"wandb-col\"><h3>Run history:</h3><br/><table class=\"wandb\"><tr><td>epoch</td><td>▁▂▃▃▄▅▆▆▇█</td></tr><tr><td>train_accuracy</td><td>▁▅▆▇▇▇████</td></tr><tr><td>train_loss</td><td>█▄▃▂▂▂▁▁▁▁</td></tr><tr><td>val_accuracy</td><td>▁▄▅▆▇▇▇▇██</td></tr><tr><td>val_loss</td><td>█▄▃▃▂▂▂▁▂▁</td></tr></table><br/></div><div class=\"wandb-col\"><h3>Run summary:</h3><br/><table class=\"wandb\"><tr><td>epoch</td><td>9</td></tr><tr><td>train_accuracy</td><td>0.80751</td></tr><tr><td>train_loss</td><td>0.62855</td></tr><tr><td>val_accuracy</td><td>0.70517</td></tr><tr><td>val_loss</td><td>1.03416</td></tr></table><br/></div></div>"
      ],
      "text/plain": [
       "<IPython.core.display.HTML object>"
      ]
     },
     "metadata": {},
     "output_type": "display_data"
    },
    {
     "data": {
      "text/html": [
       " View run <strong style=\"color:#cdcd00\">cell:GRU_embed:32_hid:128_layers:2_beam:5</strong> at: <a href='https://wandb.ai/da24m015-iitm/dakshina-transliteration/runs/uakb0ibt' target=\"_blank\">https://wandb.ai/da24m015-iitm/dakshina-transliteration/runs/uakb0ibt</a><br> View project at: <a href='https://wandb.ai/da24m015-iitm/dakshina-transliteration' target=\"_blank\">https://wandb.ai/da24m015-iitm/dakshina-transliteration</a><br>Synced 5 W&B file(s), 0 media file(s), 0 artifact file(s) and 0 other file(s)"
      ],
      "text/plain": [
       "<IPython.core.display.HTML object>"
      ]
     },
     "metadata": {},
     "output_type": "display_data"
    },
    {
     "data": {
      "text/html": [
       "Find logs at: <code>./wandb/run-20250519_082429-uakb0ibt/logs</code>"
      ],
      "text/plain": [
       "<IPython.core.display.HTML object>"
      ]
     },
     "metadata": {},
     "output_type": "display_data"
    },
    {
     "name": "stderr",
     "output_type": "stream",
     "text": [
      "\u001b[34m\u001b[1mwandb\u001b[0m: Agent Starting Run: 2vkj40nv with config:\n",
      "\u001b[34m\u001b[1mwandb\u001b[0m: \tbatch_size: 32\n",
      "\u001b[34m\u001b[1mwandb\u001b[0m: \tbeam_size: 5\n",
      "\u001b[34m\u001b[1mwandb\u001b[0m: \tcell_type: RNN\n",
      "\u001b[34m\u001b[1mwandb\u001b[0m: \tdropout: 0.3\n",
      "\u001b[34m\u001b[1mwandb\u001b[0m: \tembed_size: 128\n",
      "\u001b[34m\u001b[1mwandb\u001b[0m: \thidden_size: 128\n",
      "\u001b[34m\u001b[1mwandb\u001b[0m: \tlr: 0.0015402754457997949\n",
      "\u001b[34m\u001b[1mwandb\u001b[0m: \tnum_layers: 2\n"
     ]
    },
    {
     "data": {
      "text/html": [
       "Ignoring project 'dakshina-transliteration' when running a sweep."
      ],
      "text/plain": [
       "<IPython.core.display.HTML object>"
      ]
     },
     "metadata": {},
     "output_type": "display_data"
    },
    {
     "data": {
      "text/html": [
       "Tracking run with wandb version 0.19.9"
      ],
      "text/plain": [
       "<IPython.core.display.HTML object>"
      ]
     },
     "metadata": {},
     "output_type": "display_data"
    },
    {
     "data": {
      "text/html": [
       "Run data is saved locally in <code>/kaggle/working/wandb/run-20250519_083006-2vkj40nv</code>"
      ],
      "text/plain": [
       "<IPython.core.display.HTML object>"
      ]
     },
     "metadata": {},
     "output_type": "display_data"
    },
    {
     "data": {
      "text/html": [
       "Syncing run <strong><a href='https://wandb.ai/da24m015-iitm/dakshina-transliteration/runs/2vkj40nv' target=\"_blank\">peach-sweep-12</a></strong> to <a href='https://wandb.ai/da24m015-iitm/dakshina-transliteration' target=\"_blank\">Weights & Biases</a> (<a href='https://wandb.me/developer-guide' target=\"_blank\">docs</a>)<br>Sweep page: <a href='https://wandb.ai/da24m015-iitm/dakshina-transliteration/sweeps/czrohxns' target=\"_blank\">https://wandb.ai/da24m015-iitm/dakshina-transliteration/sweeps/czrohxns</a>"
      ],
      "text/plain": [
       "<IPython.core.display.HTML object>"
      ]
     },
     "metadata": {},
     "output_type": "display_data"
    },
    {
     "data": {
      "text/html": [
       " View project at <a href='https://wandb.ai/da24m015-iitm/dakshina-transliteration' target=\"_blank\">https://wandb.ai/da24m015-iitm/dakshina-transliteration</a>"
      ],
      "text/plain": [
       "<IPython.core.display.HTML object>"
      ]
     },
     "metadata": {},
     "output_type": "display_data"
    },
    {
     "data": {
      "text/html": [
       " View sweep at <a href='https://wandb.ai/da24m015-iitm/dakshina-transliteration/sweeps/czrohxns' target=\"_blank\">https://wandb.ai/da24m015-iitm/dakshina-transliteration/sweeps/czrohxns</a>"
      ],
      "text/plain": [
       "<IPython.core.display.HTML object>"
      ]
     },
     "metadata": {},
     "output_type": "display_data"
    },
    {
     "data": {
      "text/html": [
       " View run at <a href='https://wandb.ai/da24m015-iitm/dakshina-transliteration/runs/2vkj40nv' target=\"_blank\">https://wandb.ai/da24m015-iitm/dakshina-transliteration/runs/2vkj40nv</a>"
      ],
      "text/plain": [
       "<IPython.core.display.HTML object>"
      ]
     },
     "metadata": {},
     "output_type": "display_data"
    },
    {
     "name": "stderr",
     "output_type": "stream",
     "text": [
      "                                                              \r"
     ]
    },
    {
     "data": {
      "text/html": [],
      "text/plain": [
       "<IPython.core.display.HTML object>"
      ]
     },
     "metadata": {},
     "output_type": "display_data"
    },
    {
     "data": {
      "text/html": [
       "<br>    <style><br>        .wandb-row {<br>            display: flex;<br>            flex-direction: row;<br>            flex-wrap: wrap;<br>            justify-content: flex-start;<br>            width: 100%;<br>        }<br>        .wandb-col {<br>            display: flex;<br>            flex-direction: column;<br>            flex-basis: 100%;<br>            flex: 1;<br>            padding: 10px;<br>        }<br>    </style><br><div class=\"wandb-row\"><div class=\"wandb-col\"><h3>Run history:</h3><br/><table class=\"wandb\"><tr><td>epoch</td><td>▁▂▃▃▄▅▆▆▇█</td></tr><tr><td>train_accuracy</td><td>▁▃▅▆▇▇▇███</td></tr><tr><td>train_loss</td><td>█▅▄▃▂▂▂▁▁▁</td></tr><tr><td>val_accuracy</td><td>▁▃▅▆▆▇▇▇▇█</td></tr><tr><td>val_loss</td><td>█▆▄▃▂▂▂▂▂▁</td></tr></table><br/></div><div class=\"wandb-col\"><h3>Run summary:</h3><br/><table class=\"wandb\"><tr><td>epoch</td><td>9</td></tr><tr><td>train_accuracy</td><td>0.43582</td></tr><tr><td>train_loss</td><td>2.04044</td></tr><tr><td>val_accuracy</td><td>0.3735</td></tr><tr><td>val_loss</td><td>2.27952</td></tr></table><br/></div></div>"
      ],
      "text/plain": [
       "<IPython.core.display.HTML object>"
      ]
     },
     "metadata": {},
     "output_type": "display_data"
    },
    {
     "data": {
      "text/html": [
       " View run <strong style=\"color:#cdcd00\">cell:RNN_embed:128_hid:128_layers:2_beam:5</strong> at: <a href='https://wandb.ai/da24m015-iitm/dakshina-transliteration/runs/2vkj40nv' target=\"_blank\">https://wandb.ai/da24m015-iitm/dakshina-transliteration/runs/2vkj40nv</a><br> View project at: <a href='https://wandb.ai/da24m015-iitm/dakshina-transliteration' target=\"_blank\">https://wandb.ai/da24m015-iitm/dakshina-transliteration</a><br>Synced 5 W&B file(s), 0 media file(s), 0 artifact file(s) and 0 other file(s)"
      ],
      "text/plain": [
       "<IPython.core.display.HTML object>"
      ]
     },
     "metadata": {},
     "output_type": "display_data"
    },
    {
     "data": {
      "text/html": [
       "Find logs at: <code>./wandb/run-20250519_083006-2vkj40nv/logs</code>"
      ],
      "text/plain": [
       "<IPython.core.display.HTML object>"
      ]
     },
     "metadata": {},
     "output_type": "display_data"
    },
    {
     "name": "stderr",
     "output_type": "stream",
     "text": [
      "\u001b[34m\u001b[1mwandb\u001b[0m: Agent Starting Run: zr1o71n6 with config:\n",
      "\u001b[34m\u001b[1mwandb\u001b[0m: \tbatch_size: 64\n",
      "\u001b[34m\u001b[1mwandb\u001b[0m: \tbeam_size: 3\n",
      "\u001b[34m\u001b[1mwandb\u001b[0m: \tcell_type: LSTM\n",
      "\u001b[34m\u001b[1mwandb\u001b[0m: \tdropout: 0.3\n",
      "\u001b[34m\u001b[1mwandb\u001b[0m: \tembed_size: 32\n",
      "\u001b[34m\u001b[1mwandb\u001b[0m: \thidden_size: 128\n",
      "\u001b[34m\u001b[1mwandb\u001b[0m: \tlr: 0.0002402298801252608\n",
      "\u001b[34m\u001b[1mwandb\u001b[0m: \tnum_layers: 2\n"
     ]
    },
    {
     "data": {
      "text/html": [
       "Ignoring project 'dakshina-transliteration' when running a sweep."
      ],
      "text/plain": [
       "<IPython.core.display.HTML object>"
      ]
     },
     "metadata": {},
     "output_type": "display_data"
    },
    {
     "data": {
      "text/html": [
       "Tracking run with wandb version 0.19.9"
      ],
      "text/plain": [
       "<IPython.core.display.HTML object>"
      ]
     },
     "metadata": {},
     "output_type": "display_data"
    },
    {
     "data": {
      "text/html": [
       "Run data is saved locally in <code>/kaggle/working/wandb/run-20250519_083459-zr1o71n6</code>"
      ],
      "text/plain": [
       "<IPython.core.display.HTML object>"
      ]
     },
     "metadata": {},
     "output_type": "display_data"
    },
    {
     "data": {
      "text/html": [
       "Syncing run <strong><a href='https://wandb.ai/da24m015-iitm/dakshina-transliteration/runs/zr1o71n6' target=\"_blank\">earthy-sweep-13</a></strong> to <a href='https://wandb.ai/da24m015-iitm/dakshina-transliteration' target=\"_blank\">Weights & Biases</a> (<a href='https://wandb.me/developer-guide' target=\"_blank\">docs</a>)<br>Sweep page: <a href='https://wandb.ai/da24m015-iitm/dakshina-transliteration/sweeps/czrohxns' target=\"_blank\">https://wandb.ai/da24m015-iitm/dakshina-transliteration/sweeps/czrohxns</a>"
      ],
      "text/plain": [
       "<IPython.core.display.HTML object>"
      ]
     },
     "metadata": {},
     "output_type": "display_data"
    },
    {
     "data": {
      "text/html": [
       " View project at <a href='https://wandb.ai/da24m015-iitm/dakshina-transliteration' target=\"_blank\">https://wandb.ai/da24m015-iitm/dakshina-transliteration</a>"
      ],
      "text/plain": [
       "<IPython.core.display.HTML object>"
      ]
     },
     "metadata": {},
     "output_type": "display_data"
    },
    {
     "data": {
      "text/html": [
       " View sweep at <a href='https://wandb.ai/da24m015-iitm/dakshina-transliteration/sweeps/czrohxns' target=\"_blank\">https://wandb.ai/da24m015-iitm/dakshina-transliteration/sweeps/czrohxns</a>"
      ],
      "text/plain": [
       "<IPython.core.display.HTML object>"
      ]
     },
     "metadata": {},
     "output_type": "display_data"
    },
    {
     "data": {
      "text/html": [
       " View run at <a href='https://wandb.ai/da24m015-iitm/dakshina-transliteration/runs/zr1o71n6' target=\"_blank\">https://wandb.ai/da24m015-iitm/dakshina-transliteration/runs/zr1o71n6</a>"
      ],
      "text/plain": [
       "<IPython.core.display.HTML object>"
      ]
     },
     "metadata": {},
     "output_type": "display_data"
    },
    {
     "name": "stderr",
     "output_type": "stream",
     "text": [
      "                                                            \r"
     ]
    },
    {
     "data": {
      "text/html": [],
      "text/plain": [
       "<IPython.core.display.HTML object>"
      ]
     },
     "metadata": {},
     "output_type": "display_data"
    },
    {
     "data": {
      "text/html": [
       "<br>    <style><br>        .wandb-row {<br>            display: flex;<br>            flex-direction: row;<br>            flex-wrap: wrap;<br>            justify-content: flex-start;<br>            width: 100%;<br>        }<br>        .wandb-col {<br>            display: flex;<br>            flex-direction: column;<br>            flex-basis: 100%;<br>            flex: 1;<br>            padding: 10px;<br>        }<br>    </style><br><div class=\"wandb-row\"><div class=\"wandb-col\"><h3>Run history:</h3><br/><table class=\"wandb\"><tr><td>epoch</td><td>▁▂▃▃▄▅▆▆▇█</td></tr><tr><td>train_accuracy</td><td>▁▃▅▆▇▇▇███</td></tr><tr><td>train_loss</td><td>█▅▃▃▂▂▂▁▁▁</td></tr><tr><td>val_accuracy</td><td>▁▄▅▆▇▇▇███</td></tr><tr><td>val_loss</td><td>█▅▃▃▂▂▁▁▁▁</td></tr></table><br/></div><div class=\"wandb-col\"><h3>Run summary:</h3><br/><table class=\"wandb\"><tr><td>epoch</td><td>9</td></tr><tr><td>train_accuracy</td><td>0.70902</td></tr><tr><td>train_loss</td><td>0.93865</td></tr><tr><td>val_accuracy</td><td>0.62668</td></tr><tr><td>val_loss</td><td>1.21713</td></tr></table><br/></div></div>"
      ],
      "text/plain": [
       "<IPython.core.display.HTML object>"
      ]
     },
     "metadata": {},
     "output_type": "display_data"
    },
    {
     "data": {
      "text/html": [
       " View run <strong style=\"color:#cdcd00\">cell:LSTM_embed:32_hid:128_layers:2_beam:3</strong> at: <a href='https://wandb.ai/da24m015-iitm/dakshina-transliteration/runs/zr1o71n6' target=\"_blank\">https://wandb.ai/da24m015-iitm/dakshina-transliteration/runs/zr1o71n6</a><br> View project at: <a href='https://wandb.ai/da24m015-iitm/dakshina-transliteration' target=\"_blank\">https://wandb.ai/da24m015-iitm/dakshina-transliteration</a><br>Synced 5 W&B file(s), 0 media file(s), 0 artifact file(s) and 0 other file(s)"
      ],
      "text/plain": [
       "<IPython.core.display.HTML object>"
      ]
     },
     "metadata": {},
     "output_type": "display_data"
    },
    {
     "data": {
      "text/html": [
       "Find logs at: <code>./wandb/run-20250519_083459-zr1o71n6/logs</code>"
      ],
      "text/plain": [
       "<IPython.core.display.HTML object>"
      ]
     },
     "metadata": {},
     "output_type": "display_data"
    },
    {
     "name": "stderr",
     "output_type": "stream",
     "text": [
      "\u001b[34m\u001b[1mwandb\u001b[0m: Agent Starting Run: wgsdlh5k with config:\n",
      "\u001b[34m\u001b[1mwandb\u001b[0m: \tbatch_size: 64\n",
      "\u001b[34m\u001b[1mwandb\u001b[0m: \tbeam_size: 5\n",
      "\u001b[34m\u001b[1mwandb\u001b[0m: \tcell_type: LSTM\n",
      "\u001b[34m\u001b[1mwandb\u001b[0m: \tdropout: 0.2\n",
      "\u001b[34m\u001b[1mwandb\u001b[0m: \tembed_size: 32\n",
      "\u001b[34m\u001b[1mwandb\u001b[0m: \thidden_size: 128\n",
      "\u001b[34m\u001b[1mwandb\u001b[0m: \tlr: 0.0019570167120161624\n",
      "\u001b[34m\u001b[1mwandb\u001b[0m: \tnum_layers: 1\n"
     ]
    },
    {
     "data": {
      "text/html": [
       "Ignoring project 'dakshina-transliteration' when running a sweep."
      ],
      "text/plain": [
       "<IPython.core.display.HTML object>"
      ]
     },
     "metadata": {},
     "output_type": "display_data"
    },
    {
     "data": {
      "text/html": [
       "Tracking run with wandb version 0.19.9"
      ],
      "text/plain": [
       "<IPython.core.display.HTML object>"
      ]
     },
     "metadata": {},
     "output_type": "display_data"
    },
    {
     "data": {
      "text/html": [
       "Run data is saved locally in <code>/kaggle/working/wandb/run-20250519_083825-wgsdlh5k</code>"
      ],
      "text/plain": [
       "<IPython.core.display.HTML object>"
      ]
     },
     "metadata": {},
     "output_type": "display_data"
    },
    {
     "data": {
      "text/html": [
       "Syncing run <strong><a href='https://wandb.ai/da24m015-iitm/dakshina-transliteration/runs/wgsdlh5k' target=\"_blank\">super-sweep-14</a></strong> to <a href='https://wandb.ai/da24m015-iitm/dakshina-transliteration' target=\"_blank\">Weights & Biases</a> (<a href='https://wandb.me/developer-guide' target=\"_blank\">docs</a>)<br>Sweep page: <a href='https://wandb.ai/da24m015-iitm/dakshina-transliteration/sweeps/czrohxns' target=\"_blank\">https://wandb.ai/da24m015-iitm/dakshina-transliteration/sweeps/czrohxns</a>"
      ],
      "text/plain": [
       "<IPython.core.display.HTML object>"
      ]
     },
     "metadata": {},
     "output_type": "display_data"
    },
    {
     "data": {
      "text/html": [
       " View project at <a href='https://wandb.ai/da24m015-iitm/dakshina-transliteration' target=\"_blank\">https://wandb.ai/da24m015-iitm/dakshina-transliteration</a>"
      ],
      "text/plain": [
       "<IPython.core.display.HTML object>"
      ]
     },
     "metadata": {},
     "output_type": "display_data"
    },
    {
     "data": {
      "text/html": [
       " View sweep at <a href='https://wandb.ai/da24m015-iitm/dakshina-transliteration/sweeps/czrohxns' target=\"_blank\">https://wandb.ai/da24m015-iitm/dakshina-transliteration/sweeps/czrohxns</a>"
      ],
      "text/plain": [
       "<IPython.core.display.HTML object>"
      ]
     },
     "metadata": {},
     "output_type": "display_data"
    },
    {
     "data": {
      "text/html": [
       " View run at <a href='https://wandb.ai/da24m015-iitm/dakshina-transliteration/runs/wgsdlh5k' target=\"_blank\">https://wandb.ai/da24m015-iitm/dakshina-transliteration/runs/wgsdlh5k</a>"
      ],
      "text/plain": [
       "<IPython.core.display.HTML object>"
      ]
     },
     "metadata": {},
     "output_type": "display_data"
    },
    {
     "name": "stderr",
     "output_type": "stream",
     "text": [
      "                                                            \r"
     ]
    },
    {
     "data": {
      "text/html": [],
      "text/plain": [
       "<IPython.core.display.HTML object>"
      ]
     },
     "metadata": {},
     "output_type": "display_data"
    },
    {
     "data": {
      "text/html": [
       "<br>    <style><br>        .wandb-row {<br>            display: flex;<br>            flex-direction: row;<br>            flex-wrap: wrap;<br>            justify-content: flex-start;<br>            width: 100%;<br>        }<br>        .wandb-col {<br>            display: flex;<br>            flex-direction: column;<br>            flex-basis: 100%;<br>            flex: 1;<br>            padding: 10px;<br>        }<br>    </style><br><div class=\"wandb-row\"><div class=\"wandb-col\"><h3>Run history:</h3><br/><table class=\"wandb\"><tr><td>epoch</td><td>▁▂▃▃▄▅▆▆▇█</td></tr><tr><td>train_accuracy</td><td>▁▅▆▆▇▇▇███</td></tr><tr><td>train_loss</td><td>█▄▃▂▂▂▁▁▁▁</td></tr><tr><td>val_accuracy</td><td>▁▄▆▆▇▇████</td></tr><tr><td>val_loss</td><td>█▄▂▂▂▂▁▁▁▂</td></tr></table><br/></div><div class=\"wandb-col\"><h3>Run summary:</h3><br/><table class=\"wandb\"><tr><td>epoch</td><td>9</td></tr><tr><td>train_accuracy</td><td>0.85426</td></tr><tr><td>train_loss</td><td>0.49219</td></tr><tr><td>val_accuracy</td><td>0.69251</td></tr><tr><td>val_loss</td><td>1.14811</td></tr></table><br/></div></div>"
      ],
      "text/plain": [
       "<IPython.core.display.HTML object>"
      ]
     },
     "metadata": {},
     "output_type": "display_data"
    },
    {
     "data": {
      "text/html": [
       " View run <strong style=\"color:#cdcd00\">cell:LSTM_embed:32_hid:128_layers:1_beam:5</strong> at: <a href='https://wandb.ai/da24m015-iitm/dakshina-transliteration/runs/wgsdlh5k' target=\"_blank\">https://wandb.ai/da24m015-iitm/dakshina-transliteration/runs/wgsdlh5k</a><br> View project at: <a href='https://wandb.ai/da24m015-iitm/dakshina-transliteration' target=\"_blank\">https://wandb.ai/da24m015-iitm/dakshina-transliteration</a><br>Synced 5 W&B file(s), 0 media file(s), 0 artifact file(s) and 0 other file(s)"
      ],
      "text/plain": [
       "<IPython.core.display.HTML object>"
      ]
     },
     "metadata": {},
     "output_type": "display_data"
    },
    {
     "data": {
      "text/html": [
       "Find logs at: <code>./wandb/run-20250519_083825-wgsdlh5k/logs</code>"
      ],
      "text/plain": [
       "<IPython.core.display.HTML object>"
      ]
     },
     "metadata": {},
     "output_type": "display_data"
    },
    {
     "name": "stderr",
     "output_type": "stream",
     "text": [
      "\u001b[34m\u001b[1mwandb\u001b[0m: Agent Starting Run: ykgpwhra with config:\n",
      "\u001b[34m\u001b[1mwandb\u001b[0m: \tbatch_size: 32\n",
      "\u001b[34m\u001b[1mwandb\u001b[0m: \tbeam_size: 3\n",
      "\u001b[34m\u001b[1mwandb\u001b[0m: \tcell_type: LSTM\n",
      "\u001b[34m\u001b[1mwandb\u001b[0m: \tdropout: 0.3\n",
      "\u001b[34m\u001b[1mwandb\u001b[0m: \tembed_size: 32\n",
      "\u001b[34m\u001b[1mwandb\u001b[0m: \thidden_size: 128\n",
      "\u001b[34m\u001b[1mwandb\u001b[0m: \tlr: 0.002635363145403125\n",
      "\u001b[34m\u001b[1mwandb\u001b[0m: \tnum_layers: 2\n"
     ]
    },
    {
     "data": {
      "text/html": [
       "Ignoring project 'dakshina-transliteration' when running a sweep."
      ],
      "text/plain": [
       "<IPython.core.display.HTML object>"
      ]
     },
     "metadata": {},
     "output_type": "display_data"
    },
    {
     "data": {
      "text/html": [
       "Tracking run with wandb version 0.19.9"
      ],
      "text/plain": [
       "<IPython.core.display.HTML object>"
      ]
     },
     "metadata": {},
     "output_type": "display_data"
    },
    {
     "data": {
      "text/html": [
       "Run data is saved locally in <code>/kaggle/working/wandb/run-20250519_084111-ykgpwhra</code>"
      ],
      "text/plain": [
       "<IPython.core.display.HTML object>"
      ]
     },
     "metadata": {},
     "output_type": "display_data"
    },
    {
     "data": {
      "text/html": [
       "Syncing run <strong><a href='https://wandb.ai/da24m015-iitm/dakshina-transliteration/runs/ykgpwhra' target=\"_blank\">ethereal-sweep-15</a></strong> to <a href='https://wandb.ai/da24m015-iitm/dakshina-transliteration' target=\"_blank\">Weights & Biases</a> (<a href='https://wandb.me/developer-guide' target=\"_blank\">docs</a>)<br>Sweep page: <a href='https://wandb.ai/da24m015-iitm/dakshina-transliteration/sweeps/czrohxns' target=\"_blank\">https://wandb.ai/da24m015-iitm/dakshina-transliteration/sweeps/czrohxns</a>"
      ],
      "text/plain": [
       "<IPython.core.display.HTML object>"
      ]
     },
     "metadata": {},
     "output_type": "display_data"
    },
    {
     "data": {
      "text/html": [
       " View project at <a href='https://wandb.ai/da24m015-iitm/dakshina-transliteration' target=\"_blank\">https://wandb.ai/da24m015-iitm/dakshina-transliteration</a>"
      ],
      "text/plain": [
       "<IPython.core.display.HTML object>"
      ]
     },
     "metadata": {},
     "output_type": "display_data"
    },
    {
     "data": {
      "text/html": [
       " View sweep at <a href='https://wandb.ai/da24m015-iitm/dakshina-transliteration/sweeps/czrohxns' target=\"_blank\">https://wandb.ai/da24m015-iitm/dakshina-transliteration/sweeps/czrohxns</a>"
      ],
      "text/plain": [
       "<IPython.core.display.HTML object>"
      ]
     },
     "metadata": {},
     "output_type": "display_data"
    },
    {
     "data": {
      "text/html": [
       " View run at <a href='https://wandb.ai/da24m015-iitm/dakshina-transliteration/runs/ykgpwhra' target=\"_blank\">https://wandb.ai/da24m015-iitm/dakshina-transliteration/runs/ykgpwhra</a>"
      ],
      "text/plain": [
       "<IPython.core.display.HTML object>"
      ]
     },
     "metadata": {},
     "output_type": "display_data"
    },
    {
     "name": "stderr",
     "output_type": "stream",
     "text": [
      "                                                              \r"
     ]
    },
    {
     "data": {
      "text/html": [],
      "text/plain": [
       "<IPython.core.display.HTML object>"
      ]
     },
     "metadata": {},
     "output_type": "display_data"
    },
    {
     "data": {
      "text/html": [
       "<br>    <style><br>        .wandb-row {<br>            display: flex;<br>            flex-direction: row;<br>            flex-wrap: wrap;<br>            justify-content: flex-start;<br>            width: 100%;<br>        }<br>        .wandb-col {<br>            display: flex;<br>            flex-direction: column;<br>            flex-basis: 100%;<br>            flex: 1;<br>            padding: 10px;<br>        }<br>    </style><br><div class=\"wandb-row\"><div class=\"wandb-col\"><h3>Run history:</h3><br/><table class=\"wandb\"><tr><td>epoch</td><td>▁▂▃▃▄▅▆▆▇█</td></tr><tr><td>train_accuracy</td><td>▁▅▆▇▇▇████</td></tr><tr><td>train_loss</td><td>█▄▃▂▂▂▁▁▁▁</td></tr><tr><td>val_accuracy</td><td>▁▅▆▇▇▇▇▇██</td></tr><tr><td>val_loss</td><td>█▄▂▁▂▂▁▂▁▂</td></tr></table><br/></div><div class=\"wandb-col\"><h3>Run summary:</h3><br/><table class=\"wandb\"><tr><td>epoch</td><td>9</td></tr><tr><td>train_accuracy</td><td>0.85226</td></tr><tr><td>train_loss</td><td>0.48606</td></tr><tr><td>val_accuracy</td><td>0.71035</td></tr><tr><td>val_loss</td><td>1.09677</td></tr></table><br/></div></div>"
      ],
      "text/plain": [
       "<IPython.core.display.HTML object>"
      ]
     },
     "metadata": {},
     "output_type": "display_data"
    },
    {
     "data": {
      "text/html": [
       " View run <strong style=\"color:#cdcd00\">cell:LSTM_embed:32_hid:128_layers:2_beam:3</strong> at: <a href='https://wandb.ai/da24m015-iitm/dakshina-transliteration/runs/ykgpwhra' target=\"_blank\">https://wandb.ai/da24m015-iitm/dakshina-transliteration/runs/ykgpwhra</a><br> View project at: <a href='https://wandb.ai/da24m015-iitm/dakshina-transliteration' target=\"_blank\">https://wandb.ai/da24m015-iitm/dakshina-transliteration</a><br>Synced 5 W&B file(s), 0 media file(s), 0 artifact file(s) and 0 other file(s)"
      ],
      "text/plain": [
       "<IPython.core.display.HTML object>"
      ]
     },
     "metadata": {},
     "output_type": "display_data"
    },
    {
     "data": {
      "text/html": [
       "Find logs at: <code>./wandb/run-20250519_084111-ykgpwhra/logs</code>"
      ],
      "text/plain": [
       "<IPython.core.display.HTML object>"
      ]
     },
     "metadata": {},
     "output_type": "display_data"
    },
    {
     "name": "stderr",
     "output_type": "stream",
     "text": [
      "\u001b[34m\u001b[1mwandb\u001b[0m: Agent Starting Run: fvosv0ru with config:\n",
      "\u001b[34m\u001b[1mwandb\u001b[0m: \tbatch_size: 32\n",
      "\u001b[34m\u001b[1mwandb\u001b[0m: \tbeam_size: 5\n",
      "\u001b[34m\u001b[1mwandb\u001b[0m: \tcell_type: LSTM\n",
      "\u001b[34m\u001b[1mwandb\u001b[0m: \tdropout: 0.3\n",
      "\u001b[34m\u001b[1mwandb\u001b[0m: \tembed_size: 64\n",
      "\u001b[34m\u001b[1mwandb\u001b[0m: \thidden_size: 128\n",
      "\u001b[34m\u001b[1mwandb\u001b[0m: \tlr: 0.001989963633940869\n",
      "\u001b[34m\u001b[1mwandb\u001b[0m: \tnum_layers: 2\n"
     ]
    },
    {
     "data": {
      "text/html": [
       "Ignoring project 'dakshina-transliteration' when running a sweep."
      ],
      "text/plain": [
       "<IPython.core.display.HTML object>"
      ]
     },
     "metadata": {},
     "output_type": "display_data"
    },
    {
     "data": {
      "text/html": [
       "Tracking run with wandb version 0.19.9"
      ],
      "text/plain": [
       "<IPython.core.display.HTML object>"
      ]
     },
     "metadata": {},
     "output_type": "display_data"
    },
    {
     "data": {
      "text/html": [
       "Run data is saved locally in <code>/kaggle/working/wandb/run-20250519_084709-fvosv0ru</code>"
      ],
      "text/plain": [
       "<IPython.core.display.HTML object>"
      ]
     },
     "metadata": {},
     "output_type": "display_data"
    },
    {
     "data": {
      "text/html": [
       "Syncing run <strong><a href='https://wandb.ai/da24m015-iitm/dakshina-transliteration/runs/fvosv0ru' target=\"_blank\">unique-sweep-16</a></strong> to <a href='https://wandb.ai/da24m015-iitm/dakshina-transliteration' target=\"_blank\">Weights & Biases</a> (<a href='https://wandb.me/developer-guide' target=\"_blank\">docs</a>)<br>Sweep page: <a href='https://wandb.ai/da24m015-iitm/dakshina-transliteration/sweeps/czrohxns' target=\"_blank\">https://wandb.ai/da24m015-iitm/dakshina-transliteration/sweeps/czrohxns</a>"
      ],
      "text/plain": [
       "<IPython.core.display.HTML object>"
      ]
     },
     "metadata": {},
     "output_type": "display_data"
    },
    {
     "data": {
      "text/html": [
       " View project at <a href='https://wandb.ai/da24m015-iitm/dakshina-transliteration' target=\"_blank\">https://wandb.ai/da24m015-iitm/dakshina-transliteration</a>"
      ],
      "text/plain": [
       "<IPython.core.display.HTML object>"
      ]
     },
     "metadata": {},
     "output_type": "display_data"
    },
    {
     "data": {
      "text/html": [
       " View sweep at <a href='https://wandb.ai/da24m015-iitm/dakshina-transliteration/sweeps/czrohxns' target=\"_blank\">https://wandb.ai/da24m015-iitm/dakshina-transliteration/sweeps/czrohxns</a>"
      ],
      "text/plain": [
       "<IPython.core.display.HTML object>"
      ]
     },
     "metadata": {},
     "output_type": "display_data"
    },
    {
     "data": {
      "text/html": [
       " View run at <a href='https://wandb.ai/da24m015-iitm/dakshina-transliteration/runs/fvosv0ru' target=\"_blank\">https://wandb.ai/da24m015-iitm/dakshina-transliteration/runs/fvosv0ru</a>"
      ],
      "text/plain": [
       "<IPython.core.display.HTML object>"
      ]
     },
     "metadata": {},
     "output_type": "display_data"
    },
    {
     "name": "stderr",
     "output_type": "stream",
     "text": [
      "                                                              \r"
     ]
    },
    {
     "data": {
      "text/html": [],
      "text/plain": [
       "<IPython.core.display.HTML object>"
      ]
     },
     "metadata": {},
     "output_type": "display_data"
    },
    {
     "data": {
      "text/html": [
       "<br>    <style><br>        .wandb-row {<br>            display: flex;<br>            flex-direction: row;<br>            flex-wrap: wrap;<br>            justify-content: flex-start;<br>            width: 100%;<br>        }<br>        .wandb-col {<br>            display: flex;<br>            flex-direction: column;<br>            flex-basis: 100%;<br>            flex: 1;<br>            padding: 10px;<br>        }<br>    </style><br><div class=\"wandb-row\"><div class=\"wandb-col\"><h3>Run history:</h3><br/><table class=\"wandb\"><tr><td>epoch</td><td>▁▂▃▃▄▅▆▆▇█</td></tr><tr><td>train_accuracy</td><td>▁▅▆▇▇▇████</td></tr><tr><td>train_loss</td><td>█▄▃▂▂▂▁▁▁▁</td></tr><tr><td>val_accuracy</td><td>▁▄▆▆▇█▇███</td></tr><tr><td>val_loss</td><td>█▃▂▃▂▁▂▁▁▂</td></tr></table><br/></div><div class=\"wandb-col\"><h3>Run summary:</h3><br/><table class=\"wandb\"><tr><td>epoch</td><td>9</td></tr><tr><td>train_accuracy</td><td>0.85136</td></tr><tr><td>train_loss</td><td>0.48732</td></tr><tr><td>val_accuracy</td><td>0.70788</td></tr><tr><td>val_loss</td><td>1.07703</td></tr></table><br/></div></div>"
      ],
      "text/plain": [
       "<IPython.core.display.HTML object>"
      ]
     },
     "metadata": {},
     "output_type": "display_data"
    },
    {
     "data": {
      "text/html": [
       " View run <strong style=\"color:#cdcd00\">cell:LSTM_embed:64_hid:128_layers:2_beam:5</strong> at: <a href='https://wandb.ai/da24m015-iitm/dakshina-transliteration/runs/fvosv0ru' target=\"_blank\">https://wandb.ai/da24m015-iitm/dakshina-transliteration/runs/fvosv0ru</a><br> View project at: <a href='https://wandb.ai/da24m015-iitm/dakshina-transliteration' target=\"_blank\">https://wandb.ai/da24m015-iitm/dakshina-transliteration</a><br>Synced 5 W&B file(s), 0 media file(s), 0 artifact file(s) and 0 other file(s)"
      ],
      "text/plain": [
       "<IPython.core.display.HTML object>"
      ]
     },
     "metadata": {},
     "output_type": "display_data"
    },
    {
     "data": {
      "text/html": [
       "Find logs at: <code>./wandb/run-20250519_084709-fvosv0ru/logs</code>"
      ],
      "text/plain": [
       "<IPython.core.display.HTML object>"
      ]
     },
     "metadata": {},
     "output_type": "display_data"
    },
    {
     "name": "stderr",
     "output_type": "stream",
     "text": [
      "\u001b[34m\u001b[1mwandb\u001b[0m: Sweep Agent: Waiting for job.\n",
      "\u001b[34m\u001b[1mwandb\u001b[0m: Job received.\n",
      "\u001b[34m\u001b[1mwandb\u001b[0m: Agent Starting Run: i3m41x2s with config:\n",
      "\u001b[34m\u001b[1mwandb\u001b[0m: \tbatch_size: 32\n",
      "\u001b[34m\u001b[1mwandb\u001b[0m: \tbeam_size: 5\n",
      "\u001b[34m\u001b[1mwandb\u001b[0m: \tcell_type: LSTM\n",
      "\u001b[34m\u001b[1mwandb\u001b[0m: \tdropout: 0.3\n",
      "\u001b[34m\u001b[1mwandb\u001b[0m: \tembed_size: 32\n",
      "\u001b[34m\u001b[1mwandb\u001b[0m: \thidden_size: 128\n",
      "\u001b[34m\u001b[1mwandb\u001b[0m: \tlr: 0.0011393050504241572\n",
      "\u001b[34m\u001b[1mwandb\u001b[0m: \tnum_layers: 2\n"
     ]
    },
    {
     "data": {
      "text/html": [
       "Ignoring project 'dakshina-transliteration' when running a sweep."
      ],
      "text/plain": [
       "<IPython.core.display.HTML object>"
      ]
     },
     "metadata": {},
     "output_type": "display_data"
    },
    {
     "data": {
      "text/html": [
       "Tracking run with wandb version 0.19.9"
      ],
      "text/plain": [
       "<IPython.core.display.HTML object>"
      ]
     },
     "metadata": {},
     "output_type": "display_data"
    },
    {
     "data": {
      "text/html": [
       "Run data is saved locally in <code>/kaggle/working/wandb/run-20250519_085316-i3m41x2s</code>"
      ],
      "text/plain": [
       "<IPython.core.display.HTML object>"
      ]
     },
     "metadata": {},
     "output_type": "display_data"
    },
    {
     "data": {
      "text/html": [
       "Syncing run <strong><a href='https://wandb.ai/da24m015-iitm/dakshina-transliteration/runs/i3m41x2s' target=\"_blank\">absurd-sweep-17</a></strong> to <a href='https://wandb.ai/da24m015-iitm/dakshina-transliteration' target=\"_blank\">Weights & Biases</a> (<a href='https://wandb.me/developer-guide' target=\"_blank\">docs</a>)<br>Sweep page: <a href='https://wandb.ai/da24m015-iitm/dakshina-transliteration/sweeps/czrohxns' target=\"_blank\">https://wandb.ai/da24m015-iitm/dakshina-transliteration/sweeps/czrohxns</a>"
      ],
      "text/plain": [
       "<IPython.core.display.HTML object>"
      ]
     },
     "metadata": {},
     "output_type": "display_data"
    },
    {
     "data": {
      "text/html": [
       " View project at <a href='https://wandb.ai/da24m015-iitm/dakshina-transliteration' target=\"_blank\">https://wandb.ai/da24m015-iitm/dakshina-transliteration</a>"
      ],
      "text/plain": [
       "<IPython.core.display.HTML object>"
      ]
     },
     "metadata": {},
     "output_type": "display_data"
    },
    {
     "data": {
      "text/html": [
       " View sweep at <a href='https://wandb.ai/da24m015-iitm/dakshina-transliteration/sweeps/czrohxns' target=\"_blank\">https://wandb.ai/da24m015-iitm/dakshina-transliteration/sweeps/czrohxns</a>"
      ],
      "text/plain": [
       "<IPython.core.display.HTML object>"
      ]
     },
     "metadata": {},
     "output_type": "display_data"
    },
    {
     "data": {
      "text/html": [
       " View run at <a href='https://wandb.ai/da24m015-iitm/dakshina-transliteration/runs/i3m41x2s' target=\"_blank\">https://wandb.ai/da24m015-iitm/dakshina-transliteration/runs/i3m41x2s</a>"
      ],
      "text/plain": [
       "<IPython.core.display.HTML object>"
      ]
     },
     "metadata": {},
     "output_type": "display_data"
    },
    {
     "name": "stderr",
     "output_type": "stream",
     "text": [
      "                                                              \r"
     ]
    },
    {
     "data": {
      "text/html": [],
      "text/plain": [
       "<IPython.core.display.HTML object>"
      ]
     },
     "metadata": {},
     "output_type": "display_data"
    },
    {
     "data": {
      "text/html": [
       "<br>    <style><br>        .wandb-row {<br>            display: flex;<br>            flex-direction: row;<br>            flex-wrap: wrap;<br>            justify-content: flex-start;<br>            width: 100%;<br>        }<br>        .wandb-col {<br>            display: flex;<br>            flex-direction: column;<br>            flex-basis: 100%;<br>            flex: 1;<br>            padding: 10px;<br>        }<br>    </style><br><div class=\"wandb-row\"><div class=\"wandb-col\"><h3>Run history:</h3><br/><table class=\"wandb\"><tr><td>epoch</td><td>▁▂▃▃▄▅▆▆▇█</td></tr><tr><td>train_accuracy</td><td>▁▅▆▇▇▇▇███</td></tr><tr><td>train_loss</td><td>█▄▃▂▂▂▁▁▁▁</td></tr><tr><td>val_accuracy</td><td>▁▄▆▇▇█████</td></tr><tr><td>val_loss</td><td>█▅▂▂▁▁▁▁▂▂</td></tr></table><br/></div><div class=\"wandb-col\"><h3>Run summary:</h3><br/><table class=\"wandb\"><tr><td>epoch</td><td>9</td></tr><tr><td>train_accuracy</td><td>0.85119</td></tr><tr><td>train_loss</td><td>0.48815</td></tr><tr><td>val_accuracy</td><td>0.71073</td></tr><tr><td>val_loss</td><td>1.0638</td></tr></table><br/></div></div>"
      ],
      "text/plain": [
       "<IPython.core.display.HTML object>"
      ]
     },
     "metadata": {},
     "output_type": "display_data"
    },
    {
     "data": {
      "text/html": [
       " View run <strong style=\"color:#cdcd00\">cell:LSTM_embed:32_hid:128_layers:2_beam:5</strong> at: <a href='https://wandb.ai/da24m015-iitm/dakshina-transliteration/runs/i3m41x2s' target=\"_blank\">https://wandb.ai/da24m015-iitm/dakshina-transliteration/runs/i3m41x2s</a><br> View project at: <a href='https://wandb.ai/da24m015-iitm/dakshina-transliteration' target=\"_blank\">https://wandb.ai/da24m015-iitm/dakshina-transliteration</a><br>Synced 5 W&B file(s), 0 media file(s), 0 artifact file(s) and 0 other file(s)"
      ],
      "text/plain": [
       "<IPython.core.display.HTML object>"
      ]
     },
     "metadata": {},
     "output_type": "display_data"
    },
    {
     "data": {
      "text/html": [
       "Find logs at: <code>./wandb/run-20250519_085316-i3m41x2s/logs</code>"
      ],
      "text/plain": [
       "<IPython.core.display.HTML object>"
      ]
     },
     "metadata": {},
     "output_type": "display_data"
    },
    {
     "name": "stderr",
     "output_type": "stream",
     "text": [
      "\u001b[34m\u001b[1mwandb\u001b[0m: Agent Starting Run: d2402duo with config:\n",
      "\u001b[34m\u001b[1mwandb\u001b[0m: \tbatch_size: 32\n",
      "\u001b[34m\u001b[1mwandb\u001b[0m: \tbeam_size: 3\n",
      "\u001b[34m\u001b[1mwandb\u001b[0m: \tcell_type: LSTM\n",
      "\u001b[34m\u001b[1mwandb\u001b[0m: \tdropout: 0.2\n",
      "\u001b[34m\u001b[1mwandb\u001b[0m: \tembed_size: 32\n",
      "\u001b[34m\u001b[1mwandb\u001b[0m: \thidden_size: 128\n",
      "\u001b[34m\u001b[1mwandb\u001b[0m: \tlr: 0.0028306175288125624\n",
      "\u001b[34m\u001b[1mwandb\u001b[0m: \tnum_layers: 2\n"
     ]
    },
    {
     "data": {
      "text/html": [
       "Ignoring project 'dakshina-transliteration' when running a sweep."
      ],
      "text/plain": [
       "<IPython.core.display.HTML object>"
      ]
     },
     "metadata": {},
     "output_type": "display_data"
    },
    {
     "data": {
      "text/html": [
       "Tracking run with wandb version 0.19.9"
      ],
      "text/plain": [
       "<IPython.core.display.HTML object>"
      ]
     },
     "metadata": {},
     "output_type": "display_data"
    },
    {
     "data": {
      "text/html": [
       "Run data is saved locally in <code>/kaggle/working/wandb/run-20250519_085914-d2402duo</code>"
      ],
      "text/plain": [
       "<IPython.core.display.HTML object>"
      ]
     },
     "metadata": {},
     "output_type": "display_data"
    },
    {
     "data": {
      "text/html": [
       "Syncing run <strong><a href='https://wandb.ai/da24m015-iitm/dakshina-transliteration/runs/d2402duo' target=\"_blank\">feasible-sweep-18</a></strong> to <a href='https://wandb.ai/da24m015-iitm/dakshina-transliteration' target=\"_blank\">Weights & Biases</a> (<a href='https://wandb.me/developer-guide' target=\"_blank\">docs</a>)<br>Sweep page: <a href='https://wandb.ai/da24m015-iitm/dakshina-transliteration/sweeps/czrohxns' target=\"_blank\">https://wandb.ai/da24m015-iitm/dakshina-transliteration/sweeps/czrohxns</a>"
      ],
      "text/plain": [
       "<IPython.core.display.HTML object>"
      ]
     },
     "metadata": {},
     "output_type": "display_data"
    },
    {
     "data": {
      "text/html": [
       " View project at <a href='https://wandb.ai/da24m015-iitm/dakshina-transliteration' target=\"_blank\">https://wandb.ai/da24m015-iitm/dakshina-transliteration</a>"
      ],
      "text/plain": [
       "<IPython.core.display.HTML object>"
      ]
     },
     "metadata": {},
     "output_type": "display_data"
    },
    {
     "data": {
      "text/html": [
       " View sweep at <a href='https://wandb.ai/da24m015-iitm/dakshina-transliteration/sweeps/czrohxns' target=\"_blank\">https://wandb.ai/da24m015-iitm/dakshina-transliteration/sweeps/czrohxns</a>"
      ],
      "text/plain": [
       "<IPython.core.display.HTML object>"
      ]
     },
     "metadata": {},
     "output_type": "display_data"
    },
    {
     "data": {
      "text/html": [
       " View run at <a href='https://wandb.ai/da24m015-iitm/dakshina-transliteration/runs/d2402duo' target=\"_blank\">https://wandb.ai/da24m015-iitm/dakshina-transliteration/runs/d2402duo</a>"
      ],
      "text/plain": [
       "<IPython.core.display.HTML object>"
      ]
     },
     "metadata": {},
     "output_type": "display_data"
    },
    {
     "name": "stderr",
     "output_type": "stream",
     "text": [
      "                                                              \r"
     ]
    },
    {
     "data": {
      "text/html": [],
      "text/plain": [
       "<IPython.core.display.HTML object>"
      ]
     },
     "metadata": {},
     "output_type": "display_data"
    },
    {
     "data": {
      "text/html": [
       "<br>    <style><br>        .wandb-row {<br>            display: flex;<br>            flex-direction: row;<br>            flex-wrap: wrap;<br>            justify-content: flex-start;<br>            width: 100%;<br>        }<br>        .wandb-col {<br>            display: flex;<br>            flex-direction: column;<br>            flex-basis: 100%;<br>            flex: 1;<br>            padding: 10px;<br>        }<br>    </style><br><div class=\"wandb-row\"><div class=\"wandb-col\"><h3>Run history:</h3><br/><table class=\"wandb\"><tr><td>epoch</td><td>▁▂▃▃▄▅▆▆▇█</td></tr><tr><td>train_accuracy</td><td>▁▅▆▇▇▇████</td></tr><tr><td>train_loss</td><td>█▃▃▂▂▂▁▁▁▁</td></tr><tr><td>val_accuracy</td><td>▁▅▆▇▇▇▇▇██</td></tr><tr><td>val_loss</td><td>█▄▂▂▁▁▂▂▃▂</td></tr></table><br/></div><div class=\"wandb-col\"><h3>Run summary:</h3><br/><table class=\"wandb\"><tr><td>epoch</td><td>9</td></tr><tr><td>train_accuracy</td><td>0.86088</td></tr><tr><td>train_loss</td><td>0.45755</td></tr><tr><td>val_accuracy</td><td>0.71473</td></tr><tr><td>val_loss</td><td>1.0983</td></tr></table><br/></div></div>"
      ],
      "text/plain": [
       "<IPython.core.display.HTML object>"
      ]
     },
     "metadata": {},
     "output_type": "display_data"
    },
    {
     "data": {
      "text/html": [
       " View run <strong style=\"color:#cdcd00\">cell:LSTM_embed:32_hid:128_layers:2_beam:3</strong> at: <a href='https://wandb.ai/da24m015-iitm/dakshina-transliteration/runs/d2402duo' target=\"_blank\">https://wandb.ai/da24m015-iitm/dakshina-transliteration/runs/d2402duo</a><br> View project at: <a href='https://wandb.ai/da24m015-iitm/dakshina-transliteration' target=\"_blank\">https://wandb.ai/da24m015-iitm/dakshina-transliteration</a><br>Synced 5 W&B file(s), 0 media file(s), 0 artifact file(s) and 0 other file(s)"
      ],
      "text/plain": [
       "<IPython.core.display.HTML object>"
      ]
     },
     "metadata": {},
     "output_type": "display_data"
    },
    {
     "data": {
      "text/html": [
       "Find logs at: <code>./wandb/run-20250519_085914-d2402duo/logs</code>"
      ],
      "text/plain": [
       "<IPython.core.display.HTML object>"
      ]
     },
     "metadata": {},
     "output_type": "display_data"
    },
    {
     "name": "stderr",
     "output_type": "stream",
     "text": [
      "\u001b[34m\u001b[1mwandb\u001b[0m: Agent Starting Run: j7pknqhi with config:\n",
      "\u001b[34m\u001b[1mwandb\u001b[0m: \tbatch_size: 32\n",
      "\u001b[34m\u001b[1mwandb\u001b[0m: \tbeam_size: 5\n",
      "\u001b[34m\u001b[1mwandb\u001b[0m: \tcell_type: LSTM\n",
      "\u001b[34m\u001b[1mwandb\u001b[0m: \tdropout: 0.2\n",
      "\u001b[34m\u001b[1mwandb\u001b[0m: \tembed_size: 32\n",
      "\u001b[34m\u001b[1mwandb\u001b[0m: \thidden_size: 128\n",
      "\u001b[34m\u001b[1mwandb\u001b[0m: \tlr: 0.005919524969542634\n",
      "\u001b[34m\u001b[1mwandb\u001b[0m: \tnum_layers: 2\n"
     ]
    },
    {
     "data": {
      "text/html": [
       "Ignoring project 'dakshina-transliteration' when running a sweep."
      ],
      "text/plain": [
       "<IPython.core.display.HTML object>"
      ]
     },
     "metadata": {},
     "output_type": "display_data"
    },
    {
     "data": {
      "text/html": [
       "Tracking run with wandb version 0.19.9"
      ],
      "text/plain": [
       "<IPython.core.display.HTML object>"
      ]
     },
     "metadata": {},
     "output_type": "display_data"
    },
    {
     "data": {
      "text/html": [
       "Run data is saved locally in <code>/kaggle/working/wandb/run-20250519_090511-j7pknqhi</code>"
      ],
      "text/plain": [
       "<IPython.core.display.HTML object>"
      ]
     },
     "metadata": {},
     "output_type": "display_data"
    },
    {
     "data": {
      "text/html": [
       "Syncing run <strong><a href='https://wandb.ai/da24m015-iitm/dakshina-transliteration/runs/j7pknqhi' target=\"_blank\">lemon-sweep-19</a></strong> to <a href='https://wandb.ai/da24m015-iitm/dakshina-transliteration' target=\"_blank\">Weights & Biases</a> (<a href='https://wandb.me/developer-guide' target=\"_blank\">docs</a>)<br>Sweep page: <a href='https://wandb.ai/da24m015-iitm/dakshina-transliteration/sweeps/czrohxns' target=\"_blank\">https://wandb.ai/da24m015-iitm/dakshina-transliteration/sweeps/czrohxns</a>"
      ],
      "text/plain": [
       "<IPython.core.display.HTML object>"
      ]
     },
     "metadata": {},
     "output_type": "display_data"
    },
    {
     "data": {
      "text/html": [
       " View project at <a href='https://wandb.ai/da24m015-iitm/dakshina-transliteration' target=\"_blank\">https://wandb.ai/da24m015-iitm/dakshina-transliteration</a>"
      ],
      "text/plain": [
       "<IPython.core.display.HTML object>"
      ]
     },
     "metadata": {},
     "output_type": "display_data"
    },
    {
     "data": {
      "text/html": [
       " View sweep at <a href='https://wandb.ai/da24m015-iitm/dakshina-transliteration/sweeps/czrohxns' target=\"_blank\">https://wandb.ai/da24m015-iitm/dakshina-transliteration/sweeps/czrohxns</a>"
      ],
      "text/plain": [
       "<IPython.core.display.HTML object>"
      ]
     },
     "metadata": {},
     "output_type": "display_data"
    },
    {
     "data": {
      "text/html": [
       " View run at <a href='https://wandb.ai/da24m015-iitm/dakshina-transliteration/runs/j7pknqhi' target=\"_blank\">https://wandb.ai/da24m015-iitm/dakshina-transliteration/runs/j7pknqhi</a>"
      ],
      "text/plain": [
       "<IPython.core.display.HTML object>"
      ]
     },
     "metadata": {},
     "output_type": "display_data"
    },
    {
     "name": "stderr",
     "output_type": "stream",
     "text": [
      "                                                              \r"
     ]
    },
    {
     "data": {
      "text/html": [],
      "text/plain": [
       "<IPython.core.display.HTML object>"
      ]
     },
     "metadata": {},
     "output_type": "display_data"
    },
    {
     "data": {
      "text/html": [
       "<br>    <style><br>        .wandb-row {<br>            display: flex;<br>            flex-direction: row;<br>            flex-wrap: wrap;<br>            justify-content: flex-start;<br>            width: 100%;<br>        }<br>        .wandb-col {<br>            display: flex;<br>            flex-direction: column;<br>            flex-basis: 100%;<br>            flex: 1;<br>            padding: 10px;<br>        }<br>    </style><br><div class=\"wandb-row\"><div class=\"wandb-col\"><h3>Run history:</h3><br/><table class=\"wandb\"><tr><td>epoch</td><td>▁▂▃▃▄▅▆▆▇█</td></tr><tr><td>train_accuracy</td><td>▁▆▆▇▇█████</td></tr><tr><td>train_loss</td><td>█▃▂▂▂▁▁▁▁▁</td></tr><tr><td>val_accuracy</td><td>▁▄▅▆▆▇▇██▇</td></tr><tr><td>val_loss</td><td>█▄▃▂▂▂▁▂▁▁</td></tr></table><br/></div><div class=\"wandb-col\"><h3>Run summary:</h3><br/><table class=\"wandb\"><tr><td>epoch</td><td>9</td></tr><tr><td>train_accuracy</td><td>0.81448</td></tr><tr><td>train_loss</td><td>0.6065</td></tr><tr><td>val_accuracy</td><td>0.68613</td></tr><tr><td>val_loss</td><td>1.11332</td></tr></table><br/></div></div>"
      ],
      "text/plain": [
       "<IPython.core.display.HTML object>"
      ]
     },
     "metadata": {},
     "output_type": "display_data"
    },
    {
     "data": {
      "text/html": [
       " View run <strong style=\"color:#cdcd00\">cell:LSTM_embed:32_hid:128_layers:2_beam:5</strong> at: <a href='https://wandb.ai/da24m015-iitm/dakshina-transliteration/runs/j7pknqhi' target=\"_blank\">https://wandb.ai/da24m015-iitm/dakshina-transliteration/runs/j7pknqhi</a><br> View project at: <a href='https://wandb.ai/da24m015-iitm/dakshina-transliteration' target=\"_blank\">https://wandb.ai/da24m015-iitm/dakshina-transliteration</a><br>Synced 5 W&B file(s), 0 media file(s), 0 artifact file(s) and 0 other file(s)"
      ],
      "text/plain": [
       "<IPython.core.display.HTML object>"
      ]
     },
     "metadata": {},
     "output_type": "display_data"
    },
    {
     "data": {
      "text/html": [
       "Find logs at: <code>./wandb/run-20250519_090511-j7pknqhi/logs</code>"
      ],
      "text/plain": [
       "<IPython.core.display.HTML object>"
      ]
     },
     "metadata": {},
     "output_type": "display_data"
    },
    {
     "name": "stderr",
     "output_type": "stream",
     "text": [
      "\u001b[34m\u001b[1mwandb\u001b[0m: Agent Starting Run: dvilvfv7 with config:\n",
      "\u001b[34m\u001b[1mwandb\u001b[0m: \tbatch_size: 32\n",
      "\u001b[34m\u001b[1mwandb\u001b[0m: \tbeam_size: 5\n",
      "\u001b[34m\u001b[1mwandb\u001b[0m: \tcell_type: LSTM\n",
      "\u001b[34m\u001b[1mwandb\u001b[0m: \tdropout: 0.2\n",
      "\u001b[34m\u001b[1mwandb\u001b[0m: \tembed_size: 32\n",
      "\u001b[34m\u001b[1mwandb\u001b[0m: \thidden_size: 128\n",
      "\u001b[34m\u001b[1mwandb\u001b[0m: \tlr: 0.0006508197304291338\n",
      "\u001b[34m\u001b[1mwandb\u001b[0m: \tnum_layers: 2\n"
     ]
    },
    {
     "data": {
      "text/html": [
       "Ignoring project 'dakshina-transliteration' when running a sweep."
      ],
      "text/plain": [
       "<IPython.core.display.HTML object>"
      ]
     },
     "metadata": {},
     "output_type": "display_data"
    },
    {
     "data": {
      "text/html": [
       "Tracking run with wandb version 0.19.9"
      ],
      "text/plain": [
       "<IPython.core.display.HTML object>"
      ]
     },
     "metadata": {},
     "output_type": "display_data"
    },
    {
     "data": {
      "text/html": [
       "Run data is saved locally in <code>/kaggle/working/wandb/run-20250519_091109-dvilvfv7</code>"
      ],
      "text/plain": [
       "<IPython.core.display.HTML object>"
      ]
     },
     "metadata": {},
     "output_type": "display_data"
    },
    {
     "data": {
      "text/html": [
       "Syncing run <strong><a href='https://wandb.ai/da24m015-iitm/dakshina-transliteration/runs/dvilvfv7' target=\"_blank\">floral-sweep-20</a></strong> to <a href='https://wandb.ai/da24m015-iitm/dakshina-transliteration' target=\"_blank\">Weights & Biases</a> (<a href='https://wandb.me/developer-guide' target=\"_blank\">docs</a>)<br>Sweep page: <a href='https://wandb.ai/da24m015-iitm/dakshina-transliteration/sweeps/czrohxns' target=\"_blank\">https://wandb.ai/da24m015-iitm/dakshina-transliteration/sweeps/czrohxns</a>"
      ],
      "text/plain": [
       "<IPython.core.display.HTML object>"
      ]
     },
     "metadata": {},
     "output_type": "display_data"
    },
    {
     "data": {
      "text/html": [
       " View project at <a href='https://wandb.ai/da24m015-iitm/dakshina-transliteration' target=\"_blank\">https://wandb.ai/da24m015-iitm/dakshina-transliteration</a>"
      ],
      "text/plain": [
       "<IPython.core.display.HTML object>"
      ]
     },
     "metadata": {},
     "output_type": "display_data"
    },
    {
     "data": {
      "text/html": [
       " View sweep at <a href='https://wandb.ai/da24m015-iitm/dakshina-transliteration/sweeps/czrohxns' target=\"_blank\">https://wandb.ai/da24m015-iitm/dakshina-transliteration/sweeps/czrohxns</a>"
      ],
      "text/plain": [
       "<IPython.core.display.HTML object>"
      ]
     },
     "metadata": {},
     "output_type": "display_data"
    },
    {
     "data": {
      "text/html": [
       " View run at <a href='https://wandb.ai/da24m015-iitm/dakshina-transliteration/runs/dvilvfv7' target=\"_blank\">https://wandb.ai/da24m015-iitm/dakshina-transliteration/runs/dvilvfv7</a>"
      ],
      "text/plain": [
       "<IPython.core.display.HTML object>"
      ]
     },
     "metadata": {},
     "output_type": "display_data"
    },
    {
     "name": "stderr",
     "output_type": "stream",
     "text": [
      "                                                              \r"
     ]
    },
    {
     "data": {
      "text/html": [],
      "text/plain": [
       "<IPython.core.display.HTML object>"
      ]
     },
     "metadata": {},
     "output_type": "display_data"
    },
    {
     "data": {
      "text/html": [
       "<br>    <style><br>        .wandb-row {<br>            display: flex;<br>            flex-direction: row;<br>            flex-wrap: wrap;<br>            justify-content: flex-start;<br>            width: 100%;<br>        }<br>        .wandb-col {<br>            display: flex;<br>            flex-direction: column;<br>            flex-basis: 100%;<br>            flex: 1;<br>            padding: 10px;<br>        }<br>    </style><br><div class=\"wandb-row\"><div class=\"wandb-col\"><h3>Run history:</h3><br/><table class=\"wandb\"><tr><td>epoch</td><td>▁▂▃▃▄▅▆▆▇█</td></tr><tr><td>train_accuracy</td><td>▁▅▆▆▇▇▇███</td></tr><tr><td>train_loss</td><td>█▄▃▂▂▂▁▁▁▁</td></tr><tr><td>val_accuracy</td><td>▁▅▆▇▇▇████</td></tr><tr><td>val_loss</td><td>█▄▃▂▂▁▁▁▁▁</td></tr></table><br/></div><div class=\"wandb-col\"><h3>Run summary:</h3><br/><table class=\"wandb\"><tr><td>epoch</td><td>9</td></tr><tr><td>train_accuracy</td><td>0.84138</td></tr><tr><td>train_loss</td><td>0.52368</td></tr><tr><td>val_accuracy</td><td>0.6968</td></tr><tr><td>val_loss</td><td>1.0851</td></tr></table><br/></div></div>"
      ],
      "text/plain": [
       "<IPython.core.display.HTML object>"
      ]
     },
     "metadata": {},
     "output_type": "display_data"
    },
    {
     "data": {
      "text/html": [
       " View run <strong style=\"color:#cdcd00\">cell:LSTM_embed:32_hid:128_layers:2_beam:5</strong> at: <a href='https://wandb.ai/da24m015-iitm/dakshina-transliteration/runs/dvilvfv7' target=\"_blank\">https://wandb.ai/da24m015-iitm/dakshina-transliteration/runs/dvilvfv7</a><br> View project at: <a href='https://wandb.ai/da24m015-iitm/dakshina-transliteration' target=\"_blank\">https://wandb.ai/da24m015-iitm/dakshina-transliteration</a><br>Synced 5 W&B file(s), 0 media file(s), 0 artifact file(s) and 0 other file(s)"
      ],
      "text/plain": [
       "<IPython.core.display.HTML object>"
      ]
     },
     "metadata": {},
     "output_type": "display_data"
    },
    {
     "data": {
      "text/html": [
       "Find logs at: <code>./wandb/run-20250519_091109-dvilvfv7/logs</code>"
      ],
      "text/plain": [
       "<IPython.core.display.HTML object>"
      ]
     },
     "metadata": {},
     "output_type": "display_data"
    },
    {
     "name": "stderr",
     "output_type": "stream",
     "text": [
      "\u001b[34m\u001b[1mwandb\u001b[0m: Sweep Agent: Waiting for job.\n",
      "\u001b[34m\u001b[1mwandb\u001b[0m: Job received.\n",
      "\u001b[34m\u001b[1mwandb\u001b[0m: Agent Starting Run: 7060k126 with config:\n",
      "\u001b[34m\u001b[1mwandb\u001b[0m: \tbatch_size: 64\n",
      "\u001b[34m\u001b[1mwandb\u001b[0m: \tbeam_size: 5\n",
      "\u001b[34m\u001b[1mwandb\u001b[0m: \tcell_type: GRU\n",
      "\u001b[34m\u001b[1mwandb\u001b[0m: \tdropout: 0.2\n",
      "\u001b[34m\u001b[1mwandb\u001b[0m: \tembed_size: 32\n",
      "\u001b[34m\u001b[1mwandb\u001b[0m: \thidden_size: 128\n",
      "\u001b[34m\u001b[1mwandb\u001b[0m: \tlr: 0.0034080109135907763\n",
      "\u001b[34m\u001b[1mwandb\u001b[0m: \tnum_layers: 2\n"
     ]
    },
    {
     "data": {
      "text/html": [
       "Ignoring project 'dakshina-transliteration' when running a sweep."
      ],
      "text/plain": [
       "<IPython.core.display.HTML object>"
      ]
     },
     "metadata": {},
     "output_type": "display_data"
    },
    {
     "data": {
      "text/html": [
       "Tracking run with wandb version 0.19.9"
      ],
      "text/plain": [
       "<IPython.core.display.HTML object>"
      ]
     },
     "metadata": {},
     "output_type": "display_data"
    },
    {
     "data": {
      "text/html": [
       "Run data is saved locally in <code>/kaggle/working/wandb/run-20250519_091716-7060k126</code>"
      ],
      "text/plain": [
       "<IPython.core.display.HTML object>"
      ]
     },
     "metadata": {},
     "output_type": "display_data"
    },
    {
     "data": {
      "text/html": [
       "Syncing run <strong><a href='https://wandb.ai/da24m015-iitm/dakshina-transliteration/runs/7060k126' target=\"_blank\">comfy-sweep-21</a></strong> to <a href='https://wandb.ai/da24m015-iitm/dakshina-transliteration' target=\"_blank\">Weights & Biases</a> (<a href='https://wandb.me/developer-guide' target=\"_blank\">docs</a>)<br>Sweep page: <a href='https://wandb.ai/da24m015-iitm/dakshina-transliteration/sweeps/czrohxns' target=\"_blank\">https://wandb.ai/da24m015-iitm/dakshina-transliteration/sweeps/czrohxns</a>"
      ],
      "text/plain": [
       "<IPython.core.display.HTML object>"
      ]
     },
     "metadata": {},
     "output_type": "display_data"
    },
    {
     "data": {
      "text/html": [
       " View project at <a href='https://wandb.ai/da24m015-iitm/dakshina-transliteration' target=\"_blank\">https://wandb.ai/da24m015-iitm/dakshina-transliteration</a>"
      ],
      "text/plain": [
       "<IPython.core.display.HTML object>"
      ]
     },
     "metadata": {},
     "output_type": "display_data"
    },
    {
     "data": {
      "text/html": [
       " View sweep at <a href='https://wandb.ai/da24m015-iitm/dakshina-transliteration/sweeps/czrohxns' target=\"_blank\">https://wandb.ai/da24m015-iitm/dakshina-transliteration/sweeps/czrohxns</a>"
      ],
      "text/plain": [
       "<IPython.core.display.HTML object>"
      ]
     },
     "metadata": {},
     "output_type": "display_data"
    },
    {
     "data": {
      "text/html": [
       " View run at <a href='https://wandb.ai/da24m015-iitm/dakshina-transliteration/runs/7060k126' target=\"_blank\">https://wandb.ai/da24m015-iitm/dakshina-transliteration/runs/7060k126</a>"
      ],
      "text/plain": [
       "<IPython.core.display.HTML object>"
      ]
     },
     "metadata": {},
     "output_type": "display_data"
    },
    {
     "name": "stderr",
     "output_type": "stream",
     "text": [
      "                                                            \r"
     ]
    },
    {
     "data": {
      "text/html": [],
      "text/plain": [
       "<IPython.core.display.HTML object>"
      ]
     },
     "metadata": {},
     "output_type": "display_data"
    },
    {
     "data": {
      "text/html": [
       "<br>    <style><br>        .wandb-row {<br>            display: flex;<br>            flex-direction: row;<br>            flex-wrap: wrap;<br>            justify-content: flex-start;<br>            width: 100%;<br>        }<br>        .wandb-col {<br>            display: flex;<br>            flex-direction: column;<br>            flex-basis: 100%;<br>            flex: 1;<br>            padding: 10px;<br>        }<br>    </style><br><div class=\"wandb-row\"><div class=\"wandb-col\"><h3>Run history:</h3><br/><table class=\"wandb\"><tr><td>epoch</td><td>▁▂▃▃▄▅▆▆▇█</td></tr><tr><td>train_accuracy</td><td>▁▆▆▇▇▇████</td></tr><tr><td>train_loss</td><td>█▃▃▂▂▂▁▁▁▁</td></tr><tr><td>val_accuracy</td><td>▁▄▆▆▇▇█▇██</td></tr><tr><td>val_loss</td><td>█▆▂▄▃▃▁▃▂▁</td></tr></table><br/></div><div class=\"wandb-col\"><h3>Run summary:</h3><br/><table class=\"wandb\"><tr><td>epoch</td><td>9</td></tr><tr><td>train_accuracy</td><td>0.82242</td></tr><tr><td>train_loss</td><td>0.58233</td></tr><tr><td>val_accuracy</td><td>0.69365</td></tr><tr><td>val_loss</td><td>1.12499</td></tr></table><br/></div></div>"
      ],
      "text/plain": [
       "<IPython.core.display.HTML object>"
      ]
     },
     "metadata": {},
     "output_type": "display_data"
    },
    {
     "data": {
      "text/html": [
       " View run <strong style=\"color:#cdcd00\">cell:GRU_embed:32_hid:128_layers:2_beam:5</strong> at: <a href='https://wandb.ai/da24m015-iitm/dakshina-transliteration/runs/7060k126' target=\"_blank\">https://wandb.ai/da24m015-iitm/dakshina-transliteration/runs/7060k126</a><br> View project at: <a href='https://wandb.ai/da24m015-iitm/dakshina-transliteration' target=\"_blank\">https://wandb.ai/da24m015-iitm/dakshina-transliteration</a><br>Synced 5 W&B file(s), 0 media file(s), 0 artifact file(s) and 0 other file(s)"
      ],
      "text/plain": [
       "<IPython.core.display.HTML object>"
      ]
     },
     "metadata": {},
     "output_type": "display_data"
    },
    {
     "data": {
      "text/html": [
       "Find logs at: <code>./wandb/run-20250519_091716-7060k126/logs</code>"
      ],
      "text/plain": [
       "<IPython.core.display.HTML object>"
      ]
     },
     "metadata": {},
     "output_type": "display_data"
    },
    {
     "name": "stderr",
     "output_type": "stream",
     "text": [
      "\u001b[34m\u001b[1mwandb\u001b[0m: Agent Starting Run: 7u7myqqj with config:\n",
      "\u001b[34m\u001b[1mwandb\u001b[0m: \tbatch_size: 32\n",
      "\u001b[34m\u001b[1mwandb\u001b[0m: \tbeam_size: 3\n",
      "\u001b[34m\u001b[1mwandb\u001b[0m: \tcell_type: LSTM\n",
      "\u001b[34m\u001b[1mwandb\u001b[0m: \tdropout: 0.3\n",
      "\u001b[34m\u001b[1mwandb\u001b[0m: \tembed_size: 32\n",
      "\u001b[34m\u001b[1mwandb\u001b[0m: \thidden_size: 128\n",
      "\u001b[34m\u001b[1mwandb\u001b[0m: \tlr: 0.0006247118786992442\n",
      "\u001b[34m\u001b[1mwandb\u001b[0m: \tnum_layers: 2\n"
     ]
    },
    {
     "data": {
      "text/html": [
       "Ignoring project 'dakshina-transliteration' when running a sweep."
      ],
      "text/plain": [
       "<IPython.core.display.HTML object>"
      ]
     },
     "metadata": {},
     "output_type": "display_data"
    },
    {
     "data": {
      "text/html": [
       "Tracking run with wandb version 0.19.9"
      ],
      "text/plain": [
       "<IPython.core.display.HTML object>"
      ]
     },
     "metadata": {},
     "output_type": "display_data"
    },
    {
     "data": {
      "text/html": [
       "Run data is saved locally in <code>/kaggle/working/wandb/run-20250519_092028-7u7myqqj</code>"
      ],
      "text/plain": [
       "<IPython.core.display.HTML object>"
      ]
     },
     "metadata": {},
     "output_type": "display_data"
    },
    {
     "data": {
      "text/html": [
       "Syncing run <strong><a href='https://wandb.ai/da24m015-iitm/dakshina-transliteration/runs/7u7myqqj' target=\"_blank\">azure-sweep-22</a></strong> to <a href='https://wandb.ai/da24m015-iitm/dakshina-transliteration' target=\"_blank\">Weights & Biases</a> (<a href='https://wandb.me/developer-guide' target=\"_blank\">docs</a>)<br>Sweep page: <a href='https://wandb.ai/da24m015-iitm/dakshina-transliteration/sweeps/czrohxns' target=\"_blank\">https://wandb.ai/da24m015-iitm/dakshina-transliteration/sweeps/czrohxns</a>"
      ],
      "text/plain": [
       "<IPython.core.display.HTML object>"
      ]
     },
     "metadata": {},
     "output_type": "display_data"
    },
    {
     "data": {
      "text/html": [
       " View project at <a href='https://wandb.ai/da24m015-iitm/dakshina-transliteration' target=\"_blank\">https://wandb.ai/da24m015-iitm/dakshina-transliteration</a>"
      ],
      "text/plain": [
       "<IPython.core.display.HTML object>"
      ]
     },
     "metadata": {},
     "output_type": "display_data"
    },
    {
     "data": {
      "text/html": [
       " View sweep at <a href='https://wandb.ai/da24m015-iitm/dakshina-transliteration/sweeps/czrohxns' target=\"_blank\">https://wandb.ai/da24m015-iitm/dakshina-transliteration/sweeps/czrohxns</a>"
      ],
      "text/plain": [
       "<IPython.core.display.HTML object>"
      ]
     },
     "metadata": {},
     "output_type": "display_data"
    },
    {
     "data": {
      "text/html": [
       " View run at <a href='https://wandb.ai/da24m015-iitm/dakshina-transliteration/runs/7u7myqqj' target=\"_blank\">https://wandb.ai/da24m015-iitm/dakshina-transliteration/runs/7u7myqqj</a>"
      ],
      "text/plain": [
       "<IPython.core.display.HTML object>"
      ]
     },
     "metadata": {},
     "output_type": "display_data"
    },
    {
     "name": "stderr",
     "output_type": "stream",
     "text": [
      "                                                              \r"
     ]
    },
    {
     "data": {
      "text/html": [],
      "text/plain": [
       "<IPython.core.display.HTML object>"
      ]
     },
     "metadata": {},
     "output_type": "display_data"
    },
    {
     "data": {
      "text/html": [
       "<br>    <style><br>        .wandb-row {<br>            display: flex;<br>            flex-direction: row;<br>            flex-wrap: wrap;<br>            justify-content: flex-start;<br>            width: 100%;<br>        }<br>        .wandb-col {<br>            display: flex;<br>            flex-direction: column;<br>            flex-basis: 100%;<br>            flex: 1;<br>            padding: 10px;<br>        }<br>    </style><br><div class=\"wandb-row\"><div class=\"wandb-col\"><h3>Run history:</h3><br/><table class=\"wandb\"><tr><td>epoch</td><td>▁▂▃▃▄▅▆▆▇█</td></tr><tr><td>train_accuracy</td><td>▁▅▆▆▇▇▇███</td></tr><tr><td>train_loss</td><td>█▄▃▂▂▂▁▁▁▁</td></tr><tr><td>val_accuracy</td><td>▁▄▆▆▇▇▇███</td></tr><tr><td>val_loss</td><td>█▄▃▂▂▁▁▁▁▁</td></tr></table><br/></div><div class=\"wandb-col\"><h3>Run summary:</h3><br/><table class=\"wandb\"><tr><td>epoch</td><td>9</td></tr><tr><td>train_accuracy</td><td>0.82625</td></tr><tr><td>train_loss</td><td>0.56838</td></tr><tr><td>val_accuracy</td><td>0.69567</td></tr><tr><td>val_loss</td><td>1.06742</td></tr></table><br/></div></div>"
      ],
      "text/plain": [
       "<IPython.core.display.HTML object>"
      ]
     },
     "metadata": {},
     "output_type": "display_data"
    },
    {
     "data": {
      "text/html": [
       " View run <strong style=\"color:#cdcd00\">cell:LSTM_embed:32_hid:128_layers:2_beam:3</strong> at: <a href='https://wandb.ai/da24m015-iitm/dakshina-transliteration/runs/7u7myqqj' target=\"_blank\">https://wandb.ai/da24m015-iitm/dakshina-transliteration/runs/7u7myqqj</a><br> View project at: <a href='https://wandb.ai/da24m015-iitm/dakshina-transliteration' target=\"_blank\">https://wandb.ai/da24m015-iitm/dakshina-transliteration</a><br>Synced 5 W&B file(s), 0 media file(s), 0 artifact file(s) and 0 other file(s)"
      ],
      "text/plain": [
       "<IPython.core.display.HTML object>"
      ]
     },
     "metadata": {},
     "output_type": "display_data"
    },
    {
     "data": {
      "text/html": [
       "Find logs at: <code>./wandb/run-20250519_092028-7u7myqqj/logs</code>"
      ],
      "text/plain": [
       "<IPython.core.display.HTML object>"
      ]
     },
     "metadata": {},
     "output_type": "display_data"
    },
    {
     "name": "stderr",
     "output_type": "stream",
     "text": [
      "\u001b[34m\u001b[1mwandb\u001b[0m: Agent Starting Run: tn9i4whs with config:\n",
      "\u001b[34m\u001b[1mwandb\u001b[0m: \tbatch_size: 32\n",
      "\u001b[34m\u001b[1mwandb\u001b[0m: \tbeam_size: 5\n",
      "\u001b[34m\u001b[1mwandb\u001b[0m: \tcell_type: LSTM\n",
      "\u001b[34m\u001b[1mwandb\u001b[0m: \tdropout: 0.3\n",
      "\u001b[34m\u001b[1mwandb\u001b[0m: \tembed_size: 32\n",
      "\u001b[34m\u001b[1mwandb\u001b[0m: \thidden_size: 128\n",
      "\u001b[34m\u001b[1mwandb\u001b[0m: \tlr: 0.001909092370545785\n",
      "\u001b[34m\u001b[1mwandb\u001b[0m: \tnum_layers: 2\n"
     ]
    },
    {
     "data": {
      "text/html": [
       "Ignoring project 'dakshina-transliteration' when running a sweep."
      ],
      "text/plain": [
       "<IPython.core.display.HTML object>"
      ]
     },
     "metadata": {},
     "output_type": "display_data"
    },
    {
     "data": {
      "text/html": [
       "Tracking run with wandb version 0.19.9"
      ],
      "text/plain": [
       "<IPython.core.display.HTML object>"
      ]
     },
     "metadata": {},
     "output_type": "display_data"
    },
    {
     "data": {
      "text/html": [
       "Run data is saved locally in <code>/kaggle/working/wandb/run-20250519_092626-tn9i4whs</code>"
      ],
      "text/plain": [
       "<IPython.core.display.HTML object>"
      ]
     },
     "metadata": {},
     "output_type": "display_data"
    },
    {
     "data": {
      "text/html": [
       "Syncing run <strong><a href='https://wandb.ai/da24m015-iitm/dakshina-transliteration/runs/tn9i4whs' target=\"_blank\">rose-sweep-23</a></strong> to <a href='https://wandb.ai/da24m015-iitm/dakshina-transliteration' target=\"_blank\">Weights & Biases</a> (<a href='https://wandb.me/developer-guide' target=\"_blank\">docs</a>)<br>Sweep page: <a href='https://wandb.ai/da24m015-iitm/dakshina-transliteration/sweeps/czrohxns' target=\"_blank\">https://wandb.ai/da24m015-iitm/dakshina-transliteration/sweeps/czrohxns</a>"
      ],
      "text/plain": [
       "<IPython.core.display.HTML object>"
      ]
     },
     "metadata": {},
     "output_type": "display_data"
    },
    {
     "data": {
      "text/html": [
       " View project at <a href='https://wandb.ai/da24m015-iitm/dakshina-transliteration' target=\"_blank\">https://wandb.ai/da24m015-iitm/dakshina-transliteration</a>"
      ],
      "text/plain": [
       "<IPython.core.display.HTML object>"
      ]
     },
     "metadata": {},
     "output_type": "display_data"
    },
    {
     "data": {
      "text/html": [
       " View sweep at <a href='https://wandb.ai/da24m015-iitm/dakshina-transliteration/sweeps/czrohxns' target=\"_blank\">https://wandb.ai/da24m015-iitm/dakshina-transliteration/sweeps/czrohxns</a>"
      ],
      "text/plain": [
       "<IPython.core.display.HTML object>"
      ]
     },
     "metadata": {},
     "output_type": "display_data"
    },
    {
     "data": {
      "text/html": [
       " View run at <a href='https://wandb.ai/da24m015-iitm/dakshina-transliteration/runs/tn9i4whs' target=\"_blank\">https://wandb.ai/da24m015-iitm/dakshina-transliteration/runs/tn9i4whs</a>"
      ],
      "text/plain": [
       "<IPython.core.display.HTML object>"
      ]
     },
     "metadata": {},
     "output_type": "display_data"
    },
    {
     "name": "stderr",
     "output_type": "stream",
     "text": [
      "                                                              \r"
     ]
    },
    {
     "data": {
      "text/html": [],
      "text/plain": [
       "<IPython.core.display.HTML object>"
      ]
     },
     "metadata": {},
     "output_type": "display_data"
    },
    {
     "data": {
      "text/html": [
       "<br>    <style><br>        .wandb-row {<br>            display: flex;<br>            flex-direction: row;<br>            flex-wrap: wrap;<br>            justify-content: flex-start;<br>            width: 100%;<br>        }<br>        .wandb-col {<br>            display: flex;<br>            flex-direction: column;<br>            flex-basis: 100%;<br>            flex: 1;<br>            padding: 10px;<br>        }<br>    </style><br><div class=\"wandb-row\"><div class=\"wandb-col\"><h3>Run history:</h3><br/><table class=\"wandb\"><tr><td>epoch</td><td>▁▂▃▃▄▅▆▆▇█</td></tr><tr><td>train_accuracy</td><td>▁▅▆▇▇▇████</td></tr><tr><td>train_loss</td><td>█▄▃▂▂▂▁▁▁▁</td></tr><tr><td>val_accuracy</td><td>▁▄▆▇▇▇▇███</td></tr><tr><td>val_loss</td><td>█▄▃▁▂▂▂▁▃▃</td></tr></table><br/></div><div class=\"wandb-col\"><h3>Run summary:</h3><br/><table class=\"wandb\"><tr><td>epoch</td><td>9</td></tr><tr><td>train_accuracy</td><td>0.85628</td></tr><tr><td>train_loss</td><td>0.47332</td></tr><tr><td>val_accuracy</td><td>0.71087</td></tr><tr><td>val_loss</td><td>1.09196</td></tr></table><br/></div></div>"
      ],
      "text/plain": [
       "<IPython.core.display.HTML object>"
      ]
     },
     "metadata": {},
     "output_type": "display_data"
    },
    {
     "data": {
      "text/html": [
       " View run <strong style=\"color:#cdcd00\">cell:LSTM_embed:32_hid:128_layers:2_beam:5</strong> at: <a href='https://wandb.ai/da24m015-iitm/dakshina-transliteration/runs/tn9i4whs' target=\"_blank\">https://wandb.ai/da24m015-iitm/dakshina-transliteration/runs/tn9i4whs</a><br> View project at: <a href='https://wandb.ai/da24m015-iitm/dakshina-transliteration' target=\"_blank\">https://wandb.ai/da24m015-iitm/dakshina-transliteration</a><br>Synced 5 W&B file(s), 0 media file(s), 0 artifact file(s) and 0 other file(s)"
      ],
      "text/plain": [
       "<IPython.core.display.HTML object>"
      ]
     },
     "metadata": {},
     "output_type": "display_data"
    },
    {
     "data": {
      "text/html": [
       "Find logs at: <code>./wandb/run-20250519_092626-tn9i4whs/logs</code>"
      ],
      "text/plain": [
       "<IPython.core.display.HTML object>"
      ]
     },
     "metadata": {},
     "output_type": "display_data"
    },
    {
     "name": "stderr",
     "output_type": "stream",
     "text": [
      "\u001b[34m\u001b[1mwandb\u001b[0m: Agent Starting Run: sk1znvb3 with config:\n",
      "\u001b[34m\u001b[1mwandb\u001b[0m: \tbatch_size: 32\n",
      "\u001b[34m\u001b[1mwandb\u001b[0m: \tbeam_size: 5\n",
      "\u001b[34m\u001b[1mwandb\u001b[0m: \tcell_type: LSTM\n",
      "\u001b[34m\u001b[1mwandb\u001b[0m: \tdropout: 0.3\n",
      "\u001b[34m\u001b[1mwandb\u001b[0m: \tembed_size: 32\n",
      "\u001b[34m\u001b[1mwandb\u001b[0m: \thidden_size: 128\n",
      "\u001b[34m\u001b[1mwandb\u001b[0m: \tlr: 0.0031566859318222437\n",
      "\u001b[34m\u001b[1mwandb\u001b[0m: \tnum_layers: 2\n"
     ]
    },
    {
     "data": {
      "text/html": [
       "Ignoring project 'dakshina-transliteration' when running a sweep."
      ],
      "text/plain": [
       "<IPython.core.display.HTML object>"
      ]
     },
     "metadata": {},
     "output_type": "display_data"
    },
    {
     "data": {
      "text/html": [
       "Tracking run with wandb version 0.19.9"
      ],
      "text/plain": [
       "<IPython.core.display.HTML object>"
      ]
     },
     "metadata": {},
     "output_type": "display_data"
    },
    {
     "data": {
      "text/html": [
       "Run data is saved locally in <code>/kaggle/working/wandb/run-20250519_093224-sk1znvb3</code>"
      ],
      "text/plain": [
       "<IPython.core.display.HTML object>"
      ]
     },
     "metadata": {},
     "output_type": "display_data"
    },
    {
     "data": {
      "text/html": [
       "Syncing run <strong><a href='https://wandb.ai/da24m015-iitm/dakshina-transliteration/runs/sk1znvb3' target=\"_blank\">different-sweep-24</a></strong> to <a href='https://wandb.ai/da24m015-iitm/dakshina-transliteration' target=\"_blank\">Weights & Biases</a> (<a href='https://wandb.me/developer-guide' target=\"_blank\">docs</a>)<br>Sweep page: <a href='https://wandb.ai/da24m015-iitm/dakshina-transliteration/sweeps/czrohxns' target=\"_blank\">https://wandb.ai/da24m015-iitm/dakshina-transliteration/sweeps/czrohxns</a>"
      ],
      "text/plain": [
       "<IPython.core.display.HTML object>"
      ]
     },
     "metadata": {},
     "output_type": "display_data"
    },
    {
     "data": {
      "text/html": [
       " View project at <a href='https://wandb.ai/da24m015-iitm/dakshina-transliteration' target=\"_blank\">https://wandb.ai/da24m015-iitm/dakshina-transliteration</a>"
      ],
      "text/plain": [
       "<IPython.core.display.HTML object>"
      ]
     },
     "metadata": {},
     "output_type": "display_data"
    },
    {
     "data": {
      "text/html": [
       " View sweep at <a href='https://wandb.ai/da24m015-iitm/dakshina-transliteration/sweeps/czrohxns' target=\"_blank\">https://wandb.ai/da24m015-iitm/dakshina-transliteration/sweeps/czrohxns</a>"
      ],
      "text/plain": [
       "<IPython.core.display.HTML object>"
      ]
     },
     "metadata": {},
     "output_type": "display_data"
    },
    {
     "data": {
      "text/html": [
       " View run at <a href='https://wandb.ai/da24m015-iitm/dakshina-transliteration/runs/sk1znvb3' target=\"_blank\">https://wandb.ai/da24m015-iitm/dakshina-transliteration/runs/sk1znvb3</a>"
      ],
      "text/plain": [
       "<IPython.core.display.HTML object>"
      ]
     },
     "metadata": {},
     "output_type": "display_data"
    },
    {
     "name": "stderr",
     "output_type": "stream",
     "text": [
      "                                                              \r"
     ]
    },
    {
     "data": {
      "text/html": [],
      "text/plain": [
       "<IPython.core.display.HTML object>"
      ]
     },
     "metadata": {},
     "output_type": "display_data"
    },
    {
     "data": {
      "text/html": [
       "<br>    <style><br>        .wandb-row {<br>            display: flex;<br>            flex-direction: row;<br>            flex-wrap: wrap;<br>            justify-content: flex-start;<br>            width: 100%;<br>        }<br>        .wandb-col {<br>            display: flex;<br>            flex-direction: column;<br>            flex-basis: 100%;<br>            flex: 1;<br>            padding: 10px;<br>        }<br>    </style><br><div class=\"wandb-row\"><div class=\"wandb-col\"><h3>Run history:</h3><br/><table class=\"wandb\"><tr><td>epoch</td><td>▁▂▃▃▄▅▆▆▇█</td></tr><tr><td>train_accuracy</td><td>▁▅▆▇▇▇████</td></tr><tr><td>train_loss</td><td>█▃▃▂▂▂▁▁▁▁</td></tr><tr><td>val_accuracy</td><td>▁▄▅▇▇███▇▇</td></tr><tr><td>val_loss</td><td>█▃▃▁▂▂▁▂▃▃</td></tr></table><br/></div><div class=\"wandb-col\"><h3>Run summary:</h3><br/><table class=\"wandb\"><tr><td>epoch</td><td>9</td></tr><tr><td>train_accuracy</td><td>0.84484</td></tr><tr><td>train_loss</td><td>0.50697</td></tr><tr><td>val_accuracy</td><td>0.70131</td></tr><tr><td>val_loss</td><td>1.10307</td></tr></table><br/></div></div>"
      ],
      "text/plain": [
       "<IPython.core.display.HTML object>"
      ]
     },
     "metadata": {},
     "output_type": "display_data"
    },
    {
     "data": {
      "text/html": [
       " View run <strong style=\"color:#cdcd00\">cell:LSTM_embed:32_hid:128_layers:2_beam:5</strong> at: <a href='https://wandb.ai/da24m015-iitm/dakshina-transliteration/runs/sk1znvb3' target=\"_blank\">https://wandb.ai/da24m015-iitm/dakshina-transliteration/runs/sk1znvb3</a><br> View project at: <a href='https://wandb.ai/da24m015-iitm/dakshina-transliteration' target=\"_blank\">https://wandb.ai/da24m015-iitm/dakshina-transliteration</a><br>Synced 5 W&B file(s), 0 media file(s), 0 artifact file(s) and 0 other file(s)"
      ],
      "text/plain": [
       "<IPython.core.display.HTML object>"
      ]
     },
     "metadata": {},
     "output_type": "display_data"
    },
    {
     "data": {
      "text/html": [
       "Find logs at: <code>./wandb/run-20250519_093224-sk1znvb3/logs</code>"
      ],
      "text/plain": [
       "<IPython.core.display.HTML object>"
      ]
     },
     "metadata": {},
     "output_type": "display_data"
    },
    {
     "name": "stderr",
     "output_type": "stream",
     "text": [
      "\u001b[34m\u001b[1mwandb\u001b[0m: Agent Starting Run: 8j7s63jp with config:\n",
      "\u001b[34m\u001b[1mwandb\u001b[0m: \tbatch_size: 32\n",
      "\u001b[34m\u001b[1mwandb\u001b[0m: \tbeam_size: 5\n",
      "\u001b[34m\u001b[1mwandb\u001b[0m: \tcell_type: LSTM\n",
      "\u001b[34m\u001b[1mwandb\u001b[0m: \tdropout: 0.3\n",
      "\u001b[34m\u001b[1mwandb\u001b[0m: \tembed_size: 32\n",
      "\u001b[34m\u001b[1mwandb\u001b[0m: \thidden_size: 128\n",
      "\u001b[34m\u001b[1mwandb\u001b[0m: \tlr: 0.0017271577063210505\n",
      "\u001b[34m\u001b[1mwandb\u001b[0m: \tnum_layers: 2\n"
     ]
    },
    {
     "data": {
      "text/html": [
       "Ignoring project 'dakshina-transliteration' when running a sweep."
      ],
      "text/plain": [
       "<IPython.core.display.HTML object>"
      ]
     },
     "metadata": {},
     "output_type": "display_data"
    },
    {
     "data": {
      "text/html": [
       "Tracking run with wandb version 0.19.9"
      ],
      "text/plain": [
       "<IPython.core.display.HTML object>"
      ]
     },
     "metadata": {},
     "output_type": "display_data"
    },
    {
     "data": {
      "text/html": [
       "Run data is saved locally in <code>/kaggle/working/wandb/run-20250519_093826-8j7s63jp</code>"
      ],
      "text/plain": [
       "<IPython.core.display.HTML object>"
      ]
     },
     "metadata": {},
     "output_type": "display_data"
    },
    {
     "data": {
      "text/html": [
       "Syncing run <strong><a href='https://wandb.ai/da24m015-iitm/dakshina-transliteration/runs/8j7s63jp' target=\"_blank\">firm-sweep-25</a></strong> to <a href='https://wandb.ai/da24m015-iitm/dakshina-transliteration' target=\"_blank\">Weights & Biases</a> (<a href='https://wandb.me/developer-guide' target=\"_blank\">docs</a>)<br>Sweep page: <a href='https://wandb.ai/da24m015-iitm/dakshina-transliteration/sweeps/czrohxns' target=\"_blank\">https://wandb.ai/da24m015-iitm/dakshina-transliteration/sweeps/czrohxns</a>"
      ],
      "text/plain": [
       "<IPython.core.display.HTML object>"
      ]
     },
     "metadata": {},
     "output_type": "display_data"
    },
    {
     "data": {
      "text/html": [
       " View project at <a href='https://wandb.ai/da24m015-iitm/dakshina-transliteration' target=\"_blank\">https://wandb.ai/da24m015-iitm/dakshina-transliteration</a>"
      ],
      "text/plain": [
       "<IPython.core.display.HTML object>"
      ]
     },
     "metadata": {},
     "output_type": "display_data"
    },
    {
     "data": {
      "text/html": [
       " View sweep at <a href='https://wandb.ai/da24m015-iitm/dakshina-transliteration/sweeps/czrohxns' target=\"_blank\">https://wandb.ai/da24m015-iitm/dakshina-transliteration/sweeps/czrohxns</a>"
      ],
      "text/plain": [
       "<IPython.core.display.HTML object>"
      ]
     },
     "metadata": {},
     "output_type": "display_data"
    },
    {
     "data": {
      "text/html": [
       " View run at <a href='https://wandb.ai/da24m015-iitm/dakshina-transliteration/runs/8j7s63jp' target=\"_blank\">https://wandb.ai/da24m015-iitm/dakshina-transliteration/runs/8j7s63jp</a>"
      ],
      "text/plain": [
       "<IPython.core.display.HTML object>"
      ]
     },
     "metadata": {},
     "output_type": "display_data"
    },
    {
     "name": "stderr",
     "output_type": "stream",
     "text": [
      "                                                              \r"
     ]
    },
    {
     "data": {
      "text/html": [],
      "text/plain": [
       "<IPython.core.display.HTML object>"
      ]
     },
     "metadata": {},
     "output_type": "display_data"
    },
    {
     "data": {
      "text/html": [
       "<br>    <style><br>        .wandb-row {<br>            display: flex;<br>            flex-direction: row;<br>            flex-wrap: wrap;<br>            justify-content: flex-start;<br>            width: 100%;<br>        }<br>        .wandb-col {<br>            display: flex;<br>            flex-direction: column;<br>            flex-basis: 100%;<br>            flex: 1;<br>            padding: 10px;<br>        }<br>    </style><br><div class=\"wandb-row\"><div class=\"wandb-col\"><h3>Run history:</h3><br/><table class=\"wandb\"><tr><td>epoch</td><td>▁▂▃▃▄▅▆▆▇█</td></tr><tr><td>train_accuracy</td><td>▁▅▆▇▇▇████</td></tr><tr><td>train_loss</td><td>█▄▃▂▂▂▁▁▁▁</td></tr><tr><td>val_accuracy</td><td>▁▄▅▆▆▇███▇</td></tr><tr><td>val_loss</td><td>█▄▃▃▂▁▂▁▂▂</td></tr></table><br/></div><div class=\"wandb-col\"><h3>Run summary:</h3><br/><table class=\"wandb\"><tr><td>epoch</td><td>9</td></tr><tr><td>train_accuracy</td><td>0.85843</td></tr><tr><td>train_loss</td><td>0.466</td></tr><tr><td>val_accuracy</td><td>0.70856</td></tr><tr><td>val_loss</td><td>1.09506</td></tr></table><br/></div></div>"
      ],
      "text/plain": [
       "<IPython.core.display.HTML object>"
      ]
     },
     "metadata": {},
     "output_type": "display_data"
    },
    {
     "data": {
      "text/html": [
       " View run <strong style=\"color:#cdcd00\">cell:LSTM_embed:32_hid:128_layers:2_beam:5</strong> at: <a href='https://wandb.ai/da24m015-iitm/dakshina-transliteration/runs/8j7s63jp' target=\"_blank\">https://wandb.ai/da24m015-iitm/dakshina-transliteration/runs/8j7s63jp</a><br> View project at: <a href='https://wandb.ai/da24m015-iitm/dakshina-transliteration' target=\"_blank\">https://wandb.ai/da24m015-iitm/dakshina-transliteration</a><br>Synced 5 W&B file(s), 0 media file(s), 0 artifact file(s) and 0 other file(s)"
      ],
      "text/plain": [
       "<IPython.core.display.HTML object>"
      ]
     },
     "metadata": {},
     "output_type": "display_data"
    },
    {
     "data": {
      "text/html": [
       "Find logs at: <code>./wandb/run-20250519_093826-8j7s63jp/logs</code>"
      ],
      "text/plain": [
       "<IPython.core.display.HTML object>"
      ]
     },
     "metadata": {},
     "output_type": "display_data"
    }
   ],
   "source": [
    "import torch\n",
    "import torch.nn as nn\n",
    "from torch.utils.data import DataLoader, Dataset\n",
    "import pandas as pd\n",
    "import wandb\n",
    "from tqdm import tqdm\n",
    "\n",
    "# Dataset utilities\n",
    "class TransliterationDataset(Dataset):\n",
    "    def __init__(self, pairs, input_vocab, output_vocab):\n",
    "        self.pairs = pairs\n",
    "        self.input_vocab = input_vocab\n",
    "        self.output_vocab = output_vocab\n",
    "        self.sos = output_vocab['<sos>']\n",
    "        self.eos = output_vocab['<eos>']\n",
    "\n",
    "    def __len__(self):\n",
    "        return len(self.pairs)\n",
    "\n",
    "    def __getitem__(self, idx):\n",
    "        source, target = self.pairs[idx]\n",
    "        input_ids = [self.input_vocab[c] for c in source]\n",
    "        target_ids = [self.sos] + [self.output_vocab[c] for c in target] + [self.eos]\n",
    "        return torch.tensor(input_ids), torch.tensor(target_ids)\n",
    "\n",
    "def build_vocab(pairs):\n",
    "    input_chars = set()\n",
    "    output_chars = set()\n",
    "    for source, target in pairs:\n",
    "        input_chars.update(source)\n",
    "        output_chars.update(target)\n",
    "    input_vocab = {c: i + 1 for i, c in enumerate(sorted(input_chars))}\n",
    "    input_vocab['<pad>'] = 0\n",
    "    output_vocab = {c: i + 3 for i, c in enumerate(sorted(output_chars))}\n",
    "    output_vocab.update({'<pad>': 0, '<sos>': 1, '<eos>': 2})\n",
    "    return input_vocab, output_vocab\n",
    "\n",
    "def load_pairs(path):\n",
    "    df = pd.read_csv(path, sep=\"\\t\", header=None, names=[\"target\", \"source\", \"count\"], dtype=str)\n",
    "    df.dropna(subset=[\"source\", \"target\"], inplace=True)\n",
    "    return list(zip(df[\"source\"], df[\"target\"]))\n",
    "\n",
    "def collate_fn(batch):\n",
    "    inputs, targets = zip(*batch)\n",
    "    input_lens = [len(seq) for seq in inputs]\n",
    "    target_lens = [len(seq) for seq in targets]\n",
    "    inputs_padded = nn.utils.rnn.pad_sequence(inputs, batch_first=True, padding_value=0)\n",
    "    targets_padded = nn.utils.rnn.pad_sequence(targets, batch_first=True, padding_value=0)\n",
    "    return inputs_padded, targets_padded, input_lens, target_lens\n",
    "\n",
    "class Encoder(nn.Module):\n",
    "    def __init__(self, input_size, embed_size, hidden_size, num_layers, cell_type, dropout):\n",
    "        super().__init__()\n",
    "        self.embedding = nn.Embedding(input_size, embed_size, padding_idx=0)\n",
    "        rnn_class = {'RNN': nn.RNN, 'GRU': nn.GRU, 'LSTM': nn.LSTM}[cell_type]\n",
    "        self.rnn = rnn_class(embed_size, hidden_size, num_layers, batch_first=True, dropout=dropout if num_layers > 1 else 0)\n",
    "\n",
    "    def forward(self, x, lengths):\n",
    "        x = self.embedding(x)\n",
    "        packed = nn.utils.rnn.pack_padded_sequence(x, lengths, batch_first=True, enforce_sorted=False)\n",
    "        outputs, hidden = self.rnn(packed)\n",
    "        return hidden\n",
    "\n",
    "class Decoder(nn.Module):\n",
    "    def __init__(self, output_size, embed_size, hidden_size, num_layers, cell_type, dropout):\n",
    "        super().__init__()\n",
    "        self.embedding = nn.Embedding(output_size, embed_size, padding_idx=0)\n",
    "        rnn_class = {'RNN': nn.RNN, 'GRU': nn.GRU, 'LSTM': nn.LSTM}[cell_type]\n",
    "        self.rnn = rnn_class(embed_size, hidden_size, num_layers, batch_first=True, dropout=dropout if num_layers > 1 else 0)\n",
    "        self.fc = nn.Linear(hidden_size, output_size)\n",
    "\n",
    "    def forward(self, input_token, hidden):\n",
    "        x = self.embedding(input_token.unsqueeze(1))\n",
    "        output, hidden = self.rnn(x, hidden)\n",
    "        output = self.fc(output.squeeze(1))\n",
    "        return output, hidden\n",
    "\n",
    "    def beam_search(self, hidden, max_len, sos_idx, eos_idx, beam_size=3):\n",
    "        device = next(self.parameters()).device\n",
    "        sequences = [[torch.tensor([sos_idx], device=device), hidden, 0.0]]\n",
    "        completed = []\n",
    "\n",
    "        for _ in range(max_len):\n",
    "            new_sequences = []\n",
    "            for seq, h, score in sequences:\n",
    "                input_token = seq[-1].unsqueeze(0)\n",
    "                output, new_hidden = self.forward(input_token, h)\n",
    "                probs = torch.log_softmax(output, dim=-1).squeeze(0)\n",
    "                topk_probs, topk_indices = probs.topk(beam_size)\n",
    "                for i in range(beam_size):\n",
    "                    next_token = topk_indices[i].item()\n",
    "                    new_score = score + topk_probs[i].item()\n",
    "                    new_seq = torch.cat([seq, torch.tensor([next_token], device=device)])\n",
    "                    new_sequences.append([new_seq, new_hidden, new_score])\n",
    "            sequences = sorted(new_sequences, key=lambda x: x[2], reverse=True)[:beam_size]\n",
    "            completed.extend([seq for seq in sequences if seq[0][-1].item() == eos_idx])\n",
    "            sequences = [seq for seq in sequences if seq[0][-1].item() != eos_idx]\n",
    "            if not sequences:\n",
    "                break\n",
    "        completed = sorted(completed, key=lambda x: x[2], reverse=True)\n",
    "        return completed[0][0] if completed else sequences[0][0]\n",
    "\n",
    "class Seq2Seq(nn.Module):\n",
    "    def __init__(self, encoder, decoder):\n",
    "        super().__init__()\n",
    "        self.encoder = encoder\n",
    "        self.decoder = decoder\n",
    "\n",
    "    def forward(self, src, src_lens, tgt=None, teacher_forcing_ratio=0.5):\n",
    "        batch_size = src.size(0)\n",
    "        device = src.device\n",
    "        hidden = self.encoder(src, src_lens)\n",
    "        if tgt is not None:\n",
    "            tgt_len = tgt.size(1)\n",
    "            outputs = torch.zeros(batch_size, tgt_len, self.decoder.fc.out_features, device=device)\n",
    "            input_token = tgt[:, 0]\n",
    "            for t in range(1, tgt_len):\n",
    "                output, hidden = self.decoder(input_token, hidden)\n",
    "                outputs[:, t] = output\n",
    "                teacher_force = torch.rand(1).item() < teacher_forcing_ratio\n",
    "                input_token = tgt[:, t] if teacher_force else output.argmax(1)\n",
    "            return outputs\n",
    "        else:\n",
    "            return [self.decoder.beam_search(hidden, max_len=20, sos_idx=1, eos_idx=2) for _ in range(batch_size)]\n",
    "\n",
    "def accuracy(preds, targets, pad_idx=0):\n",
    "    pred_tokens = preds.argmax(dim=-1)\n",
    "    correct = ((pred_tokens == targets) & (targets != pad_idx)).sum().item()\n",
    "    total = (targets != pad_idx).sum().item()\n",
    "    return correct / total if total > 0 else 0.0\n",
    "\n",
    "def train(model, loader, optimizer, criterion, device):\n",
    "    model.train()\n",
    "    total_loss, total_acc = 0, 0\n",
    "    for src, tgt, src_lens, tgt_lens in tqdm(loader, desc=\"Training\", leave=False):\n",
    "        src, tgt = src.to(device), tgt.to(device)\n",
    "        optimizer.zero_grad()\n",
    "        output = model(src, src_lens, tgt)\n",
    "        loss = criterion(output[:, 1:].reshape(-1, output.size(-1)), tgt[:, 1:].reshape(-1))\n",
    "        acc = accuracy(output[:, 1:], tgt[:, 1:])\n",
    "        loss.backward()\n",
    "        optimizer.step()\n",
    "        total_loss += loss.item()\n",
    "        total_acc += acc\n",
    "    return total_loss / len(loader), total_acc / len(loader)\n",
    "\n",
    "@torch.no_grad()\n",
    "def evaluate(model, loader, criterion, device):\n",
    "    model.eval()\n",
    "    total_loss, total_acc = 0, 0\n",
    "    for src, tgt, src_lens, tgt_lens in tqdm(loader, desc=\"Evaluating\", leave=False):\n",
    "        src, tgt = src.to(device), tgt.to(device)\n",
    "        output = model(src, src_lens, tgt, teacher_forcing_ratio=0.0)\n",
    "        loss = criterion(output[:, 1:].reshape(-1, output.size(-1)), tgt[:, 1:].reshape(-1))\n",
    "        acc = accuracy(output[:, 1:], tgt[:, 1:])\n",
    "        total_loss += loss.item()\n",
    "        total_acc += acc\n",
    "    return total_loss / len(loader), total_acc / len(loader)\n",
    "\n",
    "def main():\n",
    "    import wandb\n",
    "    # Run name will be assigned after wandb.init with config\n",
    "    def generate_run_name(config):\n",
    "        return f\"cell:{config.cell_type}_embed:{config.embed_size}_hid:{config.hidden_size}_layers:{config.num_layers}_beam:{config.beam_size}\"\n",
    "\n",
    "    # First initialize W&B run with placeholder name\n",
    "    wandb.init(project=\"dakshina-transliteration\", config=wandb.config)\n",
    "    config = wandb.config\n",
    "\n",
    "    # Then update the run name\n",
    "    wandb.run.name = generate_run_name(config)\n",
    "    wandb.run.save()  # optional: makes sure name shows up immediately\n",
    "\n",
    "    device = torch.device(\"cuda\" if torch.cuda.is_available() else \"cpu\")\n",
    "\n",
    "    train_pairs = load_pairs(\"/kaggle/input/dakshina-dataset/hi/lexicons/hi.translit.sampled.train.tsv\")\n",
    "    dev_pairs = load_pairs(\"/kaggle/input/dakshina-dataset/hi/lexicons/hi.translit.sampled.dev.tsv\")\n",
    "    input_vocab, output_vocab = build_vocab(train_pairs)\n",
    "    train_dataset = TransliterationDataset(train_pairs, input_vocab, output_vocab)\n",
    "    dev_dataset = TransliterationDataset(dev_pairs, input_vocab, output_vocab)\n",
    "\n",
    "    train_loader = DataLoader(train_dataset, batch_size=config.batch_size, shuffle=True, collate_fn=collate_fn)\n",
    "    dev_loader = DataLoader(dev_dataset, batch_size=config.batch_size, shuffle=False, collate_fn=collate_fn)\n",
    "\n",
    "    encoder = Encoder(len(input_vocab), config.embed_size, config.hidden_size, config.num_layers, config.cell_type, config.dropout)\n",
    "    decoder = Decoder(len(output_vocab), config.embed_size, config.hidden_size, config.num_layers, config.cell_type, config.dropout)\n",
    "    model = Seq2Seq(encoder, decoder).to(device)\n",
    "\n",
    "    optimizer = torch.optim.Adam(model.parameters(), lr=config.lr)\n",
    "    criterion = nn.CrossEntropyLoss(ignore_index=0)\n",
    "\n",
    "    for epoch in range(10):\n",
    "        train_loss, train_acc = train(model, train_loader, optimizer, criterion, device)\n",
    "        val_loss, val_acc = evaluate(model, dev_loader, criterion, device)\n",
    "        wandb.log({\n",
    "            \"epoch\": epoch,\n",
    "            \"train_loss\": train_loss,\n",
    "            \"train_accuracy\": train_acc,\n",
    "            \"val_loss\": val_loss,\n",
    "            \"val_accuracy\": val_acc\n",
    "        })\n",
    "\n",
    "\n",
    "if __name__ == \"__main__\":\n",
    "    sweep_config = {\n",
    "        \"method\": \"bayes\",\n",
    "        \"metric\": {\"name\": \"val_accuracy\", \"goal\": \"maximize\"},\n",
    "        \"parameters\": {\n",
    "            \"embed_size\": {\"values\": [32, 64, 128]},\n",
    "            \"hidden_size\": {\"values\": [32, 64, 128]},\n",
    "            \"num_layers\": {\"values\": [1, 2]},\n",
    "            \"cell_type\": {\"values\": [\"RNN\", \"GRU\", \"LSTM\"]},\n",
    "            \"dropout\": {\"values\": [0.2, 0.3]},\n",
    "            \"lr\": {\"min\": 0.0001, \"max\": 0.01},\n",
    "            \"batch_size\": {\"values\": [32, 64]},\n",
    "            \"beam_size\": {\"values\": [1, 3, 5]}  \n",
    "        }\n",
    "    }\n",
    "\n",
    "    sweep_id = wandb.sweep(sweep_config, project=\"dakshina-transliteration\")\n",
    "    wandb.agent(sweep_id, function=main, count=25)"
   ]
  },
  {
   "cell_type": "code",
   "execution_count": 3,
   "metadata": {
    "execution": {
     "iopub.execute_input": "2025-05-19T09:48:23.744179Z",
     "iopub.status.busy": "2025-05-19T09:48:23.743519Z",
     "iopub.status.idle": "2025-05-19T09:57:36.062143Z",
     "shell.execute_reply": "2025-05-19T09:57:36.061369Z",
     "shell.execute_reply.started": "2025-05-19T09:48:23.744156Z"
    },
    "trusted": true
   },
   "outputs": [
    {
     "name": "stdout",
     "output_type": "stream",
     "text": [
      "Epoch 1 Train Loss: 1.8303\n",
      "\n",
      " Test Accuracy: 17.44%\n",
      "ank             | Pred: आंक                  | Truth: अंक\n",
      "anka            | Pred: अनका                 | Truth: अंक\n",
      "ankit           | Pred: अनकित                | Truth: अंकित\n",
      "anakon          | Pred: अनकों                | Truth: अंकों\n",
      "ankhon          | Pred: अंकों                | Truth: अंकों\n",
      "ankon           | Pred: अनोकों               | Truth: अंकों\n",
      "angkor          | Pred: अंगोकर               | Truth: अंकोर\n",
      "ankor           | Pred: अंकोर                | Truth: अंकोर\n",
      "angaarak        | Pred: अंगरकक               | Truth: अंगारक\n",
      "angarak         | Pred: अंगरकक               | Truth: अंगारक\n",
      "Epoch 2 Train Loss: 1.0005\n",
      "\n",
      " Test Accuracy: 24.83%\n",
      "ank             | Pred: एंक                  | Truth: अंक\n",
      "anka            | Pred: अंका                 | Truth: अंक\n",
      "ankit           | Pred: अंकित                | Truth: अंकित\n",
      "anakon          | Pred: अनकों                | Truth: अंकों\n",
      "ankhon          | Pred: अंखों                | Truth: अंकों\n",
      "ankon           | Pred: अंकों                | Truth: अंकों\n",
      "angkor          | Pred: अंगकर                | Truth: अंकोर\n",
      "ankor           | Pred: अंकर                 | Truth: अंकोर\n",
      "angaarak        | Pred: अंगरक                | Truth: अंगारक\n",
      "angarak         | Pred: अंगरक                | Truth: अंगारक\n",
      "Epoch 3 Train Loss: 0.8257\n",
      "\n",
      " Test Accuracy: 28.19%\n",
      "ank             | Pred: एंक                  | Truth: अंक\n",
      "anka            | Pred: अंका                 | Truth: अंक\n",
      "ankit           | Pred: एंकित                | Truth: अंकित\n",
      "anakon          | Pred: अनाकों               | Truth: अंकों\n",
      "ankhon          | Pred: अंखों                | Truth: अंकों\n",
      "ankon           | Pred: एंकों                | Truth: अंकों\n",
      "angkor          | Pred: अंगोर                | Truth: अंकोर\n",
      "ankor           | Pred: एंकोर                | Truth: अंकोर\n",
      "angaarak        | Pred: अंगारक               | Truth: अंगारक\n",
      "angarak         | Pred: अंगारक               | Truth: अंगारक\n",
      "Epoch 4 Train Loss: 0.7340\n",
      "\n",
      " Test Accuracy: 31.45%\n",
      "ank             | Pred: एंक                  | Truth: अंक\n",
      "anka            | Pred: अंका                 | Truth: अंक\n",
      "ankit           | Pred: अंकित                | Truth: अंकित\n",
      "anakon          | Pred: अनकों                | Truth: अंकों\n",
      "ankhon          | Pred: अंखों                | Truth: अंकों\n",
      "ankon           | Pred: अंकों                | Truth: अंकों\n",
      "angkor          | Pred: अंगकर                | Truth: अंकोर\n",
      "ankor           | Pred: अंकोर                | Truth: अंकोर\n",
      "angaarak        | Pred: अंगारक               | Truth: अंगारक\n",
      "angarak         | Pred: अंगरक                | Truth: अंगारक\n",
      "Epoch 5 Train Loss: 0.6732\n",
      "\n",
      " Test Accuracy: 32.87%\n",
      "ank             | Pred: एंक                  | Truth: अंक\n",
      "anka            | Pred: अंका                 | Truth: अंक\n",
      "ankit           | Pred: एंकित                | Truth: अंकित\n",
      "anakon          | Pred: अनकों                | Truth: अंकों\n",
      "ankhon          | Pred: अंखों                | Truth: अंकों\n",
      "ankon           | Pred: एंकों                | Truth: अंकों\n",
      "angkor          | Pred: अंगकोर               | Truth: अंकोर\n",
      "ankor           | Pred: एंकोर                | Truth: अंकोर\n",
      "angaarak        | Pred: अंगारक               | Truth: अंगारक\n",
      "angarak         | Pred: अंगराक               | Truth: अंगारक\n",
      "Epoch 6 Train Loss: 0.6195\n",
      "\n",
      " Test Accuracy: 33.01%\n",
      "ank             | Pred: एंक                  | Truth: अंक\n",
      "anka            | Pred: अंका                 | Truth: अंक\n",
      "ankit           | Pred: अंकित                | Truth: अंकित\n",
      "anakon          | Pred: अनकों                | Truth: अंकों\n",
      "ankhon          | Pred: अंखों                | Truth: अंकों\n",
      "ankon           | Pred: एंकों                | Truth: अंकों\n",
      "angkor          | Pred: अंगोकर               | Truth: अंकोर\n",
      "ankor           | Pred: अंकोर                | Truth: अंकोर\n",
      "angaarak        | Pred: अंगारक               | Truth: अंगारक\n",
      "angarak         | Pred: अंगरक                | Truth: अंगारक\n",
      "Epoch 7 Train Loss: 0.5848\n",
      "\n",
      " Test Accuracy: 33.63%\n",
      "ank             | Pred: अंक                  | Truth: अंक\n",
      "anka            | Pred: अंका                 | Truth: अंक\n",
      "ankit           | Pred: अंकित                | Truth: अंकित\n",
      "anakon          | Pred: अनकों                | Truth: अंकों\n",
      "ankhon          | Pred: अंखों                | Truth: अंकों\n",
      "ankon           | Pred: अंकों                | Truth: अंकों\n",
      "angkor          | Pred: अंगकोर               | Truth: अंकोर\n",
      "ankor           | Pred: अंकोर                | Truth: अंकोर\n",
      "angaarak        | Pred: अंगारक               | Truth: अंगारक\n",
      "angarak         | Pred: अंगारक               | Truth: अंगारक\n",
      "Epoch 8 Train Loss: 0.5550\n",
      "\n",
      " Test Accuracy: 34.18%\n",
      "ank             | Pred: अंक                  | Truth: अंक\n",
      "anka            | Pred: अंका                 | Truth: अंक\n",
      "ankit           | Pred: अंकित                | Truth: अंकित\n",
      "anakon          | Pred: अनाकों               | Truth: अंकों\n",
      "ankhon          | Pred: आंखों                | Truth: अंकों\n",
      "ankon           | Pred: एंकोन                | Truth: अंकों\n",
      "angkor          | Pred: आंगोकर               | Truth: अंकोर\n",
      "ankor           | Pred: एंकोर                | Truth: अंकोर\n",
      "angaarak        | Pred: अंगारक               | Truth: अंगारक\n",
      "angarak         | Pred: अंगराक               | Truth: अंगारक\n",
      "Epoch 9 Train Loss: 0.5304\n",
      "\n",
      " Test Accuracy: 33.12%\n",
      "ank             | Pred: अंक                  | Truth: अंक\n",
      "anka            | Pred: अंका                 | Truth: अंक\n",
      "ankit           | Pred: अंकीत                | Truth: अंकित\n",
      "anakon          | Pred: अनकों                | Truth: अंकों\n",
      "ankhon          | Pred: अंखों                | Truth: अंकों\n",
      "ankon           | Pred: एंकों                | Truth: अंकों\n",
      "angkor          | Pred: अंगोकर               | Truth: अंकोर\n",
      "ankor           | Pred: एनकोर                | Truth: अंकोर\n",
      "angaarak        | Pred: अंगारक               | Truth: अंगारक\n",
      "angarak         | Pred: अंगराक               | Truth: अंगारक\n",
      "Epoch 10 Train Loss: 0.5098\n",
      "\n",
      " Test Accuracy: 34.70%\n",
      "ank             | Pred: अंक                  | Truth: अंक\n",
      "anka            | Pred: अंका                 | Truth: अंक\n",
      "ankit           | Pred: अंकित                | Truth: अंकित\n",
      "anakon          | Pred: अनाकों               | Truth: अंकों\n",
      "ankhon          | Pred: अंखों                | Truth: अंकों\n",
      "ankon           | Pred: अंकों                | Truth: अंकों\n",
      "angkor          | Pred: आंगोरय               | Truth: अंकोर\n",
      "ankor           | Pred: एनकोर                | Truth: अंकोर\n",
      "angaarak        | Pred: अंगारक               | Truth: अंगारक\n",
      "angarak         | Pred: अंगरक                | Truth: अंगारक\n",
      "\n",
      " Loading best model for final evaluation...\n",
      "\n",
      " Test Accuracy: 34.70%\n",
      "ank             | Pred: अंक                  | Truth: अंक\n",
      "anka            | Pred: अंका                 | Truth: अंक\n",
      "ankit           | Pred: अंकित                | Truth: अंकित\n",
      "anakon          | Pred: अनाकों               | Truth: अंकों\n",
      "ankhon          | Pred: अंखों                | Truth: अंकों\n",
      "ankon           | Pred: अंकों                | Truth: अंकों\n",
      "angkor          | Pred: आंगोरय               | Truth: अंकोर\n",
      "ankor           | Pred: एनकोर                | Truth: अंकोर\n",
      "angaarak        | Pred: अंगारक               | Truth: अंगारक\n",
      "angarak         | Pred: अंगरक                | Truth: अंगारक\n",
      "\n",
      " Predictions saved to: test_predictions.csv\n"
     ]
    }
   ],
   "source": [
    "import torch\n",
    "import torch.nn as nn\n",
    "from torch.utils.data import DataLoader, Dataset\n",
    "import pandas as pd\n",
    "import csv\n",
    "\n",
    "# ---------------- Dataset & Utils ----------------\n",
    "class TransliterationDataset(Dataset):\n",
    "    def __init__(self, pairs, input_vocab, output_vocab):\n",
    "        self.pairs = pairs\n",
    "        self.input_vocab = input_vocab\n",
    "        self.output_vocab = output_vocab\n",
    "        self.sos = output_vocab['<sos>']\n",
    "        self.eos = output_vocab['<eos>']\n",
    "\n",
    "    def __len__(self):\n",
    "        return len(self.pairs)\n",
    "\n",
    "    def __getitem__(self, idx):\n",
    "        source, target = self.pairs[idx]\n",
    "        input_ids = [self.input_vocab[c] for c in source]\n",
    "        target_ids = [self.sos] + [self.output_vocab[c] for c in target] + [self.eos]\n",
    "        return torch.tensor(input_ids), torch.tensor(target_ids)\n",
    "\n",
    "def load_pairs(path):\n",
    "    df = pd.read_csv(path, sep='\\t', header=None, names=['target', 'source', 'count'], dtype=str)\n",
    "    df.dropna(subset=[\"source\", \"target\"], inplace=True)\n",
    "    return list(zip(df['source'], df['target']))\n",
    "\n",
    "def build_vocab(pairs):\n",
    "    input_chars = set()\n",
    "    output_chars = set()\n",
    "    for src, tgt in pairs:\n",
    "        input_chars.update(src)\n",
    "        output_chars.update(tgt)\n",
    "    input_vocab = {c: i+1 for i, c in enumerate(sorted(input_chars))}\n",
    "    input_vocab['<pad>'] = 0\n",
    "    output_vocab = {c: i+3 for i, c in enumerate(sorted(output_chars))}\n",
    "    output_vocab.update({'<pad>': 0, '<sos>': 1, '<eos>': 2})\n",
    "    return input_vocab, output_vocab\n",
    "\n",
    "def collate_fn(batch):\n",
    "    inputs, targets = zip(*batch)\n",
    "    input_lens = [len(x) for x in inputs]\n",
    "    target_lens = [len(x) for x in targets]\n",
    "    inputs_padded = nn.utils.rnn.pad_sequence(inputs, batch_first=True, padding_value=0)\n",
    "    targets_padded = nn.utils.rnn.pad_sequence(targets, batch_first=True, padding_value=0)\n",
    "    return inputs_padded, targets_padded, input_lens, target_lens\n",
    "\n",
    "# ---------------- Models ----------------\n",
    "class Encoder(nn.Module):\n",
    "    def __init__(self, input_size, embed_size, hidden_size, num_layers, cell_type, dropout):\n",
    "        super().__init__()\n",
    "        self.embedding = nn.Embedding(input_size, embed_size, padding_idx=0)\n",
    "        rnn_cls = {'RNN': nn.RNN, 'GRU': nn.GRU, 'LSTM': nn.LSTM}[cell_type]\n",
    "        self.rnn = rnn_cls(embed_size, hidden_size, num_layers, batch_first=True, dropout=dropout if num_layers > 1 else 0)\n",
    "\n",
    "    def forward(self, x, lengths):\n",
    "        embedded = self.embedding(x)\n",
    "        packed = nn.utils.rnn.pack_padded_sequence(embedded, lengths, batch_first=True, enforce_sorted=False)\n",
    "        outputs, hidden = self.rnn(packed)\n",
    "        return hidden\n",
    "\n",
    "class Decoder(nn.Module):\n",
    "    def __init__(self, output_size, embed_size, hidden_size, num_layers, cell_type, dropout):\n",
    "        super().__init__()\n",
    "        self.embedding = nn.Embedding(output_size, embed_size, padding_idx=0)\n",
    "        rnn_cls = {'RNN': nn.RNN, 'GRU': nn.GRU, 'LSTM': nn.LSTM}[cell_type]\n",
    "        self.rnn = rnn_cls(embed_size, hidden_size, num_layers, batch_first=True, dropout=dropout if num_layers > 1 else 0)\n",
    "        self.fc = nn.Linear(hidden_size, output_size)\n",
    "\n",
    "    def forward(self, token, hidden):\n",
    "        x = self.embedding(token.unsqueeze(1))\n",
    "        output, hidden = self.rnn(x, hidden)\n",
    "        output = self.fc(output.squeeze(1))\n",
    "        return output, hidden\n",
    "\n",
    "class Seq2Seq(nn.Module):\n",
    "    def __init__(self, encoder, decoder):\n",
    "        super().__init__()\n",
    "        self.encoder = encoder\n",
    "        self.decoder = decoder\n",
    "\n",
    "    def forward(self, src, src_lens, tgt=None, teacher_forcing_ratio=0.5):\n",
    "        batch_size = src.size(0)\n",
    "        hidden = self.encoder(src, src_lens)\n",
    "        tgt_len = tgt.size(1)\n",
    "        outputs = torch.zeros(batch_size, tgt_len, self.decoder.fc.out_features).to(src.device)\n",
    "        input_token = tgt[:, 0]\n",
    "        for t in range(1, tgt_len):\n",
    "            output, hidden = self.decoder(input_token, hidden)\n",
    "            outputs[:, t] = output\n",
    "            teacher_force = torch.rand(1).item() < teacher_forcing_ratio\n",
    "            input_token = tgt[:, t] if teacher_force else output.argmax(1)\n",
    "        return outputs\n",
    "\n",
    "# ---------------- Train + Eval ----------------\n",
    "def train_model(model, dataloader, optimizer, criterion, device):\n",
    "    model.train()\n",
    "    total_loss = 0\n",
    "    for src, tgt, src_lens, _ in dataloader:\n",
    "        src, tgt = src.to(device), tgt.to(device)\n",
    "        optimizer.zero_grad()\n",
    "        output = model(src, src_lens, tgt)\n",
    "        loss = criterion(output[:, 1:].reshape(-1, output.shape[-1]), tgt[:, 1:].reshape(-1))\n",
    "        loss.backward()\n",
    "        optimizer.step()\n",
    "        total_loss += loss.item()\n",
    "    return total_loss / len(dataloader)\n",
    "\n",
    "def evaluate_and_save(model, dataloader, input_vocab, output_vocab, device, csv_path=None):\n",
    "    model.eval()\n",
    "    inv_input_vocab = {v: k for k, v in input_vocab.items()}\n",
    "    inv_output_vocab = {v: k for k, v in output_vocab.items()}\n",
    "    correct = 0\n",
    "    total = 0\n",
    "    results = []\n",
    "\n",
    "    with torch.no_grad():\n",
    "        for src, tgt, src_lens, _ in dataloader:\n",
    "            src = src.to(device)\n",
    "            hidden = model.encoder(src, src_lens)\n",
    "            input_token = torch.tensor([output_vocab['<sos>']] * src.size(0)).to(device)\n",
    "            decoded = []\n",
    "            for _ in range(20):\n",
    "                output, hidden = model.decoder(input_token, hidden)\n",
    "                input_token = output.argmax(1)\n",
    "                decoded.append(input_token)\n",
    "            decoded = torch.stack(decoded, dim=1)\n",
    "\n",
    "            for i in range(src.size(0)):\n",
    "                pred = ''.join([inv_output_vocab[t.item()] for t in decoded[i] if t.item() not in [output_vocab['<eos>'], 0]])\n",
    "                truth = ''.join([inv_output_vocab[t.item()] for t in tgt[i][1:-1]])\n",
    "                inp = ''.join([inv_input_vocab[t.item()] for t in src[i] if t.item() != 0])\n",
    "                results.append((inp, pred, truth))\n",
    "                if pred == truth:\n",
    "                    correct += 1\n",
    "                total += 1\n",
    "\n",
    "    acc = correct / total * 100\n",
    "    print(f\"\\n Test Accuracy: {acc:.2f}%\")\n",
    "    for inp, pred, truth in results[:10]:\n",
    "        print(f\"{inp:<15} | Pred: {pred:<20} | Truth: {truth}\")\n",
    "\n",
    "    if csv_path is not None:\n",
    "        with open(csv_path, mode='w', newline='', encoding='utf-8') as f:\n",
    "            writer = csv.writer(f)\n",
    "            writer.writerow(['Input', 'Prediction', 'GroundTruth'])\n",
    "            writer.writerows(results)\n",
    "        print(f\"\\n Predictions saved to: {csv_path}\")\n",
    "\n",
    "    return acc, results\n",
    "\n",
    "\n",
    "# ---------------- Run ----------------\n",
    "if __name__ == \"__main__\":\n",
    "    config = {\n",
    "        \"embed_size\": 128,\n",
    "        \"hidden_size\": 128,\n",
    "        \"num_layers\": 2,\n",
    "        \"cell_type\": \"LSTM\",\n",
    "        \"dropout\": 0.3,\n",
    "        \"batch_size\": 64,\n",
    "        \"lr\": 0.0019436347761833332,\n",
    "        \"epochs\": 10,\n",
    "    }\n",
    "\n",
    "\n",
    "    device = torch.device(\"cuda\" if torch.cuda.is_available() else \"cpu\")\n",
    "    train_pairs = load_pairs(\"/kaggle/input/dakshina-dataset/hi/lexicons/hi.translit.sampled.train.tsv\")\n",
    "    test_pairs = load_pairs(\"/kaggle/input/dakshina-dataset/hi/lexicons/hi.translit.sampled.test.tsv\")\n",
    "    input_vocab, output_vocab = build_vocab(train_pairs)\n",
    "    train_dataset = TransliterationDataset(train_pairs, input_vocab, output_vocab)\n",
    "    test_dataset = TransliterationDataset(test_pairs, input_vocab, output_vocab)\n",
    "\n",
    "    train_loader = DataLoader(train_dataset, batch_size=config[\"batch_size\"], shuffle=True, collate_fn=collate_fn)\n",
    "    test_loader = DataLoader(test_dataset, batch_size=1, shuffle=False, collate_fn=collate_fn)\n",
    "\n",
    "    encoder = Encoder(len(input_vocab), config[\"embed_size\"], config[\"hidden_size\"],\n",
    "                      config[\"num_layers\"], config[\"cell_type\"], config[\"dropout\"])\n",
    "    decoder = Decoder(len(output_vocab), config[\"embed_size\"], config[\"hidden_size\"],\n",
    "                      config[\"num_layers\"], config[\"cell_type\"], config[\"dropout\"])\n",
    "    model = Seq2Seq(encoder, decoder).to(device)\n",
    "\n",
    "    optimizer = torch.optim.Adam(model.parameters(), lr=config[\"lr\"])\n",
    "    criterion = nn.CrossEntropyLoss(ignore_index=0)\n",
    "\n",
    "    best_acc = 0\n",
    "    for epoch in range(config[\"epochs\"]):\n",
    "        train_loss = train_model(model, train_loader, optimizer, criterion, device)\n",
    "        print(f\"Epoch {epoch+1} Train Loss: {train_loss:.4f}\")\n",
    "        acc, results = evaluate_and_save(model, test_loader, input_vocab, output_vocab, device, csv_path=None)\n",
    "        if acc > best_acc:\n",
    "            best_acc = acc\n",
    "            torch.save(model.state_dict(), \"best_model.pth\")\n",
    "\n",
    "    print(\"\\n Loading best model for final evaluation...\")\n",
    "    model.load_state_dict(torch.load(\"best_model.pth\"))\n",
    "\n",
    "    # Save predictions CSV here\n",
    "    evaluate_and_save(model, test_loader, input_vocab, output_vocab, device, csv_path=\"test_predictions.csv\")\n"
   ]
  },
  {
   "cell_type": "code",
   "execution_count": null,
   "metadata": {
    "trusted": true
   },
   "outputs": [],
   "source": []
  },
  {
   "cell_type": "code",
   "execution_count": null,
   "metadata": {},
   "outputs": [],
   "source": []
  }
 ],
 "metadata": {
  "kaggle": {
   "accelerator": "nvidiaTeslaT4",
   "dataSources": [
    {
     "datasetId": 7381253,
     "sourceId": 11757835,
     "sourceType": "datasetVersion"
    }
   ],
   "dockerImageVersionId": 31040,
   "isGpuEnabled": true,
   "isInternetEnabled": true,
   "language": "python",
   "sourceType": "notebook"
  },
  "kernelspec": {
   "display_name": "Python 3",
   "language": "python",
   "name": "python3"
  },
  "language_info": {
   "codemirror_mode": {
    "name": "ipython",
    "version": 3
   },
   "file_extension": ".py",
   "mimetype": "text/x-python",
   "name": "python",
   "nbconvert_exporter": "python",
   "pygments_lexer": "ipython3",
   "version": "3.11.11"
  }
 },
 "nbformat": 4,
 "nbformat_minor": 4
}
