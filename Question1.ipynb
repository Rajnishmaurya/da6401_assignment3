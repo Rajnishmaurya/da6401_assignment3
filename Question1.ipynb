{
 "cells": [
  {
   "cell_type": "code",
   "execution_count": null,
   "id": "2cdc3844",
   "metadata": {
    "vscode": {
     "languageId": "plaintext"
    }
   },
   "outputs": [],
   "source": [
    "import torch\n",
    "import torch.nn as nn\n",
    "\n",
    "class Seq2Seq(nn.Module):\n",
    "    def __init__(self, input_vocab_size, output_vocab_size, emb_dim=128, hidden_size=256, \n",
    "                 rnn_type='LSTM', num_layers=1, device='cpu'):\n",
    "        super(Seq2Seq, self).__init__()\n",
    "        self.device = device\n",
    "        self.emb_dim = emb_dim\n",
    "        self.hidden_size = hidden_size\n",
    "        self.rnn_type = rnn_type.upper()\n",
    "\n",
    "        self.embedding = nn.Embedding(input_vocab_size, emb_dim)\n",
    "        self.target_embedding = nn.Embedding(output_vocab_size, emb_dim)\n",
    "\n",
    "        rnn_cls = {\n",
    "            'RNN': nn.RNN,\n",
    "            'LSTM': nn.LSTM,\n",
    "            'GRU': nn.GRU\n",
    "        }[self.rnn_type]\n",
    "\n",
    "        self.encoder = rnn_cls(input_size=emb_dim, hidden_size=hidden_size, \n",
    "                               num_layers=num_layers, batch_first=True)\n",
    "\n",
    "        self.decoder = rnn_cls(input_size=emb_dim, hidden_size=hidden_size, \n",
    "                               num_layers=num_layers, batch_first=True)\n",
    "\n",
    "        self.output_layer = nn.Linear(hidden_size, output_vocab_size)\n",
    "\n",
    "    def forward(self, source, target):\n",
    "        \n",
    "        embedded_src = self.embedding(source)\n",
    "        encoder_outputs, hidden = self.encoder(embedded_src)\n",
    "\n",
    "        embedded_tgt = self.target_embedding(target)\n",
    "        decoder_outputs, _ = self.decoder(embedded_tgt, hidden)\n",
    "        output = self.output_layer(decoder_outputs)\n",
    "\n",
    "        return output  "
   ]
  }
 ],
 "metadata": {
  "language_info": {
   "name": "python"
  }
 },
 "nbformat": 4,
 "nbformat_minor": 5
}
